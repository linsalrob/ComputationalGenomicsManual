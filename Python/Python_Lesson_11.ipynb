{
 "cells": [
  {
   "cell_type": "markdown",
   "metadata": {
    "id": "wjZKXZ9dXJUr"
   },
   "source": [
    "<a name=\"top\"></a>\n",
    "# Introduction to Python Programming for Bioinformatics. Lesson 11\n",
    "\n",
    "<details>\n",
    "<summary>\n",
    "About this notebook\n",
    "</summary>\n",
    "\n",
    "This notebook was originally written by [Marc Cohen](https://github.com/mco-gh), an engineer at Google. The original source can be found on [Marc's short link service](https://mco.fyi/), and starts with [Python lesson 0](https://mco.fyi/py0), and I encourage you to work through that notebook if you find some details missing here.\n",
    "\n",
    "Rob Edwards edited the notebook, adapted it for bioinformatics, using some simple geneticy examples, condensed it into a single notebook, and rearranged some of the lessons, so if some of it does not make sense, it is Rob's fault!\n",
    "\n",
    "It is intended as a hands-on companion to an in-person course, and if you would like Rob to teach this course (or one of the other courses) don't hesitate to get in touch with him.\n",
    "\n",
    "</details>\n",
    "<details>\n",
    "<summary>\n",
    "Using this notebook\n",
    "</summary>\n",
    "\n",
    "You can download the original version of this notebook from [GitHub](https://linsalrob.github.io/ComputationalGenomicsManual/Python/Python_Lesson_9.ipynb) and from [Rob's Google Drive]()\n",
    "\n",
    "**You should make your own copy of this notebook by selecting File->Save a copy in Drive from the menu bar above, and then you can edit the code and run it as your own**\n",
    "\n",
    "There are several lessons, and you can do them in any order. I've tried to organise them in the order I think most appropriate, but you may disagree!\n",
    "\n",
    "</details>"
   ]
  },
  {
   "cell_type": "markdown",
   "metadata": {
    "id": "_Km_oeNBXJUy"
   },
   "source": [
    "<a name=\"lessons\"></a>\n",
    "# Lesson Links\n",
    "\n",
    "* [Lesson 10 - Translating a DNA sequence](#Lesson-10---Translating-a-DNA-sequence)\n",
    "\n",
    "Previous Lesson: [GitHub](Python_Lesson_9.ipynb) | [Google Colab](https://colab.research.google.com/drive/1JGRJpUPKkkVukyNvtfEJYVVCcdpkyRLZ)\n",
    "\n",
    "Next Lesson: GitHub | Google Colab\n",
    "\n",
    "<!-- #region id=\"qXu_bY7yPpsS\" -->\n",
    "\n",
    "# Lesson 11 - BioPython\n",
    "\n",
    "Earlier, (in lessons 8 and 9) we talked about modules and using other people's code. One of the most important libaries for bioinformatics is called [BioPython](https://biopython.org/). There is a [complete tutorial on BioPython](https://biopython.org/DIST/docs/tutorial/Tutorial.html), and the BioPython group also provide [an excellent cookbook of recipes](https://biopython.org/wiki/Category%3ACookbook) that will help you out!\n",
    "\n",
    "BioPython is designed to help with common biological problems, and is particularly good at:\n",
    "\n",
    "* Parsing files\n",
    "  * fasta\n",
    "  * fastq\n",
    "  * GenBank\n",
    "* Manipulating sequences\n",
    "  * Reverse complement\n",
    "  * Translating\n",
    "  * Aligning (wrappers to aligners)\n",
    "  * Slicing\n",
    "* Connecting to biological databases\n",
    "\n",
    "**Before you carry on!** Make sure you have installed biopython by uploading the `requirements.txt` file and running the installation command:\n"
   ]
  },
  {
   "cell_type": "markdown",
   "id": "e74d3f2c",
   "metadata": {},
   "source": [
    "```\n",
    "!pip install -r requirements.txt\n",
    "```\n"
   ]
  },
  {
   "cell_type": "markdown",
   "id": "60a02ca5",
   "metadata": {},
   "source": [
    "Now we can `import` biopython and create a new sequence object. \n",
    "\n",
    "Here is how we would translate a DNA sequence\n"
   ]
  },
  {
   "cell_type": "markdown",
   "id": "c8833805",
   "metadata": {},
   "source": [
    "```\n",
    "from Bio.Seq import Seq\n",
    "dna = Seq(\"TCGCGCACGCTGATCGTGGGGTGA\")\n",
    "dna.translate()\n",
    "```\n",
    "\n"
   ]
  },
  {
   "cell_type": "markdown",
   "id": "6d205b3a",
   "metadata": {},
   "source": [
    "Can you use BioPython to answer the question from [Lesson 10](https://colab.research.google.com/drive/1trXzcwT0VnmdnVQY_Wj9b__pXVY8_7GJ): translate these sequences:\n",
    "\n",
    "```\n",
    "TCGCGCACGCTGATCGTGGGGTGA\n",
    "AGTAAAACTTTAATTGTTGGTTAA\n",
    "```\n",
    "\n",
    "## Reading a fastq file\n",
    "\n",
    "Here is some simple code to read a fastq file. \n",
    "\n",
    "Note that we only read 10 lines from this fastq file! Often, fastq files are _huge_ and so this just provides a glimpse of the sequences and their qualities.\n"
   ]
  },
  {
   "cell_type": "markdown",
   "id": "a47bd5ab",
   "metadata": {},
   "source": [
    "```\n",
    "from Bio import SeqIO\n",
    "i = 0\n",
    "for sequence in SeqIO.parse('barcode01.fastq', 'fastq'):\n",
    "    i += 1\n",
    "    print(sequence.seq)\n",
    "    print(sequence.letter_annotations[\"phred_quality\"])\n",
    "    if 10 == i:\n",
    "        break\n",
    "```\n",
    "\n",
    "\n",
    "\n"
   ]
  }
 ],
 "metadata": {
  "colab": {
   "provenance": [
    {
     "file_id": "15KAyGvriQwRoXQa3t70jmi3XumKBxDRi",
     "timestamp": 1718237753735
    }
   ]
  },
  "kernelspec": {
   "display_name": "Python 3 (ipykernel)",
   "language": "python",
   "name": "python3"
  },
  "language_info": {
   "codemirror_mode": {
    "name": "ipython",
    "version": 3
   },
   "file_extension": ".py",
   "mimetype": "text/x-python",
   "name": "python",
   "nbconvert_exporter": "python",
   "pygments_lexer": "ipython3",
   "version": "3.9.5"
  }
 },
 "nbformat": 4,
 "nbformat_minor": 0
}
