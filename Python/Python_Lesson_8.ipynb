{
 "cells": [
  {
   "cell_type": "markdown",
   "metadata": {
    "id": "wjZKXZ9dXJUr"
   },
   "source": [
    "<a name=\"top\"></a>\n",
    "# Introduction to Python Programming for Bioinformatics. Lesson 8\n",
    "\n",
    "<details>\n",
    "<summary>\n",
    "About this notebook\n",
    "</summary>\n",
    "\n",
    "This notebook was originally written by [Marc Cohen](https://github.com/mco-gh), an engineer at Google. The original source can be found on [Marc's short link service](https://mco.fyi/), and starts with [Python lesson 0](https://mco.fyi/py0), and I encourage you to work through that notebook if you find some details missing here.\n",
    "\n",
    "Rob Edwards edited the notebook, adapted it for bioinformatics, using some simple geneticy examples, condensed it into a single notebook, and rearranged some of the lessons, so if some of it does not make sense, it is Rob's fault!\n",
    "\n",
    "It is intended as a hands-on companion to an in-person course, and if you would like Rob to teach this course (or one of the other courses) don't hesitate to get in touch with him.\n",
    "\n",
    "</details>\n",
    "<details>\n",
    "<summary>\n",
    "Using this notebook\n",
    "</summary>\n",
    "\n",
    "You can download the original version of this notebook from [GitHub](https://linsalrob.github.io/ComputationalGenomicsManual/Python/Python_Lesson_8.ipynb) and from [Rob's Google Drive]()\n",
    "\n",
    "**You should make your own copy of this notebook by selecting File->Save a copy in Drive from the menu bar above, and then you can edit the code and run it as your own**\n",
    "\n",
    "There are several lessons, and you can do them in any order. I've tried to organise them in the order I think most appropriate, but you may disagree!\n",
    "</details>\n"
   ]
  },
  {
   "cell_type": "markdown",
   "metadata": {
    "id": "_Km_oeNBXJUy"
   },
   "source": [
    "<a name=\"lessons\"></a>\n",
    "# Lesson Links\n",
    "\n",
    "* [Lesson 8 - Modules](#Lesson-8---Modules)\n",
    "  * [The from Statement](#The-from-Statement)\n",
    "  * [When to use import vs. from](#When-to-use-import-vs.-from)\n",
    "\n",
    "Previous Lesson: [GitHub](Python_Lesson_7.ipynb) | [Google Colab](https://colab.research.google.com/drive/1Uq9ysM5TxMsiS9vElA53Ihl63ONOYDTA)\n",
    "\n",
    "Next Lesson: [GitHub](Python_Lesson_9.ipynb) | [Google Colab](https://colab.research.google.com/drive/1JGRJpUPKkkVukyNvtfEJYVVCcdpkyRLZ)\n"
   ]
  },
  {
   "cell_type": "markdown",
   "metadata": {
    "id": "f-U1JoLp1gcI"
   },
   "source": [
    "# Lesson 8 - Modules\n",
    "\n",
    "As we saw in the previous section, we can use modules that have been written by someone else.\n",
    "\n",
    "`import` is how you use someone else's code.\n",
    "\n",
    "Let's say we want to generate a random number between 1 and 100. We use the Python `random` module, like this..."
   ]
  },
  {
   "cell_type": "code",
   "execution_count": null,
   "metadata": {
    "colab": {
     "base_uri": "https://localhost:8080/"
    },
    "executionInfo": {
     "elapsed": 10,
     "status": "ok",
     "timestamp": 1718613810118,
     "user": {
      "displayName": "Rob Edwards",
      "userId": "17780279723170493443"
     },
     "user_tz": -570
    },
    "id": "I-UIGmb5cIM6",
    "lines_to_next_cell": 0,
    "outputId": "07dd653a-d753-473e-861f-c8c34d873d5a"
   },
   "outputs": [],
   "source": [
    "import random\n",
    "\n",
    "def next_base():\n",
    "  '''\n",
    "     This function generates a DNA sequence base.\n",
    "     It's how Illumina sequencing works.\n",
    "  '''\n",
    "  bases = [\"A\", \"G\", \"T\", \"C\"]\n",
    "  return bases[random.randint(0, 3)]\n",
    "\n",
    "\n",
    "print(\"Here is a new DNA sequence for you:\")\n",
    "for i in range(150):\n",
    "    print(next_base(), end=\"\")\n",
    "print()"
   ]
  },
  {
   "cell_type": "markdown",
   "metadata": {
    "id": "1Yq51ZLi9mpi"
   },
   "source": [
    "## The `from` Statement\n",
    "\n",
    "* You can also import code using this syntax...\n",
    "```\n",
    "from module-name import *\n",
    "```\n",
    "* This says loads all the names (*) from the designated module\n",
    "* With this kind of import, the module names get loaded into the global namespace, which means you don't need to qualify your accesses with the `module-name.` prefix.\n",
    "* For example, you could do this...\n",
    "```\n",
    "from random import *\n",
    "rand_val = randint(0, 3)\n",
    "# I didn't need to use random.randint(0, 3)\n",
    "```\n",
    "\n",
    "* You can also import selected names from a module\n",
    "```\n",
    "from random import randint, choice\n",
    "```\n",
    "* This says load only those names explicitly listed (`choice` and `randint`, in this case) from the designated module into the global namespace.\n",
    "* As in the previous example, after this import the names are loaded into the common global namespace so there is no need to qualify them...\n",
    "```\n",
    "from random import randint, choice\n",
    "\n",
    "bases = [\"A\", \"G\", \"T\", \"C\"]\n",
    "print(bases[randint(0,30])\n",
    "print(choice(bases))\n",
    "```\n",
    "\n"
   ]
  },
  {
   "cell_type": "markdown",
   "metadata": {
    "id": "iV5LLDaw92Ea"
   },
   "source": [
    "## When to use `import` vs. `from`\n",
    "* Generally, it's better to use `import` because...\n",
    "  * less risk of name clashes and other surprises\n",
    "  * makes your code more explicit and clear\n",
    "* Occasionally, you may find that you use a module’s functions so frequently that it pays to import it directly into the global namespace with `from`.\n",
    "* That’s fine but do so carefully and watch out for name conflicts.\n"
   ]
  },
  {
   "cell_type": "markdown",
   "metadata": {},
   "source": [
    "[Return to the lesson listing](#lessons)\n",
    "\n",
    "[Return to the top of the notebook](#top)"
   ]
  }
 ],
 "metadata": {
  "colab": {
   "provenance": [
    {
     "file_id": "15KAyGvriQwRoXQa3t70jmi3XumKBxDRi",
     "timestamp": 1718237753735
    }
   ]
  },
  "kernelspec": {
   "display_name": "Python 3 (ipykernel)",
   "language": "python",
   "name": "python3"
  },
  "language_info": {
   "codemirror_mode": {
    "name": "ipython",
    "version": 3
   },
   "file_extension": ".py",
   "mimetype": "text/x-python",
   "name": "python",
   "nbconvert_exporter": "python",
   "pygments_lexer": "ipython3",
   "version": "3.9.5"
  }
 },
 "nbformat": 4,
 "nbformat_minor": 4
}
