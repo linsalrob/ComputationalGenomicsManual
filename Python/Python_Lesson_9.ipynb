{
 "cells": [
  {
   "cell_type": "markdown",
   "metadata": {
    "id": "wjZKXZ9dXJUr"
   },
   "source": [
    "# Introduction to Python Programming for Bioinformatics\n",
    "\n",
    "## About this notebook\n",
    "\n",
    "This notebook was originally written by [Marc Cohen](https://github.com/mco-gh), an engineer at Google. The original source can be found on [Marc's short link service](https://mco.fyi/), and starts with [Python lesson 0](https://mco.fyi/py0), and I encourage you to work through that notebook if you find some details missing here.\n",
    "\n",
    "Rob Edwards edited the notebook, adapted it for bioinformatics, using some simple geneticy examples, condensed it into a single notebook, and rearranged some of the lessons, so if some of it does not make sense, it is Rob's fault!\n",
    "\n",
    "It is intended as a hands-on companion to an in-person course, and if you would like Rob to teach this course (or one of the other courses) don't hesitate to get in touch with him.\n",
    "\n",
    "## Using this notebook\n",
    "\n",
    "You can download the original version of this notebook from [GitHub](https://linsalrob.github.io/ComputationalGenomicsManual/Python/Python_Lesson_9.ipynb) and from [Rob's Google Drive]()\n",
    "\n",
    "**You should make your own copy of this notebook by selecting File->Save a copy in Drive from the menu bar above, and then you can edit the code and run it as your own**\n",
    "\n",
    "There are several lessons, and you can do them in any order. I've tried to organise them in the order I think most appropriate, but you may disagree!\n",
    "\n"
   ]
  },
  {
   "cell_type": "markdown",
   "metadata": {
    "id": "_Km_oeNBXJUy"
   },
   "source": [
    "# Lesson Links\n",
    "\n",
    "* [Lesson 9 - Finding and installing other peoples code](#Lesson-9---Finding-and-installing-other-peoples-code)\n",
    "\n",
    "[Previous Lesson](Python_Lesson_8.ipynb) | [Next Lesson](Python_Lesson_10.ipynb)\n",
    "\n",
    "<!-- #region id=\"qXu_bY7yPpsS\" -->\n",
    "\n",
    "# Lesson 9 - Finding and installing other peoples code\n",
    "\n",
    "The beautiful thing about open source software is that there is a _lot_ of it, and you can have it all. You don't need to write all the code frome scratch, instead you can re-use code that other poeple have already written.\n",
    "\n",
    "For Python, the main repository is called [the Python Package Index](https://pypi.org/) or PyPi.\n",
    "\n",
    "You can choose any of the code there, and install it to make things easier for you.\n",
    "\n",
    "Usually, we use a program called `pip` to automatically download and install files. For example, to install the [pydna_repeatfinder](https://pypi.org/project/PyDNARepeatFinder/) you could use the command:\n",
    "\n",
    "```\n",
    "pip install PyDNARepeatFinder\n",
    "```\n",
    "\n",
    "Often, we want to install the same repositories in different places (e.g, if we are working on clusters, laptops, desktops, etc), and so we use a [pip requirements.txt file](https://pip.pypa.io/en/stable/reference/requirements-file-format/). (However, you can call the file whatever you like!\n",
    "\n",
    "To install the modules we are going to use later, download the [requirements.txt](https://raw.githubusercontent.com/linsalrob/ComputationalGenomicsManual/master/Python/requirements.txt) file from GitHub to your computer. Click on the folder icon on the left, and then drop the `requirements.txt` file there to upload it to Google Colab. Note that you will see a warning about the file being deleted, and you don't have to worry about that because you can always download it from GitHub again!\n",
    "\n",
    "Next, we ask `pip` to install the code. This might take a moment, and it might also tell you that some modules are already provided. That is OK, they won't be reinstalled."
   ]
  },
  {
   "cell_type": "code",
   "execution_count": null,
   "metadata": {
    "id": "LQfHNd8YYNTh"
   },
   "outputs": [],
   "source": [
    "  !pip install -r requirements.txt"
   ]
  },
  {
   "cell_type": "markdown",
   "id": "75201e3a",
   "metadata": {},
   "source": [
    "[Previous Lesson](Python_Lesson_8.ipynb) | [Next Lesson](Python_Lesson_10.ipynb)\n"
   ]
  }
 ],
 "metadata": {
  "colab": {
   "provenance": [
    {
     "file_id": "15KAyGvriQwRoXQa3t70jmi3XumKBxDRi",
     "timestamp": 1718237753735
    }
   ]
  },
  "kernelspec": {
   "display_name": "Python 3 (ipykernel)",
   "language": "python",
   "name": "python3"
  },
  "language_info": {
   "codemirror_mode": {
    "name": "ipython",
    "version": 3
   },
   "file_extension": ".py",
   "mimetype": "text/x-python",
   "name": "python",
   "nbconvert_exporter": "python",
   "pygments_lexer": "ipython3",
   "version": "3.9.5"
  }
 },
 "nbformat": 4,
 "nbformat_minor": 0
}
