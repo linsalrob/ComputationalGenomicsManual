{
 "cells": [
  {
   "cell_type": "markdown",
   "metadata": {
    "id": "wjZKXZ9dXJUr"
   },
   "source": [
    "<a name=\"top\"></a>\n",
    "# Introduction to Python Programming for Bioinformatics. Lesson 12\n",
    "\n",
    "<details>\n",
    "<summary>\n",
    "About this notebook\n",
    "</summary>\n",
    "\n",
    "This notebook was originally written by [Marc Cohen](https://github.com/mco-gh), an engineer at Google. The original source can be found on [Marc's short link service](https://mco.fyi/), and starts with [Python lesson 0](https://mco.fyi/py0), and I encourage you to work through that notebook if you find some details missing here.\n",
    "\n",
    "Rob Edwards edited the notebook, adapted it for bioinformatics, using some simple geneticy examples, condensed it into a single notebook, and rearranged some of the lessons, so if some of it does not make sense, it is Rob's fault!\n",
    "\n",
    "It is intended as a hands-on companion to an in-person course, and if you would like Rob to teach this course (or one of the other courses) don't hesitate to get in touch with him.\n",
    "\n",
    "</details>\n",
    "<details>\n",
    "<summary>\n",
    "Using this notebook\n",
    "</summary>\n",
    "\n",
    "You can download the original version of this notebook from [GitHub](https://linsalrob.github.io/ComputationalGenomicsManual/Python/Python_Lesson_9.ipynb) and from [Rob's Google Drive]()\n",
    "\n",
    "**You should make your own copy of this notebook by selecting File->Save a copy in Drive from the menu bar above, and then you can edit the code and run it as your own**\n",
    "\n",
    "There are several lessons, and you can do them in any order. I've tried to organise them in the order I think most appropriate, but you may disagree!\n",
    "\n",
    "</details>"
   ]
  },
  {
   "cell_type": "markdown",
   "metadata": {
    "id": "_Km_oeNBXJUy"
   },
   "source": [
    "<a name=\"lessons\"></a>\n",
    "# Lesson Links\n",
    "\n",
    "* [Lesson 12 - Plotting data with Pandas and Seaborn](#Lesson-12---Plotting-data-with-Pandas-and-Seaborn)\n",
    "\n",
    "Previous Lesson: [GitHub](Python_Lesson_11.ipynb) | [Google Colab](https://colab.research.google.com/drive/1N2WL7WDjUQkb7BLWqKYALWCwsUEAVVdf)\n",
    "\n",
    "Next Lesson: GitHub | Google Colab\n",
    "\n",
    "<!-- #region id=\"qXu_bY7yPpsS\" -->\n",
    "\n",
    "# Lesson 12 - Pandas and Seaborn\n",
    "\n",
    "There are a few essential libraries for data analysis that we always use.\n",
    "\n",
    "<details>\n",
    "<summary>\n",
    "numpy\n",
    "</summary>\n",
    "The name \"NumPy\" stands for \"Numerical Python.\" It reflects the library's primary purpose of providing support for large, multi-dimensional arrays and matrices, along with a collection of mathematical functions to operate on these arrays. NumPy is fundamental to scientific computing in Python, and its name succinctly captures its focus on numerical operations in Python.\n",
    "</details>\n",
    "<details>\n",
    "<summary>\n",
    "matplotlib\n",
    "</summary>\n",
    "The name \"matplotlib\" is a combination of \"MATLAB\" and \"plotting.\" The library's creator, John D. Hunter, developed matplotlib as a Python alternative to MATLAB, which is a proprietary software used for numerical computing and data visualization. By combining \"MATLAB\" with \"plot,\" Hunter aimed to create a library that offered similar functionality for generating plots and graphs in Python. Thus, the name \"matplotlib\" reflects its purpose and inspiration from MATLAB's plotting capabilities.\n",
    "</details>\n",
    "<details>\n",
    "<summary>\n",
    "pandas\n",
    "</summary>\n",
    "The name \"pandas\" is derived from the term \"panel data,\" which refers to multidimensional data involving measurements over time. The original author of the library, Wes McKinney, chose the name to reflect its intended use for data analysis and manipulation, particularly for time series and cross-sectional data. The name is also a playful nod to the pandas bear, as it is an easy-to-remember and friendly-sounding name for the library.\n",
    "</details>\n",
    "<details>\n",
    "<summary>\n",
    "seaborn\n",
    "</summary>\n",
    "The name \"seaborn\" is inspired by the natural world, specifically the ocean. The creator of the library, Michael Waskom, chose the name as a nod to the marine theme, which is reflected in the library's aesthetic design and color palettes. Seaborn is built on top of matplotlib and provides a high-level interface for drawing attractive and informative statistical graphics. The name aims to evoke a sense of beauty and simplicity in visualizing data, much like the serene and vast nature of the sea.\n",
    "</details>\n",
    "\n",
    "Normally, we use `pandas` and `seaborn` as they are \"high-level\" languages, and then we lean on `numpy` and `matplotlib` when we have to.\n",
    "\n",
    "> **Top tip:** Use AI (Gemini, ChatGPT, Copilot) to show you how to do things using `pandas` and `seaborn`. They all have mad skillz\n",
    "\n",
    "<!-- # endregion -->\n"
   ]
  },
  {
   "cell_type": "markdown",
   "metadata": {
    "id": "QN_GgfICDjCj"
   },
   "source": [
    "### Pandas\n",
    "\n",
    "We use pandas to read in a dataframe and manipulate it. You can slice data, change data, and filter the frame.\n",
    "\n",
    "In this example, we are going to plot the average RPKM for a few phages in different environments.\n",
    "\n",
    "First, let's import our library. Notice here we are using abbreviations for the different libraries (even though I said don't use two letter variable names!)\n",
    "\n",
    "These are really standard abbreviations, and pretty much every help document you see will use the same ones."
   ]
  },
  {
   "cell_type": "markdown",
   "metadata": {
    "id": "3RFR6wHxJ9Xi"
   },
   "source": [
    "## Seaborn\n",
    "\n",
    "Seaborn provides well thought out default options, but you can also specify lots of different variants on colours, themes, and so on. I also rely a lot on the example graphs that you can plot with seaborn to give ideas for data visualisation.\n",
    "\n",
    "* [example graph options](https://seaborn.pydata.org/examples/index.html)\n",
    "* [seaborn themes](http://seaborn.pydata.org/tutorial/aesthetics.html)\n",
    "* [seaborn colour palettes](https://seaborn.pydata.org/tutorial/color_palettes.html)\n",
    "* [seaborn tutorial](https://seaborn.pydata.org/tutorial.html)"
   ]
  },
  {
   "cell_type": "code",
   "execution_count": null,
   "metadata": {
    "executionInfo": {
     "elapsed": 3952,
     "status": "ok",
     "timestamp": 1719468666185,
     "user": {
      "displayName": "Rob Edwards",
      "userId": "17780279723170493443"
     },
     "user_tz": -570
    },
    "id": "DM57qirzDiCv"
   },
   "outputs": [],
   "source": [
    "import pandas as pd\n",
    "import numpy as np\n",
    "import matplotlib.pyplot as plt\n",
    "import seaborn as sns"
   ]
  },
  {
   "cell_type": "markdown",
   "metadata": {
    "id": "U0g-K8HLEDyM"
   },
   "source": [
    "Now let's open the data file and see what's there. You can [download the data from GitHub](https://github.com/linsalrob/ComputationalGenomicsManual/raw/master/Python/BcSamples.tsv.gz) and upload it to Google Colab by dropping it in the file space to the left like we did before. However, here we are accessing the file directly from GitHub into Pandas and so you don't need to do that step!\n",
    "\n",
    "Notice that once again this file is `gzip` compressed, and we can just open that using `pandas`"
   ]
  },
  {
   "cell_type": "code",
   "execution_count": null,
   "metadata": {
    "colab": {
     "base_uri": "https://localhost:8080/",
     "height": 423
    },
    "executionInfo": {
     "elapsed": 894,
     "status": "ok",
     "timestamp": 1719468693950,
     "user": {
      "displayName": "Rob Edwards",
      "userId": "17780279723170493443"
     },
     "user_tz": -570
    },
    "id": "_Ac5_kzKEcwe",
    "outputId": "415be88e-8ab5-489d-b388-e73b30f44907"
   },
   "outputs": [],
   "source": [
    "# If you want to upload the file, uncomment the next line and comment out the line that gets the file from GitHub\n",
    "# df = pd.read_csv(\"BcSamples.tsv.gz\", sep=\"\\t\", compression='gzip')\n",
    "df = pd.read_csv(\"https://github.com/linsalrob/ComputationalGenomicsManual/raw/master/Python/BcSamples.tsv.gz\", sep=\"\\t\", compression='gzip')\n",
    "df"
   ]
  },
  {
   "cell_type": "code",
   "execution_count": null,
   "metadata": {
    "colab": {
     "base_uri": "https://localhost:8080/",
     "height": 496
    },
    "executionInfo": {
     "elapsed": 1156,
     "status": "ok",
     "timestamp": 1719469020636,
     "user": {
      "displayName": "Rob Edwards",
      "userId": "17780279723170493443"
     },
     "user_tz": -570
    },
    "id": "GiFKRsS5Vw88",
    "outputId": "ba7890f4-b7c5-48da-b532-8169d0c6d5c9"
   },
   "outputs": [],
   "source": [
    "# @title Distribution of RPK Values by Phage\n",
    "\n",
    "import matplotlib.pyplot as plt\n",
    "\n",
    "# Assuming your data is in a pandas DataFrame called 'df'\n",
    "\n",
    "plt.figure(figsize=(10, 6))\n",
    "\n",
    "df.boxplot(column='RPK', by='Phage')\n",
    "plt.xlabel('Phage')\n",
    "plt.ylabel('RPK Value')\n",
    "_ = plt.title('Distribution of RPK Values by Phage')"
   ]
  },
  {
   "cell_type": "markdown",
   "metadata": {
    "id": "jvqyNOmhGKj8"
   },
   "source": [
    "In this data frame, we have mapped reads from different `Runs` against our phage genomes. The runs come from the SRA, and the [SRA Metadata is described here](https://edwards.flinders.edu.au/sra-metadata/). (_Note_: because these samples all start EXX they actually come from the ENA not the SRA!)\n",
    "\n",
    "The key point is:\n",
    "\n",
    "> A project (ERP) has one or more samples. </br>\n",
    "> A sample (ERS) has one or more experiments (ERX).</br>\n",
    "> An experiment has one or more runs (ERR).\n"
   ]
  },
  {
   "cell_type": "markdown",
   "metadata": {
    "id": "AapU4D6JG9mz"
   },
   "source": [
    "### Step 1.\n",
    "\n",
    "Let's group all the phage and the projects and calculate the average RPK (reads per kb) for each sample."
   ]
  },
  {
   "cell_type": "code",
   "execution_count": null,
   "metadata": {
    "colab": {
     "base_uri": "https://localhost:8080/",
     "height": 206
    },
    "executionInfo": {
     "elapsed": 400,
     "status": "ok",
     "timestamp": 1719470493220,
     "user": {
      "displayName": "Rob Edwards",
      "userId": "17780279723170493443"
     },
     "user_tz": -570
    },
    "id": "Wqk8hR_0E7Qd",
    "outputId": "60c25a70-2e51-4ae2-9bd9-f02b4f5bbc87"
   },
   "outputs": [],
   "source": [
    "average_rpk = df.groupby(['Project', 'Phage'])['RPK'].mean().reset_index()\n",
    "average_rpk.head()"
   ]
  },
  {
   "cell_type": "markdown",
   "metadata": {
    "id": "QovPB2HNHzWI"
   },
   "source": [
    "Here, we make a violin plot of our data, which just checks to see if our distributions per phage are correct."
   ]
  },
  {
   "cell_type": "code",
   "execution_count": null,
   "metadata": {
    "colab": {
     "base_uri": "https://localhost:8080/",
     "height": 357
    },
    "executionInfo": {
     "elapsed": 1541,
     "status": "ok",
     "timestamp": 1718928809779,
     "user": {
      "displayName": "Rob Edwards",
      "userId": "17780279723170493443"
     },
     "user_tz": -570
    },
    "id": "n83dBi-aHTsq",
    "outputId": "345539c2-11ba-4bc7-f0de-c14c175948c2"
   },
   "outputs": [],
   "source": [
    "figsize = (12, 1.2 * len(average_rpk['Phage'].unique()))\n",
    "plt.figure(figsize=figsize)\n",
    "sns.violinplot(x='Phage', y='RPK', hue='Phage', data=average_rpk, palette='Dark2', legend=False)\n",
    "sns.despine(top=True, right=True, bottom=True, left=True)"
   ]
  },
  {
   "cell_type": "markdown",
   "metadata": {
    "id": "nhYYsHRkIGUf"
   },
   "source": [
    "Next, lets read the metadata file, also using pandas. Again, feel free to [download the metadata file](https://github.com/linsalrob/ComputationalGenomicsManual/raw/master/Python/metadata.tsv.gz) and upload it, or you can just let Pandas deal with that."
   ]
  },
  {
   "cell_type": "code",
   "execution_count": null,
   "metadata": {
    "colab": {
     "base_uri": "https://localhost:8080/",
     "height": 310
    },
    "executionInfo": {
     "elapsed": 352,
     "status": "ok",
     "timestamp": 1719470578886,
     "user": {
      "displayName": "Rob Edwards",
      "userId": "17780279723170493443"
     },
     "user_tz": -570
    },
    "id": "LK4C1Vs9FzgI",
    "outputId": "99835b33-572c-4da2-a1a3-2b4837019bb7"
   },
   "outputs": [],
   "source": [
    "# If you want to upload the file, uncomment the next line and comment out the line that gets the file from GitHub\n",
    "# metadata = pd.read_csv(\"metadata.tsv.gz\", sep=\"\\t\", compression='gzip')\n",
    "metadata = pd.read_csv(\"https://github.com/linsalrob/ComputationalGenomicsManual/raw/master/Python/metadata.tsv.gz\", sep=\"\\t\", compression='gzip')\n",
    "metadata.head()"
   ]
  },
  {
   "cell_type": "markdown",
   "metadata": {
    "id": "969qfANxIhwW"
   },
   "source": [
    "Now, we add the `Biome` column from the metadata to the phage ROK counts by joining these two tables on the `Project` column."
   ]
  },
  {
   "cell_type": "code",
   "execution_count": null,
   "metadata": {
    "colab": {
     "base_uri": "https://localhost:8080/",
     "height": 206
    },
    "executionInfo": {
     "elapsed": 7,
     "status": "ok",
     "timestamp": 1719470627315,
     "user": {
      "displayName": "Rob Edwards",
      "userId": "17780279723170493443"
     },
     "user_tz": -570
    },
    "id": "qffzadVbIN-C",
    "outputId": "2c02b63e-b623-425e-e5e7-4048daca722f"
   },
   "outputs": [],
   "source": [
    "rpk_biome = average_rpk.merge(metadata[['Project', 'Biome']], on='Project')\n",
    "rpk_biome.head()"
   ]
  },
  {
   "cell_type": "markdown",
   "metadata": {
    "id": "1Qtd3euharlp"
   },
   "source": [
    "## Violin plot with jittered points\n",
    "\n",
    "We can either plot the data as individual points, or also plot the data as a violin plot. The violin plot overlays two different plots on the same axis here. The first has our violin plot of the data, while the second puts (well, jitters) the points on top. This shows where the data really is!\n"
   ]
  },
  {
   "cell_type": "code",
   "execution_count": null,
   "metadata": {
    "colab": {
     "base_uri": "https://localhost:8080/",
     "height": 660
    },
    "executionInfo": {
     "elapsed": 1066,
     "status": "ok",
     "timestamp": 1719470874248,
     "user": {
      "displayName": "Rob Edwards",
      "userId": "17780279723170493443"
     },
     "user_tz": -570
    },
    "id": "c-1OaYTZI7o-",
    "outputId": "d10e6c11-1a6d-4476-cfcf-93004ea90295"
   },
   "outputs": [],
   "source": [
    "figsize = (12, 1.2 * len(rpk_biome['Biome'].unique()))\n",
    "plt.figure(figsize=figsize)\n",
    "#sns.violinplot(data=rpk_biome, x='Biome', y='RPK', hue='Phage', inner='stick', palette='Dark2')\n",
    "sns.stripplot(data=rpk_biome, x='Biome', y='RPK',jitter=True, color='k', alpha=0.6)\n",
    "sns.despine(top=True, right=True, bottom=True, left=True)"
   ]
  },
  {
   "cell_type": "markdown",
   "metadata": {
    "id": "aVMpe3tJDI6A"
   },
   "source": [
    "Which human gut sample has the most crAssphage?\n",
    "\n",
    "We can filter the table for that particular entry."
   ]
  },
  {
   "cell_type": "code",
   "execution_count": null,
   "metadata": {
    "colab": {
     "base_uri": "https://localhost:8080/",
     "height": 206
    },
    "executionInfo": {
     "elapsed": 333,
     "status": "ok",
     "timestamp": 1719470948489,
     "user": {
      "displayName": "Rob Edwards",
      "userId": "17780279723170493443"
     },
     "user_tz": -570
    },
    "id": "r2or25AGdCzG",
    "outputId": "e413bb2c-d700-4c54-cf7a-2a7ee5c94093"
   },
   "outputs": [],
   "source": [
    "rpk_biome.head()"
   ]
  },
  {
   "cell_type": "code",
   "execution_count": null,
   "metadata": {
    "colab": {
     "base_uri": "https://localhost:8080/",
     "height": 174
    },
    "executionInfo": {
     "elapsed": 352,
     "status": "ok",
     "timestamp": 1719471097310,
     "user": {
      "displayName": "Rob Edwards",
      "userId": "17780279723170493443"
     },
     "user_tz": -570
    },
    "id": "n7V5hENnDexE",
    "outputId": "4a8ec60a-a0dc-4a21-d3b0-5df5352a76d0"
   },
   "outputs": [],
   "source": [
    "rpk_biome[rpk_biome['RPK'] > 1.5]"
   ]
  },
  {
   "cell_type": "markdown",
   "metadata": {
    "id": "MHDRYR0TDs99"
   },
   "source": [
    "We can use a similar approach to _remove_ those two outliers and plot the rest of the data!"
   ]
  },
  {
   "cell_type": "code",
   "execution_count": null,
   "metadata": {
    "colab": {
     "base_uri": "https://localhost:8080/",
     "height": 731
    },
    "executionInfo": {
     "elapsed": 1406,
     "status": "ok",
     "timestamp": 1718928813876,
     "user": {
      "displayName": "Rob Edwards",
      "userId": "17780279723170493443"
     },
     "user_tz": -570
    },
    "id": "KQd11wu1DxmD",
    "outputId": "bbc6ab29-8a84-4c8d-d60b-c0b1e4f1d58d"
   },
   "outputs": [],
   "source": [
    "figsize = (12, 1.2 * len(rpk_biome['Biome'].unique()))\n",
    "plt.figure(figsize=figsize)\n",
    "#sns.violinplot(data=rpk_biome, x='Biome', y='RPK', hue='Phage', inner='stick', palette='Dark2')\n",
    "sns.stripplot(data=rpk_biome[rpk_biome['RPK'] < 5], x='Biome', y='RPK',jitter=True, color='k', alpha=0.6)\n",
    "sns.despine(top=True, right=True, bottom=True, left=True)"
   ]
  },
  {
   "cell_type": "markdown",
   "metadata": {
    "id": "0t_i8tn7Vhno"
   },
   "source": [
    "# Plotting bacterial phyla\n",
    "\n",
    "The data set [phylum.tsv.gz](https://github.com/linsalrob/ComputationalGenomicsManual/raw/master/Python/phylum.tsv.gz) has the abundance of a few bacterial phyla across a bunch of different samples. This is a real data set that we generated in my group.\n",
    "\n",
    "Let's take a look at a couple of different ways to plot the data.\n",
    "\n",
    "First, we read the dataframe in, again here we are just slurping it straight from GitHub, but feel free to download it and upload it to your Google Colab instance.\n"
   ]
  },
  {
   "cell_type": "code",
   "execution_count": null,
   "metadata": {
    "colab": {
     "base_uri": "https://localhost:8080/",
     "height": 509
    },
    "executionInfo": {
     "elapsed": 372,
     "status": "ok",
     "timestamp": 1719471184612,
     "user": {
      "displayName": "Rob Edwards",
      "userId": "17780279723170493443"
     },
     "user_tz": -570
    },
    "id": "33C9r0acItWw",
    "lines_to_next_cell": 2,
    "outputId": "4847531a-b1b5-4f72-cb43-adaa4daf1181"
   },
   "outputs": [],
   "source": [
    "# phyla = pd.read_csv(\"phylum.tsv.gz\", sep=\"\\t\", compression='gzip')\n",
    "phyla = pd.read_csv(\"https://github.com/linsalrob/ComputationalGenomicsManual/raw/master/Python/phylum.tsv.gz\", sep=\"\\t\", compression='gzip')\n",
    "phyla.set_index('NAME', inplace=True)\n",
    "phyla"
   ]
  },
  {
   "cell_type": "markdown",
   "metadata": {
    "id": "_VY8pWVfWNAn"
   },
   "source": [
    "# Plotting the phyla\n",
    "\n",
    "Usually, people like to use stacked bar charts. Lets make a stacked bar chart of this data and see if we can see some trends."
   ]
  },
  {
   "cell_type": "code",
   "execution_count": null,
   "metadata": {
    "colab": {
     "base_uri": "https://localhost:8080/",
     "height": 1000
    },
    "executionInfo": {
     "elapsed": 46952,
     "status": "ok",
     "timestamp": 1719471280905,
     "user": {
      "displayName": "Rob Edwards",
      "userId": "17780279723170493443"
     },
     "user_tz": -570
    },
    "id": "jF-67gAJWVuA",
    "outputId": "91b75eba-a95c-429c-cf42-2d89f3aae1af"
   },
   "outputs": [],
   "source": [
    "phyla.plot(kind=\"bar\", stacked=True)"
   ]
  },
  {
   "cell_type": "markdown",
   "metadata": {
    "id": "O4CFeOdIWp3A"
   },
   "source": [
    "This plot is the wrong way around! We have the bacteria along the x-axis and the samples as the stacked bars. Who knows what is happening! Lets transpose it and plot again"
   ]
  },
  {
   "cell_type": "code",
   "execution_count": null,
   "metadata": {
    "colab": {
     "base_uri": "https://localhost:8080/",
     "height": 523
    },
    "executionInfo": {
     "elapsed": 27007,
     "status": "ok",
     "timestamp": 1718928891870,
     "user": {
      "displayName": "Rob Edwards",
      "userId": "17780279723170493443"
     },
     "user_tz": -570
    },
    "id": "Dp3WMpJfWpVy",
    "outputId": "cdb2c674-b61b-47c8-b752-4cee84ec1860"
   },
   "outputs": [],
   "source": [
    "phyla.T.plot(kind=\"bar\", stacked=True, legend=None)"
   ]
  },
  {
   "cell_type": "markdown",
   "metadata": {
    "id": "ABV3BkMVXsyW"
   },
   "source": [
    "That's still really horrible, so lets take a look at the [seaborn example plots](https://seaborn.pydata.org/examples/index.html) and see if we can come up with a better idea!"
   ]
  },
  {
   "cell_type": "markdown",
   "metadata": {
    "id": "J61sapapYBeo"
   },
   "source": [
    "## Heatmap\n",
    "\n",
    "Let's try a heatmap of this data to see what it looks like. We also fiddle with the image size to make it bigger, and add `tight_layout()` (which you should always add to a figure, it almost always makes it look better!)"
   ]
  },
  {
   "cell_type": "code",
   "execution_count": null,
   "metadata": {
    "colab": {
     "base_uri": "https://localhost:8080/",
     "height": 675
    },
    "executionInfo": {
     "elapsed": 2526,
     "status": "ok",
     "timestamp": 1719471353653,
     "user": {
      "displayName": "Rob Edwards",
      "userId": "17780279723170493443"
     },
     "user_tz": -570
    },
    "id": "xXC2RpbhYHFE",
    "outputId": "b6f3bd2a-d8cd-4d0e-c988-f88fe36fdbeb"
   },
   "outputs": [],
   "source": [
    "fig, ax = plt.subplots(figsize=(18,12))\n",
    "sns.heatmap(data=phyla, cmap='rocket_r')\n",
    "plt.tight_layout()"
   ]
  },
  {
   "cell_type": "markdown",
   "metadata": {
    "id": "d5d501cb"
   },
   "source": [
    "[Return to the lesson listing](#lessons)\n",
    "\n",
    "[Return to the top of the notebook](#top)"
   ]
  }
 ],
 "metadata": {
  "colab": {
   "provenance": [
    {
     "file_id": "15KAyGvriQwRoXQa3t70jmi3XumKBxDRi",
     "timestamp": 1718237753735
    }
   ]
  },
  "kernelspec": {
   "display_name": "Python 3 (ipykernel)",
   "language": "python",
   "name": "python3"
  },
  "language_info": {
   "codemirror_mode": {
    "name": "ipython",
    "version": 3
   },
   "file_extension": ".py",
   "mimetype": "text/x-python",
   "name": "python",
   "nbconvert_exporter": "python",
   "pygments_lexer": "ipython3",
   "version": "3.9.5"
  }
 },
 "nbformat": 4,
 "nbformat_minor": 4
}
