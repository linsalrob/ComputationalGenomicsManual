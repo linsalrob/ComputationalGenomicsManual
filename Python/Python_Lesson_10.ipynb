{
 "cells": [
  {
   "cell_type": "markdown",
   "metadata": {
    "id": "wjZKXZ9dXJUr"
   },
   "source": [
    "<a name=\"top\"></a>\n",
    "# Introduction to Python Programming for Bioinformatics. Lesson 10\n",
    "\n",
    "<details>\n",
    "<summary>\n",
    "About this notebook\n",
    "</summary>\n",
    "\n",
    "This notebook was originally written by [Marc Cohen](https://github.com/mco-gh), an engineer at Google. The original source can be found on [Marc's short link service](https://mco.fyi/), and starts with [Python lesson 0](https://mco.fyi/py0), and I encourage you to work through that notebook if you find some details missing here.\n",
    "\n",
    "Rob Edwards edited the notebook, adapted it for bioinformatics, using some simple geneticy examples, condensed it into a single notebook, and rearranged some of the lessons, so if some of it does not make sense, it is Rob's fault!\n",
    "\n",
    "It is intended as a hands-on companion to an in-person course, and if you would like Rob to teach this course (or one of the other courses) don't hesitate to get in touch with him.\n",
    "\n",
    "</details>\n",
    "<details>\n",
    "<summary>\n",
    "Using this notebook\n",
    "</summary>\n",
    "\n",
    "You can download the original version of this notebook from [GitHub](https://linsalrob.github.io/ComputationalGenomicsManual/Python/Python_Lesson_9.ipynb) and from [Rob's Google Drive]()\n",
    "\n",
    "**You should make your own copy of this notebook by selecting File->Save a copy in Drive from the menu bar above, and then you can edit the code and run it as your own**\n",
    "\n",
    "There are several lessons, and you can do them in any order. I've tried to organise them in the order I think most appropriate, but you may disagree!\n",
    "\n",
    "</details>"
   ]
  },
  {
   "cell_type": "markdown",
   "metadata": {
    "id": "_Km_oeNBXJUy"
   },
   "source": [
    "<a name=\"lessons\"></a>\n",
    "# Lesson Links\n",
    "\n",
    "* [Lesson 10 - Translating a DNA sequence](#Lesson-10---Translating-a-DNA-sequence)\n",
    "\n",
    "Previous Lesson: [GitHub](Python_Lesson_9.ipynb) | [Google Colab](https://colab.research.google.com/drive/1JGRJpUPKkkVukyNvtfEJYVVCcdpkyRLZ)\n",
    "\n",
    "Next Lesson: [GitHub](Python_Lesson_11.ipynb) | [Google Colab](https://colab.research.google.com/drive/1N2WL7WDjUQkb7BLWqKYALWCwsUEAVVdf)\n",
    "\n",
    "<!-- #region id=\"qXu_bY7yPpsS\" -->\n",
    "\n",
    "# Lesson 10 - Translating a DNA sequence\n",
    "\n",
    "Now that we have covered several concepts, we are going to put it together to translate a DNA sequence into a Protein sequence. Although the Central Dogma of Biology includes an RNA step, we usually skip that, acknowledging the presence of uracil, and convert DNA to protein.\n",
    "\n",
    "Here is a function that translates a codon into an amino acid. You have seen most of this previously:\n"
   ]
  },
  {
   "cell_type": "code",
   "execution_count": 5,
   "metadata": {
    "executionInfo": {
     "elapsed": 351,
     "status": "ok",
     "timestamp": 1718685113102,
     "user": {
      "displayName": "Rob Edwards",
      "userId": "17780279723170493443"
     },
     "user_tz": -570
    },
    "id": "S-RYS5LKl-60"
   },
   "outputs": [],
   "source": [
    "def translate_dna(codon):\n",
    "  \"\"\"\n",
    "  Translate a codon sequence into an amino acid sequence.\n",
    "  :param codon: a codon sequence\n",
    "  :type codon: str\n",
    "  :return: an amino acid sequence\n",
    "  :rtype: str\n",
    "  \"\"\"\n",
    "\n",
    "  codon_to_amino_acid = {\n",
    "      'TTT': 'F', 'TTC': 'F', 'TTA': 'L', 'TTG': 'L',\n",
    "      'TCT': 'S', 'TCC': 'S', 'TCA': 'S', 'TCG': 'S',\n",
    "      'TAT': 'Y', 'TAC': 'Y', 'TAA': '*', 'TAG': '*',\n",
    "      'TGT': 'C', 'TGC': 'C', 'TGA': '*', 'TGG': 'W',\n",
    "      'CTT': 'L', 'CTC': 'L', 'CTA': 'L', 'CTG': 'L',\n",
    "      'CCT': 'P', 'CCC': 'P', 'CCA': 'P', 'CCG': 'P',\n",
    "      'CAT': 'H', 'CAC': 'H', 'CAA': 'Q', 'CAG': 'Q',\n",
    "      'CGT': 'R', 'CGC': 'R', 'CGA': 'R', 'CGG': 'R',\n",
    "      'ATT': 'I', 'ATC': 'I', 'ATA': 'I', 'ATG': 'M',\n",
    "      'ACT': 'T', 'ACC': 'T', 'ACA': 'T', 'ACG': 'T',\n",
    "      'AAT': 'N', 'AAC': 'N', 'AAA': 'K', 'AAG': 'K',\n",
    "      'AGT': 'S', 'AGC': 'S', 'AGA': 'R', 'AGG': 'R',\n",
    "      'GTT': 'V', 'GTC': 'V', 'GTA': 'V', 'GTG': 'V',\n",
    "      'GCT': 'A', 'GCC': 'A', 'GCA': 'A', 'GCG': 'A',\n",
    "      'GAT': 'D', 'GAC': 'D', 'GAA': 'E', 'GAG': 'E',\n",
    "      'GGT': 'G', 'GGC': 'G', 'GGA': 'G', 'GGG': 'G'\n",
    "  }\n",
    "\n",
    "  if codon.upper() not in codon_to_amino_acid:\n",
    "    print(f\"Invalid codon: {codon}\")\n",
    "    return None\n",
    "  return codon_to_amino_acid[codon.upper()]"
   ]
  },
  {
   "cell_type": "markdown",
   "metadata": {
    "id": "cg-ORzbdmcfd"
   },
   "source": [
    "Next, we need to take a sequence, and reading it three letters at a time, translate it"
   ]
  },
  {
   "cell_type": "code",
   "execution_count": 7,
   "metadata": {
    "colab": {
     "base_uri": "https://localhost:8080/"
    },
    "executionInfo": {
     "elapsed": 344,
     "status": "ok",
     "timestamp": 1718685133677,
     "user": {
      "displayName": "Rob Edwards",
      "userId": "17780279723170493443"
     },
     "user_tz": -570
    },
    "id": "QSZHG89OmcI6",
    "outputId": "1f7afd96-cecd-43d6-95fe-abedb33549e8"
   },
   "outputs": [
    {
     "name": "stdout",
     "output_type": "stream",
     "text": [
      "42\n",
      "MIDKLRYDQTASD*\n"
     ]
    }
   ],
   "source": [
    "sequence = \"ATGATCGACAAGCTACGCTACGATCAGACTGCATCAGATTAA\"\n",
    "print(len(sequence))\n",
    "for codon in [sequence[i:i+3] for i in range(0, len(sequence), 3)]:\n",
    "  print(translate_dna(codon), end='')\n",
    "print()"
   ]
  },
  {
   "cell_type": "markdown",
   "metadata": {
    "id": "eQ2xElk3oZ7P"
   },
   "source": [
    "## Challenge 1\n",
    "\n",
    "Here are two DNA sequences:\n",
    "\n",
    "```\n",
    "TCGCGCACGCTGATCGTGGGGTGA\n",
    "AGTAAAACTTTAATTGTTGGTTAA\n",
    "```\n",
    "\n",
    "1. What is the percent identity of these two sequences at the DNA level?\n",
    "2. After you have translated them using the genetic code above, what is the percent identity at the amino acid level?\n",
    "\n",
    "Does this result surprise you?"
   ]
  },
  {
   "cell_type": "markdown",
   "metadata": {
    "id": "EzRoUlxPnhwY"
   },
   "source": [
    "## Challenge 2\n",
    "\n",
    "Can you write the code to translate all the ORFs in the Bc01.fasta file that we worked on earlier?"
   ]
  }
 ],
 "metadata": {
  "colab": {
   "provenance": [
    {
     "file_id": "15KAyGvriQwRoXQa3t70jmi3XumKBxDRi",
     "timestamp": 1718237753735
    }
   ]
  },
  "kernelspec": {
   "display_name": "Python 3 (ipykernel)",
   "language": "python",
   "name": "python3"
  },
  "language_info": {
   "codemirror_mode": {
    "name": "ipython",
    "version": 3
   },
   "file_extension": ".py",
   "mimetype": "text/x-python",
   "name": "python",
   "nbconvert_exporter": "python",
   "pygments_lexer": "ipython3",
   "version": "3.9.5"
  }
 },
 "nbformat": 4,
 "nbformat_minor": 0
}
