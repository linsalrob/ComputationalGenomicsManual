{
 "cells": [
  {
   "cell_type": "markdown",
   "metadata": {
    "id": "pB15rzv-5A-i"
   },
   "source": [
    "# Introduction to Python Juypter Notebook\n",
    "\n",
    "## Using this notebook\n",
    "\n",
    "You can download the original version of this notebook from [Robs Website]( )\n",
    "\n",
    "**You should make your own copy of this notebook by selecting File->Save a copy in Drive from the menu bar above.**\n",
    "\n",
    "There are several lessons, and you can do them in any order.\n",
    "\n",
    "## About this notebook\n",
    "\n",
    "This was originally written by other poeple, and the original source can be found on [Marc's short link service](https://mco.fyi/py1). \n",
    "\n",
    "Rob Edwards edited this notebook, adapted it for bioinformatics, condensend it into a single notebook, and rearranged some of the lessons, so if some of it does not make sense, it is Rob's fault!\n",
    "\n",
    "# Lesson 1 - Variables and Types\n",
    "\n",
    "Things you'll learn in this lesson:\n",
    "- The basic data types you can work with in Python\n",
    "- How to create and assign values to variables in Python\n",
    "- How to call a function\n"
   ]
  },
  {
   "cell_type": "markdown",
   "metadata": {
    "id": "bJVtPIkr5KDA"
   },
   "source": [
    "## Variables\n",
    "\n",
    "Any Python interpreter can be used as a calculator. To run this cell, either click on the triangle, or put your cursor in the cell and press Shift and Enter at the same time.\n"
   ]
  },
  {
   "cell_type": "code",
   "execution_count": 2,
   "metadata": {
    "id": "O5D5Pvgu5MrL",
    "outputId": "4f26ac8d-8c8b-45a3-8f86-75c3e26acdce"
   },
   "outputs": [
    {
     "name": "stdout",
     "output_type": "stream",
     "text": [
      "23\n"
     ]
    }
   ],
   "source": [
    "print(3 + 5 * 4)"
   ]
  },
  {
   "cell_type": "markdown",
   "metadata": {
    "id": "zi5ctjIY5j5n"
   },
   "source": [
    "\n",
    "This is great but not very interesting.\n",
    "To do anything useful with data, we need to assign its value to a _variable_.\n",
    "In Python, we can assign a value to a variable using the equals sign `=`.\n",
    "\n",
    "If a variable doesn’t already exist, when you assign to it, Python creates it on the fly. If you assign to a variable that already exists, Python replaces its current value with a new value.\n",
    "\n",
    "Examples\n",
    "\n",
    "    instructor = \"Rob\"         # string value\n",
    "    instructor = \"Stevie\" # same name, diff string value\n",
    "    instructor = 42             # same name, integer value\n",
    "    todays_high_temp = 18.2     # diff name, floating point value\n",
    "\n",
    "We can track the length of a bacterial genome by assigning its length in basepairs to a variable. For example, if the length is 4,500,000 bp, we \n",
    "could assign that to a variable called `genome_size`:"
   ]
  },
  {
   "cell_type": "code",
   "execution_count": 1,
   "metadata": {
    "ExecuteTime": {
     "end_time": "2024-06-13T07:21:27.325111Z",
     "start_time": "2024-06-13T07:21:27.299019Z"
    }
   },
   "outputs": [
    {
     "name": "stdout",
     "output_type": "stream",
     "text": [
      "4500000\n"
     ]
    }
   ],
   "source": [
    "genome_size = 4500000\n",
    "print(genome_size)"
   ]
  },
  {
   "cell_type": "markdown",
   "metadata": {
    "id": "ei_aBfYIYmdI"
   },
   "source": [
    "From now on, whenever we use `genome_size`, Python will substitute the value we assigned to it. In simpler terms, **a variable is a reference to a value**.\n",
    "\n",
    "In Python, variable names:\n",
    "\n",
    " - can include letters, digits, and underscores\n",
    " - cannot start with a digit\n",
    " - are case-sensitive\n",
    "\n",
    "This means that, for example:\n",
    " - `genome0` is a valid variable name, whereas `0genome` is not\n",
    " - `genome` and `Genome` are different variables, and this will sometimes trip you up. It is usual practice to use lower case letters for variable names, and if you want to use two words, like `genome size`, to join them with an underscore (i.e. `genome_size`). Sometimes people will use capitals for words, like `GenomeSize`, (but that's wrong!) (but it still works)."
   ]
  },
  {
   "cell_type": "markdown",
   "metadata": {
    "id": "AQsH4eIdsUY_"
   },
   "source": [
    "### Reserved Words\n",
    "\n",
    "The following words have special meaning in Python. We call them keywords or reserved words and you may not use these names for your program variables.\n",
    "\n",
    "> ```and, as, assert, break, class, continue, def, del, elif, else, except, False, finally, for, from, global, if, import, in, is, lambda, nonlocal, None, not, or, pass, raise, return, True, try, while, with, yield```"
   ]
  },
  {
   "cell_type": "markdown",
   "metadata": {
    "id": "2vVrIzu76Mka"
   },
   "source": [
    "## Types of data\n",
    "Python knows about several types of data. Three common ones are:\n",
    "\n",
    "* integer numbers\n",
    "* floating point numbers\n",
    "* character strings\n",
    "\n",
    "In the example above, variable `genome_size` was assigned an integer value of `4500000`. If we want to store a fraction, like the %GC of the genome, \n",
    "we can use a floating point value by executing:"
   ]
  },
  {
   "cell_type": "code",
   "execution_count": 2,
   "metadata": {
    "ExecuteTime": {
     "end_time": "2024-06-13T07:21:54.626948Z",
     "start_time": "2024-06-13T07:21:54.617326Z"
    },
    "id": "Q-cUtwa26PKT",
    "outputId": "59844e86-017e-440c-ed10-0ac2f487aeac"
   },
   "outputs": [
    {
     "name": "stdout",
     "output_type": "stream",
     "text": [
      "0.45\n"
     ]
    }
   ],
   "source": [
    "percent_gc = 0.45\n",
    "print(percent_gc)"
   ]
  },
  {
   "cell_type": "markdown",
   "metadata": {
    "id": "hRyCToPF6Uk7"
   },
   "source": [
    "To create a string, we add single or double quotes around some text.\n",
    "To identify and track a bacteria throughout our study, we can assign it a unique identifier by storing it in a string:"
   ]
  },
  {
   "cell_type": "code",
   "execution_count": 3,
   "metadata": {
    "ExecuteTime": {
     "end_time": "2024-06-13T07:21:57.556131Z",
     "start_time": "2024-06-13T07:21:57.537151Z"
    },
    "id": "2g7XZo0m6X7Q",
    "outputId": "19bb577d-5e53-48d8-aca9-98dd4865d5d6"
   },
   "outputs": [
    {
     "name": "stdout",
     "output_type": "stream",
     "text": [
      "001\n"
     ]
    }
   ],
   "source": [
    "bacteria_id = \"001\"\n",
    "print(bacteria_id)"
   ]
  },
  {
   "cell_type": "markdown",
   "metadata": {
    "id": "3IVQV7ajrzvM"
   },
   "source": [
    "## Numeric Types\n",
    "\n",
    "Python supports two main types of numbers\n",
    "* int, arbitrary size signed integers, like these:\n",
    "  * `2011`\n",
    "  * `-999999999999`\n",
    "* float, arbitrary precision floating point numbers, like these:\n",
    "  * `3.1415926539`\n",
    "  * `3.8 * 10**6`\n",
    "\n",
    "For the most part, you don't need to worry about which type of number to use - Python will take care of that for you. The decimal point tells Python which to use.\n",
    "\n",
    "Mixing floats and ints results in a float so, for example, `2011 * 3.14` results in a floating point number.\n",
    "\n",
    "Try entering these expressions in the following cell:\n",
    "\n",
    "```\n",
    "print(5 - 6)  \n",
    "print(8 * 9)\n",
    "print(6 / 2)\n",
    "print(5.0 / 2)\n",
    "print(5 % 2)  \n",
    "print(2 * 10 + 3)  \n",
    "print(2 * (10 + 3))  \n",
    "print(2 ** 4)\n",
    "```\n",
    "Were there any outputs you didn't expect?"
   ]
  },
  {
   "cell_type": "code",
   "execution_count": null,
   "metadata": {
    "id": "GxdsLvbqr2Bd",
    "outputId": "f72d8feb-32be-45ce-ba7a-00a845219ba9"
   },
   "outputs": [],
   "source": [
    "# talk about the print variables with your neighbour, and then copy and paste them here!\n",
    "# press shift-enter to execute the code after you have pasted it."
   ]
  },
  {
   "cell_type": "markdown",
   "metadata": {
    "id": "S-j9OuQ96ofq"
   },
   "source": [
    "## Using Variables in Python\n",
    "\n",
    "Once we have data stored with variable names, we can make use of those variables in our calculations. We call these combinations of variables and values  **expressions**. When evaluating an expression, Python internally replaces the variable names with the values to which they refer.\n",
    "\n",
    "We may want to store our genome in kilo base pairs as well as base pairs.\n",
    "\n"
   ]
  },
  {
   "cell_type": "code",
   "execution_count": null,
   "metadata": {
    "id": "gWSAZq0D6xpf",
    "outputId": "2dbd13e7-72a9-4755-a932-aa468fde65b8"
   },
   "outputs": [],
   "source": [
    "genome_kb = genome_size / 1000\n",
    "print(genome_kb)"
   ]
  },
  {
   "cell_type": "markdown",
   "metadata": {
    "id": "hCZN9s236ucL"
   },
   "source": [
    "We might also decide to add a bacterial genus and species to our bacterial id"
   ]
  },
  {
   "cell_type": "code",
   "execution_count": null,
   "metadata": {
    "id": "gLIq7Z1u63VJ",
    "outputId": "4b6e44d6-5e1d-4014-a1b1-ac4ec4f588bb"
   },
   "outputs": [],
   "source": [
    "bacteria_id = \"E coli: \" + bacteria_id\n",
    "print(bacteria_id)"
   ]
  },
  {
   "cell_type": "markdown",
   "metadata": {
    "id": "8BnjHISr6-hN"
   },
   "source": [
    "## Built-in Python functions\n",
    "\n",
    "To carry out common tasks with data and variables in Python,\n",
    "the language provides us with several built-in functions.\n",
    "To display information to the screen, we use the `print` function:"
   ]
  },
  {
   "cell_type": "code",
   "execution_count": null,
   "metadata": {
    "id": "Igqiw5fJ7FLn"
   },
   "outputs": [],
   "source": [
    "print(genome_size)\n",
    "print(bacteria_id)"
   ]
  },
  {
   "cell_type": "markdown",
   "metadata": {
    "id": "amsnF9L47gWd"
   },
   "source": [
    "When we want to make use of a function, what computer scientists refer to as **calling the function**, we follow its name by parentheses. The parentheses are important: if you leave them off, the function doesn't actually run!\n",
    "\n",
    "Sometimes you will include values or variables inside the parentheses for the function to use. In the case of `print`, we use the parentheses to tell the function which value we want to display. We will learn more about how functions work and how to create our own in later lessons.\n",
    "\n",
    "We can display multiple things at once using only one `print` function call:"
   ]
  },
  {
   "cell_type": "code",
   "execution_count": null,
   "metadata": {
    "id": "oQpyFVpi7ivD"
   },
   "outputs": [],
   "source": [
    "print(bacteria_id, \" genome size in kb: \", genome_kb)"
   ]
  },
  {
   "cell_type": "markdown",
   "metadata": {
    "id": "WsHwduqt7vjX"
   },
   "source": [
    "We can also call a function inside of another function call. For example, Python has a built-in function called `type` that tells you a value's data type:"
   ]
  },
  {
   "cell_type": "code",
   "execution_count": null,
   "metadata": {
    "id": "6ZCBafYK7yQk"
   },
   "outputs": [],
   "source": [
    "print(type(60.3))\n",
    "print(type(bacteria_id))\n",
    "print(type(genome_size)\n",
    "print(type(genome_kb))"
   ]
  },
  {
   "cell_type": "markdown",
   "metadata": {
    "id": "OvDZ69F373aO"
   },
   "source": [
    "We can also do arithmetic with variables right inside the `print` function:"
   ]
  },
  {
   "cell_type": "code",
   "execution_count": null,
   "metadata": {
    "id": "oMNmpxlC75fA"
   },
   "outputs": [],
   "source": [
    "print(\"genome size in MB:\", genome_size / 1000000)"
   ]
  },
  {
   "cell_type": "markdown",
   "metadata": {
    "id": "BxsTLSDG8GbK"
   },
   "source": [
    "Note that the above function call did not change the value of `genome_size`:"
   ]
  },
  {
   "cell_type": "code",
   "execution_count": null,
   "metadata": {
    "id": "aK3sN7nO8DWx"
   },
   "outputs": [],
   "source": [
    "print(genome_size)"
   ]
  },
  {
   "cell_type": "markdown",
   "metadata": {
    "id": "3UrH-otn8OJL"
   },
   "source": [
    "To change the value of the `genome_size` variable, we have to\n",
    "**assign** a new value to `genome_size` using the equals `=` sign:"
   ]
  },
  {
   "cell_type": "code",
   "execution_count": null,
   "metadata": {
    "id": "b3Stj4VQ8Qhn"
   },
   "outputs": [],
   "source": [
    "genome_size = 3100000000\n",
    "print(\"genome size is now:\", genome_size)"
   ]
  },
  {
   "cell_type": "markdown",
   "metadata": {
    "id": "VulGkaqP9jMp"
   },
   "source": [
    "## Check Your Understanding\n",
    "\n",
    "What values do the variables `rrna` and `protein` have after each of the following statements?\n",
    "\n",
    "Guess before executing the lines below..."
   ]
  },
  {
   "cell_type": "code",
   "execution_count": 9,
   "metadata": {
    "ExecuteTime": {
     "end_time": "2024-06-13T07:33:04.366522Z",
     "start_time": "2024-06-13T07:33:04.338279Z"
    },
    "id": "ppi8ti6d9rd8",
    "outputId": "747079ac-789c-40bc-da65-d4d1533c7707"
   },
   "outputs": [
    {
     "name": "stdout",
     "output_type": "stream",
     "text": [
      "There are  400  rRNAs encoded in the human genome\n"
     ]
    },
    {
     "ename": "NameError",
     "evalue": "name 'protein' is not defined",
     "output_type": "error",
     "traceback": [
      "\u001b[1;31m---------------------------------------------------------------------------\u001b[0m",
      "\u001b[1;31mNameError\u001b[0m                                 Traceback (most recent call last)",
      "Cell \u001b[1;32mIn[9], line 3\u001b[0m\n\u001b[0;32m      1\u001b[0m rrna \u001b[38;5;241m=\u001b[39m \u001b[38;5;241m400\u001b[39m\n\u001b[0;32m      2\u001b[0m \u001b[38;5;28mprint\u001b[39m(\u001b[38;5;124m\"\u001b[39m\u001b[38;5;124mThere are \u001b[39m\u001b[38;5;124m\"\u001b[39m, rrna, \u001b[38;5;124m\"\u001b[39m\u001b[38;5;124m rRNAs encoded in the human genome\u001b[39m\u001b[38;5;124m\"\u001b[39m)\n\u001b[1;32m----> 3\u001b[0m \u001b[38;5;28mprint\u001b[39m(\u001b[38;5;124m\"\u001b[39m\u001b[38;5;124mThere are \u001b[39m\u001b[38;5;124m\"\u001b[39m, \u001b[43mprotein\u001b[49m, \u001b[38;5;124m\"\u001b[39m\u001b[38;5;124m proteins encoded in the human genome\u001b[39m\u001b[38;5;124m\"\u001b[39m)\n",
      "\u001b[1;31mNameError\u001b[0m: name 'protein' is not defined"
     ]
    }
   ],
   "source": [
    "rrna = 400\n",
    "print(\"There are \", rrna, \" rRNAs encoded in the human genome\")\n",
    "print(\"There are \", protein, \" proteins encoded in the human genome\")"
   ]
  },
  {
   "cell_type": "code",
   "execution_count": 10,
   "metadata": {
    "ExecuteTime": {
     "end_time": "2024-06-13T07:33:05.113253Z",
     "start_time": "2024-06-13T07:33:05.101421Z"
    },
    "id": "OrBQpVQXa2uS",
    "outputId": "cdc6bb60-ca00-4d6e-bd94-4b41362c8f28"
   },
   "outputs": [
    {
     "name": "stdout",
     "output_type": "stream",
     "text": [
      "There are  400  rRNAs encoded in the human genome\n",
      "There are  19126  proteins encoded in the human genome\n"
     ]
    }
   ],
   "source": [
    "protein = 19126\n",
    "print(\"There are \", rrna, \" rRNAs encoded in the human genome\")\n",
    "print(\"There are \", protein, \" proteins encoded in the human genome\")"
   ]
  },
  {
   "cell_type": "code",
   "execution_count": 11,
   "metadata": {
    "ExecuteTime": {
     "end_time": "2024-06-13T07:33:06.191673Z",
     "start_time": "2024-06-13T07:33:06.180664Z"
    },
    "id": "0PEer3Jaa5gr"
   },
   "outputs": [
    {
     "name": "stdout",
     "output_type": "stream",
     "text": [
      "There are  800.0  rRNAs encoded in the human genome\n",
      "There are  19126  proteins encoded in the human genome\n"
     ]
    }
   ],
   "source": [
    "rrna = rrna * 2.0\n",
    "print(\"There are \", rrna, \" rRNAs encoded in the human genome\")\n",
    "print(\"There are \", protein, \" proteins encoded in the human genome\")"
   ]
  },
  {
   "cell_type": "code",
   "execution_count": 13,
   "metadata": {
    "ExecuteTime": {
     "end_time": "2024-06-13T07:35:00.114969Z",
     "start_time": "2024-06-13T07:35:00.109498Z"
    },
    "id": "YqBUCO2Ua7Vk"
   },
   "outputs": [
    {
     "name": "stdout",
     "output_type": "stream",
     "text": [
      "There are  800.0  rRNAs encoded in the human genome\n",
      "There are  19000.0  proteins encoded in the human genome\n"
     ]
    }
   ],
   "source": [
    "protein = protein - 126.0\n",
    "print(\"There are \", rrna, \" rRNAs encoded in the human genome\")\n",
    "print(\"There are \", protein, \" proteins encoded in the human genome\")"
   ]
  },
  {
   "cell_type": "markdown",
   "metadata": {
    "id": "EdWoZVG2-PKk"
   },
   "source": [
    "## Sorting Out References\n",
    "Python allows you to assign multiple values to multiple variables in one line by separating the variables and values with commas. What does the following program print out?"
   ]
  },
  {
   "cell_type": "code",
   "execution_count": null,
   "metadata": {
    "id": "IAAYWlIQs3nq"
   },
   "outputs": [],
   "source": [
    "a, b = \"E. coli\", \"Salmonella\"\n",
    "print(a, b)"
   ]
  },
  {
   "cell_type": "code",
   "execution_count": null,
   "metadata": {
    "id": "VkwNf2OT-UX9"
   },
   "outputs": [],
   "source": [
    "first, second = \"crAssphage\", \"phiX174\"\n",
    "third, fourth = second, first\n",
    "print(third, fourth)"
   ]
  },
  {
   "cell_type": "markdown",
   "metadata": {
    "id": "kwFCzCqXIGqs"
   },
   "source": [
    "## Key Points\n",
    "- Basic data types in Python include integers, strings, and floating-point numbers (among many others).\n",
    "- Use `variable = value` to assign a value to a variable in order to store it in memory.\n",
    "- Variables are created on demand whenever values are assigned to them.\n",
    "- Use `print(something)` to display the value of `something`.\n",
    "- Built-in functions are always available to use."
   ]
  },
  {
   "cell_type": "markdown",
   "metadata": {
    "id": "XJ8BP2vbb2F0"
   },
   "source": [
    "# Homework"
   ]
  },
  {
   "cell_type": "markdown",
   "metadata": {
    "id": "J72xu17T1E3F"
   },
   "source": [
    "Which of the following are legal Python variable names? First make a guess then copy these assignment statements into the next cell and run them.\n",
    "```\n",
    "average = 1\n",
    "Max = 1\n",
    "LadyGaGa = 1  \n",
    "_Lady_Ga_Ga = 1\n",
    "BacteroideFragilis = 1    \n",
    "1000genomes = 1  \n",
    "genomes_1000 = 1  \n",
    "raise = 1  \n",
    "my-cat-is-awesome = 1\n",
    "my_cat_is_awesome = 1  \n",
    "```"
   ]
  },
  {
   "cell_type": "code",
   "execution_count": null,
   "metadata": {
    "id": "jVRpXn1Y1H2Q"
   },
   "outputs": [],
   "source": []
  },
  {
   "cell_type": "markdown",
   "metadata": {},
   "source": [
    "Create variables to store each word of your names."
   ]
  },
  {
   "cell_type": "code",
   "execution_count": null,
   "metadata": {},
   "outputs": [],
   "source": []
  },
  {
   "cell_type": "markdown",
   "metadata": {
    "id": "Dtag2RwKdpEx"
   },
   "source": [
    "Print each of your names on separate lines.\n",
    "\n"
   ]
  },
  {
   "cell_type": "code",
   "execution_count": null,
   "metadata": {
    "id": "NKZymN6Idwe-"
   },
   "outputs": [],
   "source": []
  },
  {
   "cell_type": "markdown",
   "metadata": {
    "id": "stkouGzNdxFE"
   },
   "source": [
    "Print each of your names, all on one line.\n"
   ]
  },
  {
   "cell_type": "code",
   "execution_count": null,
   "metadata": {
    "id": "CcIX7JBJd2xK",
    "lines_to_next_cell": 0
   },
   "outputs": [],
   "source": []
  },
  {
   "cell_type": "markdown",
   "metadata": {
    "id": "2gpMPXdRf9GE"
   },
   "source": [
    "Congratulations for making it this far! Your last assignment is to watch this [short video](https://www.youtube.com/watch?v=inN8seMm7UI) and take a [quick tour of Colab](https://colab.research.google.com/notebooks/intro.ipynb)."
   ]
  },
  {
   "cell_type": "markdown",
   "metadata": {
    "id": "VbfEFfZvq55E",
    "lines_to_next_cell": 2
   },
   "source": [
    "**It's a good idea to save your work after a notebook session.** You can use the File->Save menu item to save your notebook.\n",
    "\n"
   ]
  },
  {
   "cell_type": "markdown",
   "metadata": {
    "id": "mfGvFV6WLjI1"
   },
   "source": [
    "# Lesson 2 - Expressions\n",
    "\n",
    "\n",
    "Things you'll learn in this lesson:\n",
    "- More about types in Python\n",
    "- Boolean operators\n",
    "- How to combine constants, variables, and operators into arithmetic, boolean, and comparison expressions\n",
    "- Operator precedence\n",
    "- The magical f-string\n",
    "\n",
    "Link to the original version of this notebook on [Marco's short link service](https://mco.fyi/py2)\n"
   ]
  },
  {
   "cell_type": "markdown",
   "metadata": {
    "id": "IpvP1cdrMj7N"
   },
   "source": [
    "# Constants vs. Variables"
   ]
  },
  {
   "cell_type": "markdown",
   "metadata": {
    "id": "no7Tp6rlMqxe"
   },
   "source": [
    "* Literal values (like `\"Rob\"` and `2010`) are called constants because they don't change.\n",
    "\n",
    "* Constants, are called constants because its value is fixed, unlike variables, whose associated value may change (or *vary*) over time.\n",
    "\n",
    "* The data a variable refers to may be simple, e.g. a number or a string, or it may be complex, e.g. a list or an object (we'll learn about those later)."
   ]
  },
  {
   "cell_type": "markdown",
   "metadata": {
    "id": "LOPDElnTtZ_3"
   },
   "source": [
    "# Data Types\n",
    "\n",
    "In Python, values have a *type*. We already saw three data types in the previous lesson. We'll take a look at a few other types."
   ]
  },
  {
   "cell_type": "markdown",
   "metadata": {
    "id": "PqEElVkjMx0U"
   },
   "source": [
    "# The Boolean (`bool`) Type"
   ]
  },
  {
   "cell_type": "markdown",
   "metadata": {
    "id": "9v1wuSdBM4Gn"
   },
   "source": [
    "Python supports a special type called booleans, written `bool` in Python, which are used to indicate whether something is true or false. Booleans have one of two possible values:\n",
    "\n",
    "* `True`\n",
    "* `False`"
   ]
  },
  {
   "cell_type": "markdown",
   "metadata": {
    "id": "1RhUxhsoM7SJ"
   },
   "source": [
    "When evaluating a **number** as a boolean, the following rules apply:\n",
    "\n",
    "* 0 is `False`\n",
    "* 0.0 is `False`\n",
    "* all other numerical values are `True`\n",
    "\n",
    "When evaluating a **string** as a boolean, the following rules apply:\n",
    "\n",
    "* the empty string (`\"\"` and `''`) is `False`\n",
    "* all other strings are `True`\n",
    "\n",
    "If it's something, its True. Otherwise its _NOT_. \n"
   ]
  },
  {
   "cell_type": "markdown",
   "metadata": {
    "id": "YtDLrMs2M-_C"
   },
   "source": [
    "# The None Type"
   ]
  },
  {
   "cell_type": "markdown",
   "metadata": {
    "id": "8wM1pnKbNCkk"
   },
   "source": [
    "Python has a special type called `None` and it means *no value*.\n",
    "\n",
    "It's a good choice when you want to initialize a variable without an obvious choice for the initial value, like this:\n",
    "\n",
    "```bacteria = None```\n",
    "\n",
    "None always evaluates to False in boolean expressions.\n"
   ]
  },
  {
   "cell_type": "markdown",
   "metadata": {
    "id": "hBrzYShvNkkG"
   },
   "source": [
    "# Comparison Opererators"
   ]
  },
  {
   "cell_type": "markdown",
   "metadata": {
    "id": "G_I6sd1ANlxp"
   },
   "source": [
    "As their name suggests, comparison operators allow us to compare values and result in a boolean type indicating whether the comparison is `True` or `False`.\n",
    "\n",
    "The following table summarizes the most commonly used operators in Python, along with their definition when applied to numbers and strings.\n",
    "\n",
    "|operator|operation on numbers|operation on strings|\n",
    "|--------|--------------------|--------------------|\n",
    "|==|equal to|equal to|\n",
    "|!=|not equal to|not equal to|\n",
    "|>|greater than|lexicographically greater than|\n",
    "|>=|greater than or equal to|lexocographically greater than or equal to|\n",
    "|<|less than|lexicographically less than|\n",
    "|<=|less than or equal to|lexocographically less than or equal to|\n",
    "\n",
    "(Remember the crocodile!)\n"
   ]
  },
  {
   "cell_type": "markdown",
   "metadata": {
    "id": "twQUgl3GNpVK"
   },
   "source": [
    "## Challenge\n",
    "\n",
    "Which boolean value (`True` or `False`) do each of these expressions evaluate to?\n",
    "\n",
    "* `123 == 10`\n",
    "* `10 == 123`\n",
    "* `123 == 123`\n",
    "* `123 != 321`\n",
    "* `123 != 123`\n",
    "* `age == 65`\n",
    "* `age != min_age`\n",
    "\n",
    "* `\"E. coli\" == \"Salmonella\"`\n",
    "* `\"E. coli\" == \"E. coli\"`\n",
    "* `\"E. coli\" == \"E.coli\"`\n",
    "* `\"E. coli\" != \"e. coli\"`\n",
    "\n",
    "### `>` and `>=`\n",
    "* `123 > 10`\n",
    "* `10 > 123`\n",
    "* `123 > 123`\n",
    "* `123 >= 123`\n"
   ]
  },
  {
   "cell_type": "markdown",
   "metadata": {
    "id": "GTamPNU8NwEc"
   },
   "source": [
    "# Boolean Operators - `and`, `or`, and `not`\n",
    "\n",
    "Boolean operators are special operators in Python that let you combine boolean values in logical ways corresponding to how we combine truth values in the real world. An example of a boolean **and** expression would be \"I'll buy a new phone if I like the features **and** the price is low\". There are three main boolean operators: `and`, `or`, and `not`. We'll look at examples of each in the next cells."
   ]
  },
  {
   "cell_type": "markdown",
   "metadata": {
    "id": "5uzIu5wwNxCq"
   },
   "source": [
    "## Boolean `and`\n",
    "\n",
    "* `A and B`\n",
    "\n",
    "is `True` only true when both A and B are `True`, otherwise it's `False`.\n",
    "\n",
    "Example:\n",
    "\n",
    "* I ride my bike only when it's both sunny and warm.\n",
    "* In other words, if `is_sunny` and `is_warm` are both `True` then `is_sunny and is_warm` is `True` so I **will** ride my bike.\n",
    "\n",
    "In Python...\n",
    "```\n",
    "if is_sunny and is_warm:\n",
    "    # ride bike\n",
    "```\n",
    "\n",
    "We haven't learn about `if` statements so don't worry if the previous construct looks unfamiliar. It's a simple way of checking the value of a boolean expression, but we'll dive deeper into `if` statements shortly.\n"
   ]
  },
  {
   "cell_type": "code",
   "execution_count": null,
   "metadata": {
    "id": "PfzPhjzdfr5W"
   },
   "outputs": [],
   "source": [
    "is_sunny = False\n",
    "is_warm = False\n",
    "print(is_sunny and is_warm)"
   ]
  },
  {
   "cell_type": "markdown",
   "metadata": {
    "id": "90Arbj1TN0mK"
   },
   "source": [
    "### Truth Table for boolean `and`\n",
    "|`var1`|`var2`|`var1 and var2`|\n",
    "|------|------|---------------|\n",
    "|`False`|`False`|`False`|\n",
    "|`True`|`False`|`False`|\n",
    "|`False`|`True`|`False`|\n",
    "|`True`|`True`|`True`|"
   ]
  },
  {
   "cell_type": "markdown",
   "metadata": {
    "id": "9QZ93qNgN5Oh"
   },
   "source": [
    "## Boolean `or`\n",
    "\n",
    "* `A or B`\n",
    "\n",
    "is `True` when either A or B are `True`, or when both are `True`, otherwise it's `False`.\n",
    "\n",
    "Example:\n",
    "\n",
    "* I ride my bike  when it's sunny, or warm, or both\n",
    "* In other words, if `is_sunny` or `is_warm` (or both) are `True` then `is_sunny or is_warm` is `True` so I **will** ride my bike.\n",
    "\n",
    "In Python...\n",
    "```\n",
    "if is_sunny or is_warm:\n",
    "  # ride bike\n",
    "```"
   ]
  },
  {
   "cell_type": "markdown",
   "metadata": {
    "id": "OVf9BfHTN8k3"
   },
   "source": [
    "### Truth Table for boolean `or`\n",
    "\n",
    "|`var1`|`var2`|`var1 or var2`|\n",
    "|------|------|---------------|\n",
    "|`False`|`False`|`False`|\n",
    "|`True`|`False`|`True`|\n",
    "|`False`|`True`|`True`|\n",
    "|`True`|`True`|`True`|"
   ]
  },
  {
   "cell_type": "markdown",
   "metadata": {
    "id": "WFlkXCULN_yJ"
   },
   "source": [
    "## Logical Not\n",
    "\n",
    "* `not A`\n",
    "\n",
    "is `True` when A is `False`\n",
    "is `False` when A is `True`"
   ]
  },
  {
   "cell_type": "markdown",
   "metadata": {
    "id": "4OEHQqVjOCkM"
   },
   "source": [
    "### Truth Table for boolean `not`\n",
    "\n",
    "|`var1`|`not var1`|\n",
    "|------|---------|\n",
    "|`False`|`True`|\n",
    "|`True`|`False`|"
   ]
  },
  {
   "cell_type": "markdown",
   "metadata": {
    "id": "NjRlRqDkQxX3"
   },
   "source": [
    "# Expressions Revisited"
   ]
  },
  {
   "cell_type": "markdown",
   "metadata": {
    "id": "ZhpEy8pPQqGz"
   },
   "source": [
    "* Python lets us combine variables, constants and operators into larger units called expressions.\n",
    "* Expressions appear in many places\n",
    "  * assignment statements\n",
    "    * `age = age + 1    # we do this every birthday`\n",
    "  * function calls\n",
    "    * `print(total_days * 365) # number of days alive`\n",
    "* As we learn more, we'll see expressions popping up all over the place"
   ]
  },
  {
   "cell_type": "code",
   "execution_count": null,
   "metadata": {
    "id": "JdS3GxIOQ4DC"
   },
   "outputs": [],
   "source": [
    "age = 49\n",
    "print(age)\n",
    "age = age + 1\n",
    "print(age)\n",
    "age += 1\n",
    "print(age)"
   ]
  },
  {
   "cell_type": "code",
   "execution_count": null,
   "metadata": {
    "id": "EKp1t5XVQ5An"
   },
   "outputs": [],
   "source": [
    "age = 49\n",
    "days_per_year = 365\n",
    "days_old = age * days_per_year\n",
    "print(f\"I am {days_old} days old!\")"
   ]
  },
  {
   "cell_type": "markdown",
   "metadata": {
    "id": "NWQDio7OQ7Ss"
   },
   "source": [
    "## Types of Expressions\n",
    "\n",
    "* arithmetic expressions\n",
    "\n",
    "`tax = income * tax_rate`\n",
    "\n",
    "* comparative expressions\n",
    "\n",
    "`error_count <= 0`\n",
    "\n",
    "* boolean expressions\n",
    "\n",
    "`more_to_do and no_errors`\n",
    "\n",
    "* combinations of the above\n",
    "\n",
    "`valid_ticket and (cur_day - purchase_day) < exp_window`"
   ]
  },
  {
   "cell_type": "markdown",
   "metadata": {
    "id": "J_VZLf1QRAXa"
   },
   "source": [
    "## Order of Evaluation\n",
    "\n",
    "How does Python know the correct order to evaluate a complex expression?\n",
    "\n",
    "Example: `4 + 1 * 5`\n",
    "\n",
    "Is that `(4 + 1) * 5`, which is `25`?  \n",
    "Or is it `4 + (1 * 5)`, which is `9`?\n",
    "\n",
    "Another example:  True or False and False\n",
    "\n",
    "Is that `(True or False) and False`, which is `False`?  \n",
    "Or is it `True or (False and False)`, which is `True`?\n",
    "\n",
    "Python uses operator precedence rules to avoid this ambiguity and evaluate expressions in a predictable way."
   ]
  },
  {
   "cell_type": "markdown",
   "metadata": {
    "id": "-iFwjdFZRDkY"
   },
   "source": [
    "## Simplified Python Precedence Rules\n",
    "\n",
    "This is a subset of the complete rules (in order of highest to lowest precedence):\n",
    "\n",
    "* parentheses (innermost to outermost, left to right)\n",
    "* exponentiation (left to right)\n",
    "* multiplication, division, modulus (left to right)\n",
    "* addition, subtraction (left to right)\n",
    "* comparisons (left to right)\n",
    "* boolean not\n",
    "* boolean and\n",
    "* boolean or\n",
    "\n",
    "[The Official Rules](https://docs.python.org/3/reference/expressions.html#operator-precedence)"
   ]
  },
  {
   "cell_type": "markdown",
   "metadata": {
    "id": "AWaVO8AORHZA"
   },
   "source": [
    "## Practical Advice\n",
    "\n",
    "Marc's rule or operator precedence: **When in doubt, use parentheses.**\n",
    "\n",
    "I make liberal use of parentheses because:\n",
    "* I don't need to remember the precedence rules.\n",
    "* I don't have to worry about surprises.\n",
    "* It makes my code more readable.\n",
    "\n",
    "For example, I could write this expression, which evaluates `A and B` first, then `C and D`, and finally takes the boolean `or` of the two preceding results:\n",
    "\n",
    "`A and B or C and D`\n",
    "\n",
    "but I much prefer to make explicit, like this so I don't have to think about precedence rules every time I look at this code:\n",
    "\n",
    "`(A and B) or (C and D)`"
   ]
  },
  {
   "cell_type": "markdown",
   "metadata": {
    "id": "DaYXt_iJCQOU"
   },
   "source": [
    "## F-strings\n",
    "\n",
    "We often need to combine variables, values, and strings. For example, if we have the following variables:\n",
    "\n",
    "- `customer_id`\n",
    "- `account_balance`\n",
    "\n",
    "we might want to print a report, where each line summarizes the values above. We could do that like this:\n",
    "\n",
    "```\n",
    "print(\"customer id: \", customer_id, \", account balance:\", account_balance)\n",
    "```\n",
    "which produces this output:\n",
    "```\n",
    "customer id:  123 , account balance: 17.9\n",
    "```\n",
    "\n",
    "This sort of construct gets a bit tedious. Plus the space between the customer id and the following comma unintended and undesirable.\n",
    "\n",
    "A relatively new addition to Python, called f-strings, offer a simpler and more readable solution to this problem. If you prefix a string with the character `f`, it gives the string magic powers. Specifically, the sting has the ability to **interpolate** variables inside curly brackets. Here's how we could express the previous `print` statement using an f-string:\n",
    "\n",
    "```\n",
    "print(f\"customer id: {customer_id} account balance: {account_balance}\")\n",
    "```\n",
    "\n",
    "This is shorter, less tedious, easier to read and write, and solves the formatting issue related to the comma between the two fields.\n",
    "\n",
    "Note that you can put any Python code inside the curly braces, so this technique is very powerful. Once you get going with Python, you'll find all sort of wonderful ways to use f-strings."
   ]
  },
  {
   "cell_type": "code",
   "execution_count": null,
   "metadata": {
    "id": "kvRg8zPWED-_"
   },
   "outputs": [],
   "source": [
    "customer_id = 42\n",
    "account_balance = 100.\n",
    "print(f\"customer id: {customer_id}, account balance: {account_balance}\")"
   ]
  },
  {
   "cell_type": "markdown",
   "metadata": {
    "id": "jjLV5OkN6MWS"
   },
   "source": [
    "# Homework"
   ]
  },
  {
   "cell_type": "markdown",
   "metadata": {
    "id": "v77dX6MsRKiz"
   },
   "source": [
    "Evaluate the following expressions mentally, then verify your answer in the following code cell...\n",
    "\n",
    "* `2 + 3 * 4 + 5`\n",
    "* `(2 + 3) * (4 + 5)`\n",
    "* `1 * 2 + 3 * 4 + 5 * 6`\n",
    "* `100 / 25 / 2`\n",
    "* `(100 / 33) <= 3`\n",
    "* `(100 // 33) <= 3`\n",
    "* `True and False and True`\n",
    "* `True and True or False and False`\n",
    "* `100 % 99`\n",
    "* `(100 / 100) // (100 % 100)`\n",
    "\n",
    "EXPLAIN WHAT YOU WANT HERE"
   ]
  },
  {
   "cell_type": "code",
   "execution_count": null,
   "metadata": {
    "id": "JfH1EPqFImOo",
    "outputId": "10a5b68c-1237-40de-f597-b03ece7932b3"
   },
   "outputs": [
    {
     "name": "stdout",
     "output_type": "stream",
     "text": [
      "19\n",
      "45\n",
      "44\n",
      "2.0\n",
      "False\n",
      "True\n",
      "False\n",
      "True\n",
      "1\n"
     ]
    },
    {
     "ename": "ZeroDivisionError",
     "evalue": "ignored",
     "output_type": "error",
     "traceback": [
      "\u001b[0;31m---------------------------------------------------------------------------\u001b[0m",
      "\u001b[0;31mZeroDivisionError\u001b[0m                         Traceback (most recent call last)",
      "\u001b[0;32m<ipython-input-11-7b5dba0cbc1a>\u001b[0m in \u001b[0;36m<module>\u001b[0;34m()\u001b[0m\n\u001b[1;32m      8\u001b[0m \u001b[0mprint\u001b[0m\u001b[0;34m(\u001b[0m\u001b[0;32mTrue\u001b[0m \u001b[0;32mand\u001b[0m \u001b[0;32mTrue\u001b[0m \u001b[0;32mor\u001b[0m \u001b[0;32mFalse\u001b[0m \u001b[0;32mand\u001b[0m \u001b[0;32mFalse\u001b[0m\u001b[0;34m)\u001b[0m\u001b[0;34m\u001b[0m\u001b[0;34m\u001b[0m\u001b[0m\n\u001b[1;32m      9\u001b[0m \u001b[0mprint\u001b[0m\u001b[0;34m(\u001b[0m\u001b[0;36m100\u001b[0m \u001b[0;34m%\u001b[0m \u001b[0;36m99\u001b[0m\u001b[0;34m)\u001b[0m\u001b[0;34m\u001b[0m\u001b[0;34m\u001b[0m\u001b[0m\n\u001b[0;32m---> 10\u001b[0;31m \u001b[0mprint\u001b[0m\u001b[0;34m(\u001b[0m\u001b[0;34m(\u001b[0m\u001b[0;36m100\u001b[0m \u001b[0;34m/\u001b[0m \u001b[0;36m100\u001b[0m\u001b[0;34m)\u001b[0m \u001b[0;34m//\u001b[0m \u001b[0;34m(\u001b[0m\u001b[0;36m100\u001b[0m \u001b[0;34m%\u001b[0m \u001b[0;36m100\u001b[0m\u001b[0;34m)\u001b[0m\u001b[0;34m)\u001b[0m\u001b[0;34m\u001b[0m\u001b[0;34m\u001b[0m\u001b[0m\n\u001b[0m",
      "\u001b[0;31mZeroDivisionError\u001b[0m: float divmod()"
     ]
    }
   ],
   "source": [
    "print(2 + 3 * 4 + 5)\n",
    "print((2 + 3) * (4 + 5))\n",
    "print(1 * 2 + 3 * 4 + 5 * 6)\n",
    "print(100 / 25 / 2)\n",
    "print((100 / 33) <= 3)\n",
    "print((100 // 33) <= 3)\n",
    "print(True and False and True)\n",
    "print(True and True or False and False)\n",
    "print(100 % 99)\n",
    "print((100 / 100) // (100 % 100))"
   ]
  },
  {
   "cell_type": "markdown",
   "metadata": {
    "id": "uN-abTpn6Szi"
   },
   "source": [
    "Assuming we have the following variables and functions:\n",
    "\n",
    "- `customer_id` - customer identifier\n",
    "- `customer_age` - customer age in years\n",
    "- `product_id` - a particular product in the seller's catalog\n",
    "- `active(product_id)` - `True` if there is an active marketing campaign for the passed product id\n",
    "- `bought(customer_id, product_id)` - `True` if the customer previous bought the passed product id\n",
    "- `interested(customer_id, product_id)` - `True` if the customer previous showed interest in the passed product\n",
    "\n",
    "SAY WHAT TO DO!"
   ]
  },
  {
   "cell_type": "code",
   "execution_count": null,
   "metadata": {
    "id": "GfxSZHS9nhSW"
   },
   "outputs": [],
   "source": [
    "customer_age = 49\n",
    "customer_id = 987\n",
    "product_id = 123\n",
    "\n",
    "def active(id):\n",
    "    return True\n",
    "\n",
    "def bought(cid, pid):\n",
    "    return False\n",
    "\n",
    "def interested(cid, pid):\n",
    "    return False"
   ]
  },
  {
   "cell_type": "markdown",
   "metadata": {
    "id": "sbJEUfjV88ou"
   },
   "source": [
    "Your marketing department wants this campaign to start immediately. Formulate an expression to determine whether the current `product_id` has an active marketing campaign, so you can start offering a discount price."
   ]
  },
  {
   "cell_type": "code",
   "execution_count": null,
   "metadata": {
    "id": "Eig9uJ6Q9MzZ",
    "outputId": "1297b4cc-83b6-46f7-9a9e-2856bf28db4a"
   },
   "outputs": [
    {
     "data": {
      "text/plain": [
       "True"
      ]
     },
     "execution_count": 14,
     "metadata": {},
     "output_type": "execute_result"
    }
   ],
   "source": [
    "active(product_id)"
   ]
  },
  {
   "cell_type": "markdown",
   "metadata": {
    "id": "IRhuTi4U9NPA"
   },
   "source": [
    "Marketing says you're allowed to offer the discount to adults only. Formulate an expression to determine whether the current `product_id` has an active marketing campaign and the customer is 18 years of age or older."
   ]
  },
  {
   "cell_type": "code",
   "execution_count": null,
   "metadata": {
    "id": "-k2Y2ZC8-H-z",
    "outputId": "4963adff-bcd8-4f07-e5af-85c5b9dc37dd"
   },
   "outputs": [
    {
     "data": {
      "text/plain": [
       "False"
      ]
     },
     "execution_count": 17,
     "metadata": {},
     "output_type": "execute_result"
    }
   ],
   "source": [
    "active(product_id) and customer_age >= 18"
   ]
  },
  {
   "cell_type": "markdown",
   "metadata": {
    "id": "IBOzLTdk-GuR"
   },
   "source": [
    "Marketing says you're bothering too many people with this promotion. Refine the previous boolean expression by excluding people who've already purchased the product."
   ]
  },
  {
   "cell_type": "code",
   "execution_count": null,
   "metadata": {
    "id": "7kH4f5mI-bFl",
    "outputId": "97887b04-7190-4ce7-c14b-0570e47fa422"
   },
   "outputs": [
    {
     "data": {
      "text/plain": [
       "True"
      ]
     },
     "execution_count": 30,
     "metadata": {},
     "output_type": "execute_result"
    }
   ],
   "source": [
    "active(product_id) and customer_age >= 18 and not bought(customer_id, product_id)"
   ]
  },
  {
   "cell_type": "markdown",
   "metadata": {
    "id": "s25Ss8KY9QHh"
   },
   "source": [
    "Marketing says the campaign is still too intrusive (they're never satisfied). Redo the previous expression so that you retain all the constraints up till now, but include only customers who've shown interest in the product."
   ]
  },
  {
   "cell_type": "code",
   "execution_count": null,
   "metadata": {
    "id": "TFrjStaT-2bN",
    "outputId": "366b0c5b-05cf-439a-97a1-1f62a15a7c60"
   },
   "outputs": [
    {
     "data": {
      "text/plain": [
       "False"
      ]
     },
     "execution_count": 31,
     "metadata": {},
     "output_type": "execute_result"
    }
   ],
   "source": [
    "active(product_id) and customer_age >= 18 and not bought(customer_id, product_id) and interested(customer_id, product_id)"
   ]
  },
  {
   "cell_type": "markdown",
   "metadata": {
    "id": "o1UKEb5V9Qwg"
   },
   "source": [
    "Write a `print` statement to verify the previous expression results in the expected type using a built-in function.\n",
    "\n"
   ]
  },
  {
   "cell_type": "code",
   "execution_count": null,
   "metadata": {
    "id": "zj06kwxk_DpJ",
    "outputId": "bfb339d7-9b56-4b8a-8136-0ec063baa5a1"
   },
   "outputs": [
    {
     "name": "stdout",
     "output_type": "stream",
     "text": [
      "False\n"
     ]
    }
   ],
   "source": [
    "print(active(product_id) and customer_age >= 18 and not bought(customer_id, product_id) and interested(customer_id, product_id))"
   ]
  },
  {
   "cell_type": "markdown",
   "metadata": {
    "id": "bbIjbf2O_JJZ"
   },
   "source": [
    "Assume you have the following variables:\n",
    "\n",
    "- `birth_year` - year customer was born **in a string**\n",
    "- `cur_year` - current year **in a string**\n",
    "\n",
    "Formulate an arithmetic expression to calculate and print the customer's current age."
   ]
  },
  {
   "cell_type": "code",
   "execution_count": null,
   "metadata": {
    "id": "ANUB1h0sJBvi",
    "outputId": "6d6b0d16-f30e-457c-fcd0-f95c86f31d15"
   },
   "outputs": [
    {
     "name": "stdout",
     "output_type": "stream",
     "text": [
      "customer's age: 50\n"
     ]
    }
   ],
   "source": [
    "current_year = \"2022\"\n",
    "birth_year = \"1972\"\n",
    "print(f\"customer's age: {int(current_year) - int(birth_year)}\")"
   ]
  },
  {
   "cell_type": "markdown",
   "metadata": {
    "id": "1KzAlRhCB7fg"
   },
   "source": [
    "[Previous Lesson](https://mco.fyi/py1)\n",
    "&nbsp;&nbsp;&nbsp;&nbsp;&nbsp;&nbsp;&nbsp;&nbsp;&nbsp;&nbsp;\n",
    "[Next Lesson](https://mco.fyi/py3)"
   ]
  },
  {
   "cell_type": "markdown",
   "metadata": {
    "id": "7B_-CpRRW4Zd"
   },
   "source": [
    "# Lesson 3 - Conditionals\n",
    "\n",
    "Link to this notebook: [mco.fyi/py3](https://mco.fyi/py3)\n",
    "\n",
    "**You can make your own copy of this notebook by selecting File->Save a copy in Drive from the menu bar above.**"
   ]
  },
  {
   "cell_type": "markdown",
   "metadata": {
    "id": "NtTK_aaGwr5_"
   },
   "source": [
    "Author note: need to introduce a few built-in functions each lesson, simple i/o functions are a good choice. Print was already covered but should do input() in this lesson and another one or to in lesson 2."
   ]
  },
  {
   "cell_type": "markdown",
   "metadata": {
    "id": "KiBaxNk9bAVl"
   },
   "source": [
    "# Controlling Program Flow\n",
    "\n",
    "Trivia Question:\n",
    "Will the year 2100 be a leap year?\n",
    "\n",
    "* Up to now, we've looked at very simple programs, involving a sequence of statements (A, then B, then C…)\n",
    "* But real world algorithms are rarely so simple\n",
    "\n",
    "Example: If a year is divisible by 4, then it's a leap year, otherwise it's not a leap year.\n",
    "\n",
    "This is called conditional logic because the program’s logic or execution path is determined by the testing of a true or false condition.\n",
    "\n",
    "Everyday example:  if it's not raining then I'll ride my bike to work, otherwise I'll take public transit.\n"
   ]
  },
  {
   "cell_type": "markdown",
   "metadata": {
    "id": "Qoz-W_TIz3QS"
   },
   "source": [
    "# `if` Statements"
   ]
  },
  {
   "cell_type": "markdown",
   "metadata": {
    "id": "aTcPnZnF7S9-"
   },
   "source": [
    "* The `if` statement is how we express conditional logic in Python.\n",
    "* Virtually every programming language has this concept.\n",
    "* If statements define a condition and a sequence of statements to execute if the condition is `True`.\n",
    "\n",
    "Prototype...\n",
    "\n",
    "```\n",
    "if some_expression:    \n",
    "  do_this()\n",
    "  do_that()\n",
    "```\n",
    "\n",
    "If the condition is true, the indented statements are executed.\n",
    "Otherwise, the indented statements are skipped and program execution continues after the `if` statement.\n"
   ]
  },
  {
   "cell_type": "code",
   "execution_count": null,
   "metadata": {
    "id": "NzctV1Z6C3lk",
    "outputId": "e0f256a7-f217-4c50-c54c-7c6c09b107bd"
   },
   "outputs": [
    {
     "name": "stdout",
     "output_type": "stream",
     "text": [
      "boo - back to school again!!!\n",
      "program done\n"
     ]
    }
   ],
   "source": [
    "month = \"jan\"\n",
    "summer_months = [\"jun\", \"july\", \"aug\", \"may\"]\n",
    "\n",
    "if month in summer_months:\n",
    "    print(\"yay - it's still summer!\")\n",
    "else:\n",
    "    print(\"boo - back to school again!!!\")\n",
    "print(\"program done\")"
   ]
  },
  {
   "cell_type": "markdown",
   "metadata": {
    "id": "s6BuZoxH7UcD"
   },
   "source": [
    "## Challenge\n",
    "\n",
    "In Python, we use indentation to associate a block of statements with a condition, for example...\n",
    "\n",
    "```\n",
    "print(\"1\")\n",
    "if some_condition:    \n",
    "  print(\"2\")    \n",
    "  print(\"3\")\n",
    "print(\"4\") # this line is NOT part of the if block\n",
    "```\n",
    "\n",
    "What does the output look like...\n",
    "* when the `some_condition` is True?\n",
    "* when the `some_condition` is False?"
   ]
  },
  {
   "cell_type": "markdown",
   "metadata": {
    "id": "iIM5dHM87YwW"
   },
   "source": [
    "Here’s a slightly different example...\n",
    "```\n",
    "print(\"1\")\n",
    "if some_condition:    \n",
    "  print(\"2\")    \n",
    "print(\"3\")  # this line is NOT part of if block\n",
    "print(\"4\")  # this line is NOT part of if block\n",
    "```\n",
    "What’s different?\n",
    "What does the output look like...\n",
    "* when the `some_condition` is True?\n",
    "* when the `some_condition` is False?\n"
   ]
  },
  {
   "cell_type": "markdown",
   "metadata": {
    "id": "BZrYYUiR8akX"
   },
   "source": [
    "## `if` Block Structure\n",
    "\n",
    "* In Python, `if` statements blocks are defined by indentation.\n",
    "* This idea of using indentation to delineate program structure is pervasive in Python and unique across programming languages.\n",
    "* For now, we're focusing on if statements but later we'll see how indentation is used to define other kinds of statement blocks."
   ]
  },
  {
   "cell_type": "markdown",
   "metadata": {
    "id": "EY_CXBBE8iL0"
   },
   "source": [
    "### Block Stucture in Other Languages\n",
    "\n",
    "In other languages, explicit delineators are used. For example, in Java, C and C++ we would write:\n",
    "\n",
    "```\n",
    "if ((cur_year % 4) == 0) {\n",
    "    leap_year = true;\n",
    "}\n",
    "```\n",
    "\n",
    "whereas, in Python we write:\n",
    "\n",
    "```\n",
    "if (cur_year % 4) == 0:\n",
    "    leap_year = True\n",
    "```\n",
    "Indentation in Java/C/C++ is a helpful practice for program readability but it does not affect program functionality.\n",
    "In Python, indentation is not just a good idea - it's affects program logic!\n"
   ]
  },
  {
   "cell_type": "markdown",
   "metadata": {
    "id": "QeVednm88pEn"
   },
   "source": [
    "## Python's use of whitespace\n",
    "\n",
    "* Many people have strong opinions about this aspect of Python.\n",
    "* Personally, I find that it leads to compact, readable code.\n",
    "* My advice: don’t get hung up on this feature. Try it and see what you think after you've written a few Python programs.\n",
    "* Pitfalls:\n",
    "  * watch out for mismatched indentation within a block\n",
    "  * avoid mixing tabs and spaces in your code\n",
    "  * I prefer spaces because it's more explicit.\n",
    "\n",
    "Marc's law of whitespace: **Pick tabs or spaces and be consistent.**"
   ]
  },
  {
   "cell_type": "markdown",
   "metadata": {
    "id": "zRsgasyw8s7O"
   },
   "source": [
    "## Encoding our leap year rule\n",
    "Remember our leap year rule?\n",
    "\n",
    "* if the current year is divisible by 4, we have a leap year\n",
    "\n",
    "To express that in Python, we could write:\n",
    "```\n",
    "leap_year = False  # initialization\n",
    "cur_year = input(\"Enter current year: \")\n",
    "cur_year = int(cur_year)\n",
    "if (cur_year % 4) == 0:\n",
    "    leap_year = True\n",
    "print(f\"leap year status: {str(leap_year)}\")\n",
    "````\n",
    "**Why is the first statement needed?**\n"
   ]
  },
  {
   "cell_type": "code",
   "execution_count": null,
   "metadata": {
    "id": "YxwIYO539pLb",
    "outputId": "352c779f-77d5-4990-f9bc-2278fcd60444"
   },
   "outputs": [
    {
     "name": "stdout",
     "output_type": "stream",
     "text": [
      "Enter current year: 1961\n",
      "leap year status: False\n"
     ]
    }
   ],
   "source": [
    "leap_year = False  # initialization\n",
    "cur_year = input(\"Enter current year: \")\n",
    "cur_year = int(cur_year)\n",
    "if (cur_year % 4) == 0:\n",
    "    leap_year = True\n",
    "print(f\"leap year status: {leap_year}\")"
   ]
  },
  {
   "cell_type": "markdown",
   "metadata": {
    "id": "nqHUiij_02RO"
   },
   "source": [
    "## `else` Statements"
   ]
  },
  {
   "cell_type": "markdown",
   "metadata": {
    "id": "zkMiG5338ypF"
   },
   "source": [
    "Sometimes we want to specify an alternative to the `if` condition, which we do with an `else` statement, for example...\n",
    "\n",
    "```\n",
    "if <condition>:\n",
    "    <block1>\n",
    "else:\n",
    "    <block2>\n",
    "```\n",
    "\n",
    "* If the condition is true, block1 is executed.\n",
    "* if the condition is false, block2 is executed.\n",
    "\n",
    "The else cause is Python's way of saying \"otherwise...\"\n",
    "\n"
   ]
  },
  {
   "cell_type": "markdown",
   "metadata": {
    "id": "kVG18CiQ838a"
   },
   "source": [
    "Just as `if` blocks are defined by indentation, `else` blocks are also defined by indentation.\n",
    "\n",
    "For example, this:\n",
    "\n",
    "```\n",
    "if <condition>:\n",
    "    <statement1>\n",
    "else:\n",
    "    <statement2>\n",
    "    <statement3>\n",
    "```\n",
    "is different from this:\n",
    "```\n",
    "if <condition>:\n",
    "    <statement1>\n",
    "else:\n",
    "    <statement2>\n",
    "<statement3>\n",
    "```\n"
   ]
  },
  {
   "cell_type": "markdown",
   "metadata": {
    "id": "zIAR_Ahg85Py"
   },
   "source": [
    "### Challenge\n",
    "\n",
    "Consider the following if/else statement...\n",
    "```\n",
    "print(\"1\")\n",
    "if some_condition:    \n",
    "  print(\"2\")\n",
    "else:    \n",
    "  print(\"3\")\n",
    "print(\"4\")\n",
    "```\n",
    "Question: what does the output look like…\n",
    "* when the `some_condition` is True?   \n",
    "* when the `some_condition` is False?  \n"
   ]
  },
  {
   "cell_type": "markdown",
   "metadata": {
    "id": "7eBjL9Ju9BG1"
   },
   "source": [
    "## Let's use `if` and `else` to express our leap year rule"
   ]
  },
  {
   "cell_type": "code",
   "execution_count": null,
   "metadata": {
    "id": "45rV7XpBUS0w",
    "outputId": "282b7fd9-9d1f-404e-ce12-bffb6882e6c0"
   },
   "outputs": [
    {
     "name": "stdout",
     "output_type": "stream",
     "text": [
      "Enter current year: 1961\n",
      "leap year status: False\n"
     ]
    }
   ],
   "source": [
    "cur_year = input(\"Enter current year: \")\n",
    "cur_year = int(cur_year)\n",
    "if (cur_year % 4) == 0:\n",
    "  leap_year = True\n",
    "else:\n",
    "  leap_year = False\n",
    "print(f\"leap year status: {leap_year}\")"
   ]
  },
  {
   "cell_type": "markdown",
   "metadata": {
    "id": "-uwGPHQt0vrJ"
   },
   "source": [
    "## `elif` Statements"
   ]
  },
  {
   "cell_type": "markdown",
   "metadata": {
    "id": "Shf50kOm9GRl"
   },
   "source": [
    "Sometimes we need one or more intermediate conditions between the if and else parts, for example...\n",
    "\n",
    "`if A then do X, else if B then do Y, otherwise do Z`\n",
    "\n",
    "We use the `elif` statement to express this in Python...\n",
    "```\n",
    "if condition1:\n",
    "    do_thing_1()\n",
    "elif condition2:\n",
    "    do_thing_2()\n",
    "else:\n",
    "    do_thing_3()\n",
    "```\n",
    "* If `condition1` is true, `do_thing_1()` is executed.\n",
    "* Otherwise, if `condition2` is true, `do_thing_2()` is executed.\n",
    "* Otherwise, `do_thing_3()` is executed.\n"
   ]
  },
  {
   "cell_type": "markdown",
   "metadata": {
    "id": "L9colMWL9HZw"
   },
   "source": [
    "* `elif` blocks are defined the same way as `if` and `else` blocks - using indentation.\n",
    "\n",
    "* It's good to have an if/elif for every condition of interest and not lump errors together with cases of interest.\n",
    "\n",
    "For example, if you care about values 1 and 2 and everything else is considered an error, this code:\n",
    "\n",
    "```\n",
    "if month == \"jan\":      # deal with 1 here\n",
    "  apply_jan_discount()\n",
    "elif month == \"feb\":    # deal with 2 here\n",
    "  apply_feb_discount()\n",
    "else:           # deal with errors here\n",
    "  apply_no_discount()\n",
    "```\n",
    "is better than this:\n",
    "```\n",
    "if month == \"jan\":\n",
    "  apply_jan_discount()\n",
    "else:    # x must be 2 then, right? not necessarily!\n",
    "  apply_feb_discount()\n",
    "```\n",
    "The latter code hides errors by combining a valid case with error cases.\n"
   ]
  },
  {
   "cell_type": "markdown",
   "metadata": {
    "id": "L_7esHuA9LKs"
   },
   "source": [
    "### Challenge\n",
    "\n",
    "Consider the following if/elif/else statement...\n",
    "```\n",
    "print(\"1\")\n",
    "if condition1:    \n",
    "  print(\"2\")\n",
    "elif condition2:    \n",
    "  print(\"3\")\n",
    "else:    \n",
    "  print(\"4\")\n",
    "print(\"5\")\n",
    "```\n",
    "\n",
    "What does the output look like...\n",
    "* when both conditions are False?  \n",
    "* when both conditions are True?   \n",
    "* when `condition1` is `True` and `condition2` is `False`?   \n",
    "* when `condition1` is `False` and `condition2` is `True`?  "
   ]
  },
  {
   "cell_type": "code",
   "execution_count": null,
   "metadata": {
    "id": "-qg7QFtz4uIU",
    "outputId": "48afcad1-656b-47bf-845c-a58a1c9d28a7"
   },
   "outputs": [
    {
     "name": "stdout",
     "output_type": "stream",
     "text": [
      "1\n",
      "3\n",
      "5\n"
     ]
    }
   ],
   "source": [
    "print(\"1\")\n",
    "if False:\n",
    "  print(\"2\")\n",
    "elif True:\n",
    "  print(\"3\")\n",
    "else:\n",
    "  print(\"4\")\n",
    "print(\"5\")"
   ]
  },
  {
   "cell_type": "markdown",
   "metadata": {
    "id": "D79nPzXo9zZM"
   },
   "source": [
    "## Nested `if` Statements\n",
    "\n",
    "* Sometimes we need to embed one if statement inside another.\n",
    "* We call these nested if statements.\n",
    "* We can embed if statements inside any part of an `if` statement, i.e. in the `if` block or the `elif` block or the `else` block.\n",
    "* We can embed `if` statements arbitrarily deeply, i.e. we\n",
    "can have\n",
    "```\n",
    "  if condition1:\n",
    "    if condition2:\n",
    "      if condition3:\n",
    "        ...\n",
    "```\n"
   ]
  },
  {
   "cell_type": "markdown",
   "metadata": {
    "id": "FdtLybaN97zL"
   },
   "source": [
    "### Challenge\n",
    "\n",
    "```\n",
    "print(\"1\")\n",
    "if condition1:    \n",
    "  print(\"2\")    \n",
    "  if condition2:        \n",
    "    print(\"3\")    \n",
    "  else:        \n",
    "    print(\"4\")\n",
    "else:    \n",
    "  print(\"5\")\n",
    "print(\"6\")\n",
    "```\n",
    "What does the output look like...\n",
    "* when both conditions are False?  \n",
    "* when both conditions are True?   \n",
    "* when `condition1` is `True` and `condition2` is `False`?   \n",
    "* when `condition1` is `False` and `condition2` is `True`?  "
   ]
  },
  {
   "cell_type": "code",
   "execution_count": null,
   "metadata": {
    "id": "MIXbX99c5DpC",
    "outputId": "7199471e-6833-4470-9752-8a2c17e4f580"
   },
   "outputs": [
    {
     "name": "stdout",
     "output_type": "stream",
     "text": [
      "1\n",
      "5\n",
      "6\n"
     ]
    }
   ],
   "source": [
    "print(\"1\")\n",
    "if False:\n",
    "  print(\"2\")\n",
    "  if True:\n",
    "    print(\"3\")\n",
    "  else:\n",
    "    print(\"4\")\n",
    "else:\n",
    "  print(\"5\")\n",
    "print(\"6\")"
   ]
  },
  {
   "cell_type": "markdown",
   "metadata": {
    "id": "uWrJ5KjU-Edv"
   },
   "source": [
    "## Improving Our Rule\n",
    "\n",
    "A more accurate rule for determining leap years:\n",
    "\n",
    "If the current year is divisible by 4 but not divisible by 100 then we have a leap year."
   ]
  },
  {
   "cell_type": "code",
   "execution_count": null,
   "metadata": {
    "id": "YOF4hlnTXsXU",
    "outputId": "b9e6c5dc-ee68-4c8d-e9a0-b0245ffded84"
   },
   "outputs": [
    {
     "name": "stdout",
     "output_type": "stream",
     "text": [
      "Enter current year: 2000\n",
      "leap year status: False\n"
     ]
    }
   ],
   "source": [
    "leap_year = False\n",
    "cur_year = input(\"Enter current year: \")\n",
    "cur_year = int(cur_year)\n",
    "if (cur_year % 4) == 0:\n",
    "  if (cur_year % 100) != 0:\n",
    "    leap_year = True\n",
    "print(f\"leap year status: {leap_year}\")"
   ]
  },
  {
   "cell_type": "markdown",
   "metadata": {
    "id": "d5nFcLIa-I6O"
   },
   "source": [
    "### Variation - using boolean logic instead of nested `if`\n",
    "\n",
    "This example could also be coded using boolean logic in place of the nested if statement."
   ]
  },
  {
   "cell_type": "code",
   "execution_count": null,
   "metadata": {
    "id": "zuThxO12XdqH",
    "outputId": "a780db75-b344-4346-9b77-5ea019d4962e"
   },
   "outputs": [
    {
     "name": "stdout",
     "output_type": "stream",
     "text": [
      "Enter current year: 2000\n",
      "leap year status: False\n"
     ]
    }
   ],
   "source": [
    "leap_year = False\n",
    "cur_year = input(\"Enter current year: \")\n",
    "cur_year = int(cur_year)\n",
    "if (cur_year % 4) == 0 and (cur_year % 100) != 0:\n",
    "    leap_year = True\n",
    "print(f\"leap year status: {leap_year}\")\n",
    "\n",
    "\n"
   ]
  },
  {
   "cell_type": "markdown",
   "metadata": {
    "id": "Jewjo6ZZX87O"
   },
   "source": [
    "What does the above code print for the year...\n",
    "* 2020?\n",
    "* 2100?\n",
    "* 2000?  -- surprise, that one's wrong!"
   ]
  },
  {
   "cell_type": "markdown",
   "metadata": {
    "id": "xm2YA7qo-Op1"
   },
   "source": [
    "## The Whole Story About Leap Years\n",
    "\n",
    "A year is a leap year if its divisible by 4,\n",
    "but it can't be divisible by 100,\n",
    "unless it's also divisible by 400.\n",
    "\n",
    "So...  \n",
    "* 2008 was a leap year because it's divisible by 4 and not divisible by 100.\n",
    "* 2100 will NOT be a leap year because although it's divisible by 4, it is also divisible by 100.\n",
    "* 2000 was a leap year because although it's divisible by 4 and 100, it's also divisible by 400!\n"
   ]
  },
  {
   "cell_type": "markdown",
   "metadata": {
    "id": "jJzPtT8z1Z6f"
   },
   "source": [
    "# Importing Modules"
   ]
  },
  {
   "cell_type": "markdown",
   "metadata": {
    "id": "f-U1JoLp1gcI"
   },
   "source": [
    "`import` is how you use someone else's code.\n",
    "\n",
    "Let's say we want to generate a random number between 1 and 100. We use the Python `random` module, like this..."
   ]
  },
  {
   "cell_type": "code",
   "execution_count": null,
   "metadata": {
    "id": "I-UIGmb5cIM6",
    "outputId": "5350acdf-b226-4c29-9846-db1265e9d0b1"
   },
   "outputs": [
    {
     "name": "stdout",
     "output_type": "stream",
     "text": [
      "['Maple', 'Benji', 'Kirby']\n",
      "['Benji', 'Maple', 'Kirby']\n",
      "['Maple', 'Benji', 'Kirby']\n"
     ]
    }
   ],
   "source": [
    "import random\n",
    "\n",
    "good_dogs = [\"Benji\", \"Maple\", \"Kirby\"]\n",
    "\n",
    "for i in range(3):\n",
    "  random.shuffle(good_dogs)\n",
    "  print(good_dogs)\n",
    "a = \"\"\"\n",
    "count = 1000000\n",
    "sum = 0\n",
    "for i in range(count):\n",
    "  number = random.randint(1, 10)\n",
    "  #print(\"num:\", number)\n",
    "  sum += number\n",
    "  #print(\"sum:\", sum)\n",
    "\n",
    "print(sum/count)\n",
    "\"\"\""
   ]
  },
  {
   "cell_type": "markdown",
   "metadata": {
    "id": "jBs305Ht_KLo"
   },
   "source": [
    "# Homework"
   ]
  },
  {
   "cell_type": "markdown",
   "metadata": {
    "id": "Dd1FNOpnK0-D"
   },
   "source": [
    "## Question 1\n",
    "\n",
    "Write a program that prompts the user for their birth year and prints their age in years, days, hours, minutes, and seconds. Don’t worry about the user’s birthday (just subtract the birth year from the current year to get the approximate current age in years) and you can ignore leap years. Here's a sample run:\n",
    "```\n",
    "    Enter your birth year:  1970\n",
    "    You are...\n",
    "        50 years old\n",
    "        18250 days old\n",
    "        438000 hours old\n",
    "        26280000 minutes old\n",
    "        1576800000 seconds old\n",
    "```\n",
    "Extra challenge:  write the program so that it works any year it is run, not just 2020 (hint: google the Python `datetime` module)."
   ]
  },
  {
   "cell_type": "code",
   "execution_count": null,
   "metadata": {
    "id": "orMwPRauWCOU"
   },
   "outputs": [],
   "source": [
    "# Add your code here"
   ]
  },
  {
   "cell_type": "markdown",
   "metadata": {
    "id": "So9vQ1trLJLX"
   },
   "source": [
    "## Question 2\n",
    "\n",
    "* A person is eligible to be a US Senator if they are at least 30 years old and have been a US citizen for at least 9 years.\n",
    "\n",
    "* A person is eligible to be a US Representative if they are at least 25 years old and have been a US citizen for at least 7 years.\n",
    "\n",
    "Write a program to obtain age and length of citizenship from the user and print out one of the following three statements:\n",
    "\n",
    "* You are eligible to run for both the House and Senate.\n",
    "* You eligible only to run for the House.\n",
    "* You are ineligible for Congress."
   ]
  },
  {
   "cell_type": "code",
   "execution_count": null,
   "metadata": {
    "id": "-8rQKJmiLSsa"
   },
   "outputs": [],
   "source": [
    "# Add your code here"
   ]
  },
  {
   "cell_type": "markdown",
   "metadata": {
    "id": "1jH-_bNlLcHc"
   },
   "source": [
    "## Question 3\n",
    "\n",
    "Write a program that generates two random 1 digit integers and prompts the user to provide the product of those two digits (basically, this is an interactive multiplication tester). Check the user's answer and print a response indicating whether it is correct or not. Here are two sample runs:\n",
    "```\n",
    "Welcome to the multiplication tester!\n",
    "What is 3 * 9? 25\n",
    "Sorry, that is incorrect, 3 * 9 = 27.\n",
    "\n",
    "Welcome to the multiplication tester!\n",
    "What is 4 * 7? 28\n",
    "Correct!\n",
    "```\n",
    "\n",
    "Extra challenge: After reading in chapter 2 about while loops, which we'll cover in class next week, put the code from this program inside a while loop, so that you keep quizzing the user until he or she enters a `q` (for 'quit') in response to one of the questions.\n"
   ]
  },
  {
   "cell_type": "code",
   "execution_count": null,
   "metadata": {
    "id": "rXOX2g4-Ll-9"
   },
   "outputs": [],
   "source": [
    "# Add your code here"
   ]
  },
  {
   "cell_type": "markdown",
   "metadata": {
    "id": "9LYTJHnh0mPe"
   },
   "source": [
    "## Question 4\n",
    "\n",
    "Write a program that prompts the user for a year and, using the complete set of rules described in class, tells the user whether the provided year is a leap year or not."
   ]
  },
  {
   "cell_type": "code",
   "execution_count": null,
   "metadata": {
    "id": "p4ETVG0e02DZ"
   },
   "outputs": [],
   "source": [
    "# Add your code here"
   ]
  },
  {
   "cell_type": "markdown",
   "metadata": {
    "id": "Eis2S--iPOXM"
   },
   "source": [
    "[Previous Lesson](https://mco.fyi/py2)\n",
    "&nbsp;&nbsp;&nbsp;&nbsp;&nbsp;&nbsp;&nbsp;&nbsp;&nbsp;&nbsp;\n",
    "[Next Lesson](https://mco.fyi/py4)"
   ]
  },
  {
   "cell_type": "markdown",
   "metadata": {
    "id": "7B_-CpRRW4Zd"
   },
   "source": [
    "# Lesson 4\n",
    "\n",
    "**Functions, Modules, and IDEs**\n",
    "\n",
    "Link to this notebook: [mco.fyi/py4](https://mco.fyi/py4)\n",
    "\n",
    "**You can make a copy of this notebook by selecting File->Save a copy in Drive from the menu bar above.**"
   ]
  },
  {
   "cell_type": "markdown",
   "metadata": {
    "id": "4rnJEUlpmazL"
   },
   "source": [
    "# Notes"
   ]
  },
  {
   "cell_type": "markdown",
   "metadata": {
    "id": "HK34WpjQyKKQ"
   },
   "source": [
    "## Plan for the Second Half\n",
    "\n",
    "* Week 1 - Python Basics\n",
    "* Week 2 - Booleans, Expressions, Operators, and If Statements\n",
    "* Week 3 - String Revisited and Loops\n",
    "* Week 4 - Functions, Modules, and IDEs\n",
    "---\n",
    "* Week 5 - Tuples, Lists, Dictionaries, and Starting a Project\n",
    "* Week 6 - Reading & Writing Files, Shared Project\n",
    "* Week 7 - The Internet & the Web, Enhancing our News Feed App\n",
    "* Week 8 - Data Science with Python & Deploying mynewsfeed in the Cloud"
   ]
  },
  {
   "cell_type": "markdown",
   "metadata": {
    "id": "8NtCK1__h3UO"
   },
   "source": [
    "## Were you able to install a local copy of Python?\n",
    "\n",
    "Email me if you had problems and we'll sort it out."
   ]
  },
  {
   "cell_type": "markdown",
   "metadata": {
    "id": "njlffYba9SGr"
   },
   "source": [
    "## Project/Study Groups\n",
    "\n",
    "Self-forming via [mco.fyi/groups](https://mco.fyi/groups)."
   ]
  },
  {
   "cell_type": "markdown",
   "metadata": {
    "id": "IF2vh977R-nE"
   },
   "source": [
    "# Functions\n"
   ]
  },
  {
   "cell_type": "markdown",
   "metadata": {
    "id": "t0HB4x7zSarK"
   },
   "source": [
    "## Functions are flexible software building blocks\n",
    "\n",
    "* So far, we’ve been writing small programs.\n",
    "* Things get much more complicated when we write large programs, especially with multiple authors.\n",
    "* Ideally, we'd like to build software like snapping lego pieces together.\n",
    "* What would that buy us?\n",
    "  * abstraction\n",
    "  * reuse\n",
    "  * modularity\n",
    "  * maintainability\n"
   ]
  },
  {
   "cell_type": "markdown",
   "metadata": {
    "id": "Q1AThwoeWq-_"
   },
   "source": [
    "### Abstraction - You don't need to do everything\n",
    "\n",
    "* When building a house, you don't do everything yourself.\n",
    "  * You hire an architect, a carpenter, an electrician, a roofer, a plumber, a mason.\n",
    "  * You might hire a contractor to hire and manage all those people.\n",
    "* In our programs we delegate tasks to certain functions, like `print()`, so that we don't have to worry about all the details.\n",
    "  * It's a bit like hiring an electrician so that we don't have to worry about the details of electrical wiring in our house.\n"
   ]
  },
  {
   "cell_type": "markdown",
   "metadata": {
    "id": "kRSeTwXFW7DM"
   },
   "source": [
    "### Reuse - Don't Reinvent the Wheel\n",
    "\n",
    "* it's ok to reuse other people's work\n",
    "  * it's not stealing\n",
    "  * it makes you more efficient and more productive\n",
    "* Very few people build a house from scratch\n",
    "  * so don't try to build programs from scratch"
   ]
  },
  {
   "cell_type": "markdown",
   "metadata": {
    "id": "5tT_kiFjYIpb"
   },
   "source": [
    "#### Reuse Example\n",
    "You can count the number of words in a string the hard way..."
   ]
  },
  {
   "cell_type": "code",
   "execution_count": null,
   "metadata": {
    "id": "uubqVKszFLoK"
   },
   "outputs": [],
   "source": [
    "mystr = 'This      is a test.'\n",
    "cnt = 0\n",
    "for i in mystr:\n",
    "  if i.isspace():\n",
    "    cnt += 1\n",
    "cnt += 1\n",
    "print('number of words =', cnt)"
   ]
  },
  {
   "cell_type": "markdown",
   "metadata": {
    "id": "a804f1uCFemA"
   },
   "source": [
    "Or the easy way, by calling a string method..."
   ]
  },
  {
   "cell_type": "code",
   "execution_count": null,
   "metadata": {
    "id": "aXu9iH9kFkXM"
   },
   "outputs": [],
   "source": [
    "mystr = 'This       is a test.'\n",
    "cnt = len(mystr.split())\n",
    "print('number of words =', cnt)"
   ]
  },
  {
   "cell_type": "markdown",
   "metadata": {
    "id": "ZjlWbakQFhz2"
   },
   "source": [
    "Which would you rather use? Which is more reliable?\n",
    "* The first approach is great for learning.\n",
    "* The second approach is great for getting real work done.\n"
   ]
  },
  {
   "cell_type": "markdown",
   "metadata": {
    "id": "PGbEhmEAYXxv"
   },
   "source": [
    "### Modularity - Divide and Conquer\n",
    "* So far, our programs have been monoliths - one  continous sequence of Python statements.\n",
    "* Real programs are often much bigger than the ones we've written.\n",
    "  * Google's software repository has billions of lines of source code ([Why Google Stores Billions of Lines of Code in a Single Repository](https://cacm.acm.org/magazines/2016/7/204032-why-google-stores-billions-of-lines-of-code-in-a-single-repository/fulltext))\n",
    "  * No one person can write a program that big.\n",
    "  * Large programs are built by teams.\n",
    "  * In order to build large, complex programs, we need the ability to divide program logic into manageable pieces.\n",
    "* We call this modularity - dividing software into pieces or modules.\n"
   ]
  },
  {
   "cell_type": "markdown",
   "metadata": {
    "id": "iBPnZBIdZCCq"
   },
   "source": [
    "### Maintainability - Keeping your code DRY (Don't Repeat Yourself)\n",
    "* Imagine that you need to do roughly the same thing in ten different places so you copy the code to those ten locations.\n",
    "  * What happens when you find a bug or want to improve that piece of code?\n",
    "  * You need to make the change ten times.\n",
    "  * Will you remember to do that?\n",
    "  * If you do remember, will you catch all ten locations?\n",
    "  * Copying code is a bad thing - it leads to bugs.\n"
   ]
  },
  {
   "cell_type": "markdown",
   "metadata": {
    "id": "XsXu3tyfZagC"
   },
   "source": [
    "### Functions solve all of these Problems\n",
    "\n",
    "* Functions give us the ability to:\n",
    "  * Hide low level details (abstraction)\n",
    "  * Share and reuse pieces of functionality (reuse)\n",
    "  * Split programs into manageable pieces (modularity)\n",
    "  * Write one copy of an algorithm and use it anywhere (maintainability)\n",
    "* We've already used several functions\n",
    "  * `print()`, `input()`, `int()`, `len()`, `range()`, etc.\n",
    "* Now let's see how to define our own functions.\n"
   ]
  },
  {
   "cell_type": "markdown",
   "metadata": {
    "id": "xjZpdnvMycJM"
   },
   "source": [
    "## Defining Functions\n",
    "\n",
    "* example:\n",
    "```\n",
    "def function_name(arg1, arg2):\n",
    "    '''This is a docstring.'''  # optional but a good idea\n",
    "    statement1\n",
    "    statement2\n",
    "    ...\n",
    "```\n",
    "* Not surprisingly, we define the scope of the function body using indentation (just like how we define blocks for if statements, for loops, etc.).\n",
    "* This is a bit like an assignment statement in that it assigns a block of code (the function body) to the function name.\n",
    "  * Function names have the same rules as variable names.\n",
    "  * This only defines a function - it doesn't execute it.\n"
   ]
  },
  {
   "cell_type": "code",
   "execution_count": null,
   "metadata": {
    "id": "5Hlbe-sYaJp8"
   },
   "outputs": [],
   "source": [
    "def speak():\n",
    "  '''\n",
    "     this function generates hello in Clyro language\n",
    "     don't try this near a dog\n",
    "  '''\n",
    "  print('meow')"
   ]
  },
  {
   "cell_type": "markdown",
   "metadata": {
    "id": "5o2mco2220b1"
   },
   "source": [
    "### Docstrings\n",
    "* string defined immediately after the def line\n",
    "* usually triple quoted since it may be multi-line\n",
    "* not required but a good way to document your functions\n",
    "* IDEs use the docstring to make your life easier\n",
    "* automates output of `help(function)`"
   ]
  },
  {
   "cell_type": "markdown",
   "metadata": {
    "id": "bRhweVvt3CVf"
   },
   "source": [
    "### Example Function"
   ]
  },
  {
   "cell_type": "code",
   "execution_count": null,
   "metadata": {
    "id": "xbJeh1p5QCvy",
    "outputId": "f4f165e5-6254-40bc-a67c-a255d209684f"
   },
   "outputs": [
    {
     "name": "stdout",
     "output_type": "stream",
     "text": [
      "3628800\n"
     ]
    }
   ],
   "source": [
    "# The factorial of N is defined as 1*2*...*N.\n",
    "# Here's an example function definition...\n",
    "def fact10():\n",
    "  '''\n",
    "  Print the factorial of 10.\n",
    "  Factorial of 10 is defined as 1*2*...*10.\n",
    "  '''\n",
    "  num = 10\n",
    "  result = 1\n",
    "  for i in range(1, num+1):\n",
    "      result *= i # result = result * i\n",
    "  print(result)\n",
    "\n",
    "fact10()"
   ]
  },
  {
   "cell_type": "code",
   "execution_count": null,
   "metadata": {
    "id": "-QC40fS6P6eW"
   },
   "outputs": [],
   "source": [
    "# Get help about this function...\n",
    "help(fact10)"
   ]
  },
  {
   "cell_type": "code",
   "execution_count": null,
   "metadata": {
    "id": "JQ3S4ickQSHo"
   },
   "outputs": [],
   "source": [
    "# And here's how we would call this function...\n",
    "fact10()\n"
   ]
  },
  {
   "cell_type": "markdown",
   "metadata": {
    "id": "3aRAKCjF44YD"
   },
   "source": [
    "### Passing Values to a Function\n",
    "\n",
    "* `fact10()` is limited.\n",
    "* It only prints the factorial for one value (10).\n",
    "* It would be nice if we could define a more flexible version, that could pring the factorial of any number, like this...\n",
    "\n"
   ]
  },
  {
   "cell_type": "code",
   "execution_count": null,
   "metadata": {
    "id": "6GhguiZ9QuNp",
    "outputId": "58f02493-b74e-44bb-b298-8566e9a9c0da"
   },
   "outputs": [
    {
     "name": "stdout",
     "output_type": "stream",
     "text": [
      "2432902008176640000\n"
     ]
    }
   ],
   "source": [
    "def fact(num):\n",
    "    '''Print the factorial of any number.'''\n",
    "    result = 1\n",
    "    for i in range(1, num+1):\n",
    "        result *= i\n",
    "    print(result)\n",
    "\n",
    "fact(20)"
   ]
  },
  {
   "cell_type": "markdown",
   "metadata": {
    "id": "lvckwRh-5NnY"
   },
   "source": [
    "### Parameters and Arguments\n",
    "* The variables we define in a function to take on the values passed by the caller are called parameters.\n",
    "* In this code, `a`, `b` and `c` are parameters:\n",
    "```\n",
    "def sum(a, b, c):\n",
    "    return a + b + c\n",
    "```\n",
    "* The values supplied by the caller when calling a function are called arguments.\n",
    "* In this code, `1`, `2`, and `3` are arguments:\n",
    "```\n",
    "sum(1, 2, 3)\n",
    "```\n"
   ]
  },
  {
   "cell_type": "markdown",
   "metadata": {
    "id": "RxZNVXjg5hyP"
   },
   "source": [
    "### Passing Arguments\n",
    "* Functions can define any number of parameters, including zero.\n",
    "* Multiple parameters are separated by commas, like this...\n",
    "```\n",
    "def product(a, b, c):\n",
    "    return a * b * c\n",
    "```\n",
    "* If you pass the wrong number of arguments, you'll hear about it:\n",
    "```\n",
    "product(1, 2)\n",
    "...\n",
    "TypeError: product() takes exactly 3 positional argument (2 given)\n",
    "...\n",
    "```\n"
   ]
  },
  {
   "cell_type": "markdown",
   "metadata": {
    "id": "kNuuRlHm5x51"
   },
   "source": [
    "### Return Values\n",
    "\n",
    "Instead of printing the result, we can also have the function return a result to the caller so that the caller can print it or use it in a calculation.\n",
    "```\n",
    "def fact(num):\n",
    "    ''' compute factorial of any number '''\n",
    "    fact = 1\n",
    "    for i in range(1, num+1):\n",
    "        fact *= i\n",
    "    return(fact)\n",
    "```\n",
    "Here's how we would call this function:\n",
    "```\n",
    "f = fact(5)\n",
    "print('5! = ', f)\n",
    "```"
   ]
  },
  {
   "cell_type": "markdown",
   "metadata": {
    "id": "1faLXr5p6BVU"
   },
   "source": [
    "* Functions return a value to the caller via the `return` statement.\n",
    "* The `return` statement causes two things to happen...\n",
    "  * the function ends and control is returned to the caller\n",
    "  * the returned value is passed back to the caller\n",
    "* You can have as many return statements as you like (including zero).\n",
    "* If the caller wants to do something with a returned value, it needs to save it or use it in an expression...\n",
    "```\n",
    "resp = input('Yes or No (y/n)? ')\n",
    "```\n",
    "* If the caller ignores the return value, it's lost...\n",
    "```\n",
    "input('Yes or No (y/n)? ') # this loses the answer\n",
    "```\n"
   ]
  },
  {
   "cell_type": "code",
   "execution_count": null,
   "metadata": {
    "id": "soXGSIgyd8eZ"
   },
   "outputs": [],
   "source": [
    "def fact(num):\n",
    "    ''' compute factorial of any number '''\n",
    "    fact = 1\n",
    "    for i in range(1, num+1):\n",
    "        fact *= i\n",
    "    return(fact)\n",
    "\n",
    "def addupto(num):\n",
    "    sum = 0\n",
    "    for i in range(1,num+1):\n",
    "      sum += i\n",
    "    return sum\n",
    "\n",
    "total = addupto(100)\n",
    "print(total)"
   ]
  },
  {
   "cell_type": "markdown",
   "metadata": {
    "id": "YetYi5D86ZLM"
   },
   "source": [
    "### Returning Multiple Values\n",
    "\n",
    "* Functions can return multiple values.\n",
    "* Simply specify more than one comma separated value in the `return` statement.\n",
    "* This function returns two values...\n",
    "```\n",
    "def divide(dividend, divisor):\n",
    "    quotient = dividend / divisor\n",
    "    remainder = dividend % divisor\n",
    "    return quotient, remainder\n",
    "```\n",
    "\n",
    "* You could receive the results like this:\n",
    "```\n",
    "(q, r) = divide(100, 9)\n",
    "print(f'quotient={q}, remainer={r}')\n",
    "```\n"
   ]
  },
  {
   "cell_type": "code",
   "execution_count": null,
   "metadata": {
    "id": "Z_jj2MJzFlCj"
   },
   "outputs": [],
   "source": [
    "def divide(dividend, divisor):\n",
    "  quotient = dividend / divisor\n",
    "  remainder = dividend % divisor\n",
    "  return quotient, remainder\n",
    "\n",
    "(q, r) = divide(100, 9)\n",
    "print(f'quotient={q}, remainer={r}')"
   ]
  },
  {
   "cell_type": "markdown",
   "metadata": {
    "id": "_T_oveJx64ej"
   },
   "source": [
    "## Challenge\n",
    "\n",
    "Can you think of a function we've used which...\n",
    "* takes no arguments?\n",
    "* takes only one argument?\n",
    "* takes a variable number of arguments?\n",
    "* returns no return values?\n",
    "* returns one return value?\n",
    "* returns a sequence of values?\n"
   ]
  },
  {
   "cell_type": "code",
   "execution_count": null,
   "metadata": {
    "cellView": "form",
    "id": "R6_jKawAyqyE"
   },
   "outputs": [],
   "source": [
    "#@title Double click here to reveal answers...\n",
    "\n",
    "# takes no arguments?\n",
    "print()\n",
    "# takes only one argument?\n",
    "input('Enter your name: ')\n",
    "# takes a variable number of arguments?\n",
    "print('hello')\n",
    "print('hello', 'world')\n",
    "# returns no return values?\n",
    "print()\n",
    "# returns one return value?\n",
    "len('test')\n",
    "# returns a sequence of values?\n",
    "range(5)"
   ]
  },
  {
   "cell_type": "markdown",
   "metadata": {
    "id": "SQVCVPEm8Jm9"
   },
   "source": [
    "## Namespaces\n",
    "\n",
    "* A `namespace` is an abstract collection of variables that exist in a particular context.\n",
    "  * Kind of like a company's ID numbers.\n",
    "  * My id is only valid within the scope of my company.\n",
    "* We've seen an example of a namespace in this code...\n",
    "```\n",
    "import random\n",
    "x = random.randrange(10)\n",
    "```\n",
    "* In this case, the random module has it's own namespace, which is completely separate from the rest of your program and is accessed via \"dot\" notation.\n",
    "* If you neglect the \"random.\" prefix, you're referring to a different namespace:  your program's global namespace."
   ]
  },
  {
   "cell_type": "markdown",
   "metadata": {
    "id": "FdCGOU6p8XWd"
   },
   "source": [
    "### Global Namespace\n",
    "\n",
    "* Every Python source file has its own global name space.\n",
    "* The global namespace includes all names (variables and functions) defined outside of any functions, in the Python source file.\n",
    "* In the following code, `count`, `mystr` and `req` are all global variables, i.e. they all reside in the global namespace.\n",
    "```\n",
    "count = 0\n",
    "while True:\n",
    "    mystr = input('? ')\n",
    "    if (mystr == '1'):\n",
    "        req = 'add'\n",
    "    else:\n",
    "        break\n",
    "    count += 1\n",
    "```\n"
   ]
  },
  {
   "cell_type": "markdown",
   "metadata": {
    "id": "UupYaK6E8lTz"
   },
   "source": [
    "### Local Namespace\n",
    "\n",
    "* When you define a function, Python creates a local namespace for that function, including all parameters and variables created inside the function body.\n",
    "* Variables in a local namespace are separate from and independent of variables in the global name space.\n",
    "* Inside a function, local variables supersede global variables with the same name.\n",
    "* Local variables are transient - they exist only during the lifetime of function execution."
   ]
  },
  {
   "cell_type": "markdown",
   "metadata": {
    "id": "j7Os_GOH1JoD"
   },
   "source": [
    "### Example illustrating local variable superseding a global variable"
   ]
  },
  {
   "cell_type": "code",
   "execution_count": null,
   "metadata": {
    "id": "KiiUODR54gRF"
   },
   "outputs": [],
   "source": [
    "var1 = 1\n",
    "def func():\n",
    "    var2 = 2  # local scope\n",
    "    print('local var:', var2)\n",
    "func()\n",
    "print('global var:', var2)"
   ]
  },
  {
   "cell_type": "markdown",
   "metadata": {
    "id": "rwCPHFoy1Q0t"
   },
   "source": [
    "### Example illustrating the transient nature of the local namespace"
   ]
  },
  {
   "cell_type": "code",
   "execution_count": null,
   "metadata": {
    "id": "FfbV97bh4zZ3",
    "outputId": "c9f7de97-9a36-467d-fdf4-68125b927eea"
   },
   "outputs": [
    {
     "name": "stdout",
     "output_type": "stream",
     "text": [
      "local var: 2\n"
     ]
    },
    {
     "ename": "NameError",
     "evalue": "ignored",
     "output_type": "error",
     "traceback": [
      "\u001b[0;31m---------------------------------------------------------------------------\u001b[0m",
      "\u001b[0;31mNameError\u001b[0m                                 Traceback (most recent call last)",
      "\u001b[0;32m<ipython-input-1-6591250f689a>\u001b[0m in \u001b[0;36m<module>\u001b[0;34m()\u001b[0m\n\u001b[1;32m      3\u001b[0m     \u001b[0mprint\u001b[0m\u001b[0;34m(\u001b[0m\u001b[0;34m'local var:'\u001b[0m\u001b[0;34m,\u001b[0m \u001b[0mx2\u001b[0m\u001b[0;34m)\u001b[0m\u001b[0;34m\u001b[0m\u001b[0;34m\u001b[0m\u001b[0m\n\u001b[1;32m      4\u001b[0m \u001b[0mfunc\u001b[0m\u001b[0;34m(\u001b[0m\u001b[0;34m)\u001b[0m\u001b[0;34m\u001b[0m\u001b[0;34m\u001b[0m\u001b[0m\n\u001b[0;32m----> 5\u001b[0;31m \u001b[0mprint\u001b[0m\u001b[0;34m(\u001b[0m\u001b[0;34m'global var:'\u001b[0m\u001b[0;34m,\u001b[0m \u001b[0mx2\u001b[0m\u001b[0;34m)\u001b[0m\u001b[0;34m\u001b[0m\u001b[0;34m\u001b[0m\u001b[0m\n\u001b[0m",
      "\u001b[0;31mNameError\u001b[0m: name 'x2' is not defined"
     ]
    }
   ],
   "source": [
    "def func():\n",
    "    x2 = 2  # local scope\n",
    "    print('local var:', x2)\n",
    "func()\n",
    "print('global var:', x2)"
   ]
  },
  {
   "cell_type": "markdown",
   "metadata": {
    "id": "n4xG7RFuSBhD"
   },
   "source": [
    "# Modules"
   ]
  },
  {
   "cell_type": "markdown",
   "metadata": {
    "id": "FNiije3F7hyN"
   },
   "source": [
    "* A module is a file of reusable Python code.\n",
    "* The module's name is the file without the .py extension.\n",
    "* We've already seen how modules are imported...\n",
    "```\n",
    "import random\n",
    "```\n",
    "* In order for Python to see one your modules, the module file (with .py extension) needs to be in the same directory as the program you are running or in a special,  predefined system location.\n",
    "  * `sys.path` in Python\n",
    "  * `PYTHONPATH` in shell environment\n"
   ]
  },
  {
   "cell_type": "markdown",
   "metadata": {
    "id": "qEARzlD47xre"
   },
   "source": [
    "## Module Namespace\n",
    "\n",
    "* Every module has its own namespace, which is independent of the main source file's global namespace\n",
    "* You can access objects in a module's namespace using this general syntax:\n",
    "```\n",
    "module-name.variable\n",
    "module-name.function(<args>)\n",
    "```\n",
    "* For example, as we've already seen...\n",
    "```\n",
    "rand_val = random.randrange(0, 10)\n",
    "```\n"
   ]
  },
  {
   "cell_type": "code",
   "execution_count": null,
   "metadata": {
    "id": "Z70E4IFAIaA7"
   },
   "outputs": [],
   "source": [
    "from random import random, randint\n",
    "print(random())\n",
    "randint()\n"
   ]
  },
  {
   "cell_type": "markdown",
   "metadata": {
    "id": "1Yq51ZLi9mpi"
   },
   "source": [
    "## The `from` Statement\n",
    "\n",
    "* You can also import code using this syntax...\n",
    "```\n",
    "from module-name import *\n",
    "```\n",
    "* This says loads all the names (*) from the designated module into the global namespace.\n",
    "* With this kind of import, the module names get loaded into the global namespace, which means you don't need to qualify your accesses with the `module-name.` prefix.\n",
    "* For example, you could do this...\n",
    "```\n",
    "from random import *\n",
    "rand_val = randrange(0, 10)\n",
    "# I didn't need to use random.randrange(0, 10)\n",
    "```\n",
    "\n",
    "* You can also import selected names from a module\n",
    "```\n",
    "from random import randrange, randint\n",
    "```\n",
    "* This says load only those names explicitly listed (`randrange` and `randint`, in this case) from the designated module into the global namespace.\n",
    "* As in the previous example, after this import the names are loaded into the common global namespace so there is no need to qualify them...\n",
    "```\n",
    "from random import randrange, randint\n",
    "rand_val = randrange(0, 10)\n",
    "```\n",
    "\n"
   ]
  },
  {
   "cell_type": "markdown",
   "metadata": {
    "id": "iV5LLDaw92Ea"
   },
   "source": [
    "## When to use `import` vs. `from`\n",
    "* Generally, it's better to use `import` because...\n",
    "  * less risk of name clashes and other surprises\n",
    "  * makes your code more explicit and clear\n",
    "* Occasionally, you may find that you use a module’s functions so frequently that it pays to import it directly into the global namespace with `from`.\n",
    "* That’s fine but do so carefully and watch out for name conflicts.\n"
   ]
  },
  {
   "cell_type": "markdown",
   "metadata": {
    "id": "_6s0SozSmTuO"
   },
   "source": [
    "# IDEs and Editors"
   ]
  },
  {
   "cell_type": "markdown",
   "metadata": {
    "id": "8oYJAxh9ll49"
   },
   "source": [
    "* Integrated Development Environments\n",
    "* Programs to help you write programs\n",
    "* Many popular ones...\n",
    "  * Visual Studio Code (my favorite)\n",
    "  * Vim\n",
    "  * PyCharm\n",
    "  * **Mu - great for beginners, we'll use this one**\n",
    "\n"
   ]
  },
  {
   "cell_type": "markdown",
   "metadata": {
    "id": "BrBfMyW7gCFl"
   },
   "source": [
    "# Example Programs"
   ]
  },
  {
   "cell_type": "code",
   "execution_count": null,
   "metadata": {
    "id": "JhX5dJ9tdFbq"
   },
   "outputs": [],
   "source": [
    "# Example Program 1 - Study Group Formation\n",
    "\n",
    "import string\n",
    "import math\n",
    "from random import sample\n",
    "\n",
    "def groups(student_list, group_size):\n",
    "  students = set(student_list)\n",
    "  #print(students)\n",
    "  for i in range(math.ceil(len(students) / group_size)):\n",
    "    k = min(group_size, len(students))\n",
    "    group = sample(students, k)\n",
    "    print(group)\n",
    "    for j in group:\n",
    "      students.remove(j)\n",
    "\n",
    "students = ('Marc', 'Alex', 'Maya', 'Dina', 'Mitchell', 'Jordan', 'Bob', 'Carol')\n",
    "#groups(students, 3)\n",
    "groups(string.ascii_lowercase, 5)"
   ]
  },
  {
   "cell_type": "markdown",
   "metadata": {
    "id": "nkxuivpM_Qis"
   },
   "source": [
    "## Example Program 2 - Web Server in Mu\n",
    "\n",
    "webserve.py...\n",
    "```\n",
    "# A simple web application.\n",
    "from flask import Flask, render_template\n",
    "\n",
    "app = Flask(__name__)\n",
    "\n",
    "@app.route('/hello/<name>')\n",
    "def greet(name='Stranger'):\n",
    "    return render_template(\"greeting.html\", name=name)\n",
    "    \n",
    "@app.route(\"/\")\n",
    "def index():\n",
    "    return render_template('index.html')\n",
    "```\n",
    "\n",
    "greeting.html...\n",
    "```\n",
    "{% extends \"base.html\" %}\n",
    "{% block content %}\n",
    "<p>Hello {{name}}, how are you?</p>\n",
    "{% endblock %}\n",
    "```"
   ]
  },
  {
   "cell_type": "markdown",
   "metadata": {
    "id": "jBs305Ht_KLo"
   },
   "source": [
    "# Homework"
   ]
  },
  {
   "cell_type": "markdown",
   "metadata": {
    "id": "mGfNQFRGUtYI"
   },
   "source": [
    "* If you're caught up in the textbook, this is a free week for reading but if you haven't yet read the first three chapters of [Automate the Boring Stuff with Python](http://automatetheboringstuff.com/), now would be a great time to catch up!\n",
    "* Make a copy of this notebook (if you haven't already done so) and complete the challenges above. You can make a copy of this notebook by selecting File->Save a copy in Drive from the menu bar above.\n",
    "* Review your copy of this notebook.\n",
    "  * Complete all the challenges above.\n",
    "  * Complete the questions below.\n",
    "  * If something is unclear, experiment and see if you can understand it better.\n",
    "* For next class...\n",
    "  * Install the [Mu IDE](https://codewith.mu/)\n",
    "  * Email me (marc@mco.dev) if you have any problems.\n"
   ]
  },
  {
   "cell_type": "markdown",
   "metadata": {
    "id": "ju5mRvkfFTDj"
   },
   "source": [
    "## Question 1\n",
    "\n",
    "Write a function called `total` that returns the sum of a range of integers starting with the first passed value and ending at one less than the second passed value.\n",
    "\n",
    "For example, `total(4, 7)` returns `15` (`4`+`5`+`6`)."
   ]
  },
  {
   "cell_type": "code",
   "execution_count": null,
   "metadata": {
    "id": "75wNAt34FqMZ"
   },
   "outputs": [],
   "source": [
    "# Add your code here\n",
    "def total(a, b):\n"
   ]
  },
  {
   "cell_type": "code",
   "execution_count": null,
   "metadata": {
    "id": "a6ikEMuyFrOx",
    "outputId": "8633f61e-662a-4e46-dd69-ef25e5ebc28a"
   },
   "outputs": [
    {
     "ename": "AssertionError",
     "evalue": "ignored",
     "output_type": "error",
     "traceback": [
      "\u001b[0;31m---------------------------------------------------------------------------\u001b[0m",
      "\u001b[0;31mAssertionError\u001b[0m                            Traceback (most recent call last)",
      "\u001b[0;32m<ipython-input-7-6a32a3e4bf9e>\u001b[0m in \u001b[0;36m<module>\u001b[0;34m()\u001b[0m\n\u001b[1;32m     14\u001b[0m   \u001b[0mcomputed\u001b[0m \u001b[0;34m=\u001b[0m \u001b[0mtotal\u001b[0m\u001b[0;34m(\u001b[0m\u001b[0ma\u001b[0m\u001b[0;34m,\u001b[0m \u001b[0mb\u001b[0m\u001b[0;34m)\u001b[0m\u001b[0;34m\u001b[0m\u001b[0;34m\u001b[0m\u001b[0m\n\u001b[1;32m     15\u001b[0m   \u001b[0mactual\u001b[0m \u001b[0;34m=\u001b[0m \u001b[0msum\u001b[0m\u001b[0;34m(\u001b[0m\u001b[0;34m[\u001b[0m\u001b[0mi\u001b[0m \u001b[0;32mfor\u001b[0m \u001b[0mi\u001b[0m \u001b[0;32min\u001b[0m \u001b[0mrange\u001b[0m\u001b[0;34m(\u001b[0m\u001b[0ma\u001b[0m\u001b[0;34m,\u001b[0m \u001b[0mb\u001b[0m\u001b[0;34m)\u001b[0m\u001b[0;34m]\u001b[0m\u001b[0;34m)\u001b[0m\u001b[0;34m\u001b[0m\u001b[0;34m\u001b[0m\u001b[0m\n\u001b[0;32m---> 16\u001b[0;31m   \u001b[0;32massert\u001b[0m \u001b[0mcomputed\u001b[0m \u001b[0;34m==\u001b[0m \u001b[0mactual\u001b[0m\u001b[0;34m,\u001b[0m \u001b[0;34mf'Test {i} failed: {computed} != {actual}'\u001b[0m\u001b[0;34m\u001b[0m\u001b[0;34m\u001b[0m\u001b[0m\n\u001b[0m\u001b[1;32m     17\u001b[0m \u001b[0;34m\u001b[0m\u001b[0m\n\u001b[1;32m     18\u001b[0m \u001b[0mprint\u001b[0m\u001b[0;34m(\u001b[0m\u001b[0;34m'All tests passed!'\u001b[0m\u001b[0;34m)\u001b[0m\u001b[0;34m\u001b[0m\u001b[0;34m\u001b[0m\u001b[0m\n",
      "\u001b[0;31mAssertionError\u001b[0m: Test 0 failed: 0 != 15"
     ]
    }
   ],
   "source": [
    "# Run this cell to test your code...\n",
    "test_data = (\n",
    "  (4, 7),\n",
    "  (10, 12),\n",
    "  (1, 1),\n",
    "  (0, 0),\n",
    "  (0, 1),\n",
    "  (1, 0),\n",
    "  (-5, 2),\n",
    "  (-2, 2),\n",
    ")\n",
    "\n",
    "for i, (a, b) in enumerate(test_data):\n",
    "  computed = total(a, b)\n",
    "  actual = sum([i for i in range(a, b)])\n",
    "  assert computed == actual, f'Test {i} failed: {computed} != {actual}'\n",
    "\n",
    "print('All tests passed!')"
   ]
  },
  {
   "cell_type": "markdown",
   "metadata": {
    "id": "Dd1FNOpnK0-D"
   },
   "source": [
    "## Question 2\n",
    "\n",
    "Write a function called `reverse` that returns a reversed copy of a passed string. For example, `reverse('Obama')` returns `amabO`.\n"
   ]
  },
  {
   "cell_type": "code",
   "execution_count": null,
   "metadata": {
    "id": "orMwPRauWCOU"
   },
   "outputs": [],
   "source": [
    "# Add your code here"
   ]
  },
  {
   "cell_type": "code",
   "execution_count": null,
   "metadata": {
    "cellView": "both",
    "id": "314VvVKCMIzK"
   },
   "outputs": [],
   "source": [
    "# Run this cell to test your code...\n",
    "import random\n",
    "import string\n",
    "\n",
    "def reverse_test(a, b):\n",
    "  rev = reverse(a)\n",
    "  assert rev == b, f'{rev} != {b}'\n",
    "\n",
    "# Some basic tests.\n",
    "reverse_test('Obama', 'amabO')\n",
    "reverse_test('Marc', 'craM')\n",
    "reverse_test('', '')\n",
    "reverse_test('aaa', 'aaa')\n",
    "reverse_test('A a', 'a A')\n",
    "\n",
    "# Test a very long string.\n",
    "random_str = ''\n",
    "reverse_random_str = ''\n",
    "for i in range(1000):\n",
    "  ch = random.choice(string.ascii_lowercase)\n",
    "  random_str += ch\n",
    "  reverse_random_str = ch + reverse_random_str\n",
    "reverse_test(random_str, reverse_random_str)\n",
    "\n",
    "print('tests passed')"
   ]
  },
  {
   "cell_type": "markdown",
   "metadata": {
    "id": "G1gIiB5uKS4w"
   },
   "source": [
    "## Question 3\n",
    "\n",
    "Copy your `reverse()` function and my test code into files in the Mu IDE and run them on your own computer."
   ]
  },
  {
   "cell_type": "markdown",
   "metadata": {
    "id": "IEUU-OPeL3B_"
   },
   "source": [
    "## Question 4\n",
    "\n",
    "Import *only* the `random()` function from the `random` module. Write a function called `rando` that returns, on average, `True` half the time and `False` half the time.\n"
   ]
  },
  {
   "cell_type": "code",
   "execution_count": null,
   "metadata": {
    "id": "YgiDU5EAMXiY"
   },
   "outputs": [],
   "source": [
    "# Add your code here"
   ]
  },
  {
   "cell_type": "code",
   "execution_count": null,
   "metadata": {
    "id": "RfJiTPUjMaUj"
   },
   "outputs": [],
   "source": [
    "# Run this cell to test your code...\n",
    "import seaborn as sns\n",
    "height = 100\n",
    "\n",
    "li = []\n",
    "for i in range(10000):\n",
    "  position = height // 2\n",
    "  for j in range(2 * height):\n",
    "    if rando():\n",
    "      position = min(height, position+1)\n",
    "    else:\n",
    "      position = max(0, position-1)\n",
    "  li.append(position)\n",
    "\n",
    "sns.distplot(li)"
   ]
  },
  {
   "cell_type": "markdown",
   "metadata": {
    "id": "iWrTAzBWKg-c"
   },
   "source": [
    "## Question 5\n",
    "\n",
    "Try some exercises on [codingbat.com/python](https://codingbat.com/python)."
   ]
  }
 ],
 "metadata": {
  "colab": {
   "provenance": [
    {
     "file_id": "15KAyGvriQwRoXQa3t70jmi3XumKBxDRi",
     "timestamp": 1718237753735
    }
   ]
  },
  "kernelspec": {
   "display_name": "Python 3 (ipykernel)",
   "language": "python",
   "name": "python3"
  },
  "language_info": {
   "name": "python"
  }
 },
 "nbformat": 4,
 "nbformat_minor": 0
}
