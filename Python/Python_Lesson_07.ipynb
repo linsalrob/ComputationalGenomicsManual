{
 "cells": [
  {
   "cell_type": "markdown",
   "metadata": {
    "id": "wjZKXZ9dXJUr"
   },
   "source": [
    "<a name=\"top\"></a>\n",
    "# Introduction to Python Programming for Bioinformatics. Lesson 7\n",
    "\n",
    "<details>\n",
    "<summary>\n",
    "About this notebook\n",
    "</summary>\n",
    "\n",
    "This notebook was originally written by [Marc Cohen](https://github.com/mco-gh), an engineer at Google. The original source can be found on [Marc's short link service](https://mco.fyi/), and starts with [Python lesson 0](https://mco.fyi/py0), and I encourage you to work through that notebook if you find some details missing here.\n",
    "\n",
    "Rob Edwards edited the notebook, adapted it for bioinformatics, using some simple geneticy examples, condensed it into a single notebook, and rearranged some of the lessons, so if some of it does not make sense, it is Rob's fault!\n",
    "\n",
    "It is intended as a hands-on companion to an in-person course, and if you would like Rob to teach this course (or one of the other courses) don't hesitate to get in touch with him.\n",
    "\n",
    "</details>\n",
    "<details>\n",
    "<summary>\n",
    "Using this notebook\n",
    "</summary>\n",
    "\n",
    "\n",
    "You can download the original version of this notebook from [GitHub](https://linsalrob.github.io/ComputationalGenomicsManual/Python/Python_Lesson_7.ipynb) and from [Rob's Google Drive]()\n",
    "\n",
    "**You should make your own copy of this notebook by selecting File->Save a copy in Drive from the menu bar above, and then you can edit the code and run it as your own**\n",
    "\n",
    "There are several lessons, and you can do them in any order. I've tried to organise them in the order I think most appropriate, but you may disagree!\n",
    "</details>\n"
   ]
  },
  {
   "cell_type": "markdown",
   "metadata": {
    "id": "_Km_oeNBXJUy"
   },
   "source": [
    "<a name=\"lessons\"></a>\n",
    "\n",
    "# Lesson Links\n",
    "\n",
    "* [Lesson 7 - Reading and Writing Files](#Lesson-7---Reading-and-Writing-Files)\n",
    "  * [Reading a fasta file](#Reading-a-fasta-file)\n",
    "  * [Writing to files](#Writing-to-files)\n",
    "  * [Reading and writing gzip files](#Reading-and-writing-gzip-files)\n",
    "\n",
    "Previous Lesson: [GitHub](Python_Lesson_06.ipynb) | [Google Colab](https://colab.research.google.com/drive/1iLE4rkhVxige0za_H0ehtb9NNzzxQIwu)\n",
    "\n",
    "Next Lesson: [GitHub](Python_Lesson_08.ipynb) | [Google Colab](https://colab.research.google.com/drive/1ytI6exHPmHDvtzwRsS-zELWlJBOig9L9)\n"
   ]
  },
  {
   "cell_type": "markdown",
   "metadata": {
    "id": "h5syOsPbFcOA"
   },
   "source": [
    "# Lesson 7 - Reading and Writing Files\n",
    "\n",
    "In bioinformatics almost all our data is stored in text files. Sometimes we compress them to save space, but DNA sequences, read mapping, feature counts, RNAseq counts, and everything else are saved in files.\n",
    "\n",
    ">**TIP**: When you are saving data, use `.tsv` - tab separated variables - files, that separate things with tabs. Often, people use commas to separate their data, but that becomes more complex when your data also contains commas (eg. in protein functions, names, and other things). Nothing contains tabs, and so they are essentially a unique separator!\n",
    "\n",
    "Python has a built-in function called `open()` that we usually use with two parameters: the filename to open and the `mode` to open it:\n",
    "\n",
    "* r: open the file to read\n",
    "* w: open the file to write\n",
    "* a: open the file to append to\n",
    "\n",
    "_Note_: If you open a file in mode `w` that already exists, it will delete your file and overwrite it!\n",
    "\n",
    "Almost always we use `r` or `w` to read and write from a file"
   ]
  },
  {
   "cell_type": "markdown",
   "metadata": {
    "id": "YTjQiSCuXJVS"
   },
   "source": [
    "## Reading a fasta file\n",
    "\n",
    "The [fasta format](https://en.wikipedia.org/wiki/FASTA_format) is one of the simplest file formats for storing DNA sequences.\n",
    "\n",
    "The identifier line(s) begin with `>`, while the other lines are sequence lines.\n",
    "\n",
    "Here's a function that reads a fasta file and returns a dictionary of all the sequences in the file"
   ]
  },
  {
   "cell_type": "code",
   "execution_count": null,
   "metadata": {
    "executionInfo": {
     "elapsed": 5,
     "status": "ok",
     "timestamp": 1719455904081,
     "user": {
      "displayName": "Rob Edwards",
      "userId": "17780279723170493443"
     },
     "user_tz": -570
    },
    "id": "Q1_6XhqmXZQb"
   },
   "outputs": [],
   "source": [
    "def read_fasta(filename):\n",
    "  \"\"\"\n",
    "  Read a fasta file and return a dictionary of sequences.\n",
    "  :param filename: The name of the file to read.\n",
    "  :type filename: str\n",
    "  :return: A dictionary of sequences.\n",
    "  :rtype: dict\n",
    "  \"\"\"\n",
    "\n",
    "  sequences = {}\n",
    "  with open(filename, \"r\") as f:\n",
    "    for line in f:\n",
    "      line = line.strip()\n",
    "      if line.startswith(\">\"):\n",
    "        name = line[1:]\n",
    "        sequences[name] = \"\"\n",
    "      else:\n",
    "        sequences[name] += line\n",
    "  return sequences"
   ]
  },
  {
   "cell_type": "markdown",
   "metadata": {
    "id": "uHgWeCMQIW6g"
   },
   "source": [
    "Note the line:\n",
    "\n",
    "```\n",
    "with open(filename, \"r\") as f:\n",
    "```\n",
    "\n",
    "this starts a new block of code and does a few things:\n",
    "- opens the file `filename` for reading (`r`)\n",
    "- saves the open file as variable `f` for dealing with later\n",
    "- when the `with open ...` block exits, Python automatially closes the file and cleans up any access. This is _less_ important (but still important) when reading a file, but very important when writing a file.\n",
    "\n",
    "\n",
    "We can use that to read a fasta file. Download the [crassphage Bc 01 sequence](https://raw.githubusercontent.com/linsalrob/ComputationalGenomicsManual/master/Python/Bc01.fasta) to your computer and then open the file folder icon in the left bar, and drop the file there. Google Colab will warn you that the file is temporary, and that's OK, because you can always download it again!\n",
    "\n",
    "We'll read the fasta and print the sequences and their lengths"
   ]
  },
  {
   "cell_type": "code",
   "execution_count": null,
   "metadata": {
    "colab": {
     "base_uri": "https://localhost:8080/"
    },
    "executionInfo": {
     "elapsed": 347,
     "status": "ok",
     "timestamp": 1719456039823,
     "user": {
      "displayName": "Rob Edwards",
      "userId": "17780279723170493443"
     },
     "user_tz": -570
    },
    "id": "Fpi-HI_1JIrd",
    "outputId": "940f6fcb-dfe0-44a0-cae6-7d0fdf36d769"
   },
   "outputs": [],
   "source": [
    "sequences = read_fasta(\"Bc01.fasta\")\n",
    "for name, sequence in sequences.items():\n",
    "  print(f\"{name}: {len(sequence)}\")"
   ]
  },
  {
   "cell_type": "markdown",
   "metadata": {
    "id": "9lIZYUiqJRPv"
   },
   "source": [
    "Lets extend that and calculate the reverse complement of each sequence using the method we defined earlier.\n",
    "\n",
    "_Note:_ If you have come back here make sure that you run the block of code with the `reverse_complement()` function above\n"
   ]
  },
  {
   "cell_type": "code",
   "execution_count": null,
   "metadata": {
    "executionInfo": {
     "elapsed": 348,
     "status": "ok",
     "timestamp": 1719459555316,
     "user": {
      "displayName": "Rob Edwards",
      "userId": "17780279723170493443"
     },
     "user_tz": -570
    },
    "id": "O4nx4o7nxoaX"
   },
   "outputs": [],
   "source": [
    "def reverse_complement(dna):\n",
    "    \"\"\"\n",
    "    Reverse complement a DNA sequence\n",
    "    :param dna: The DNA sequence\n",
    "    :type dna: str\n",
    "    :return: The reverse complement of the DNA sequence\n",
    "    :rtype: str\n",
    "    \"\"\"\n",
    "    complements = str.maketrans('acgtrymkbdhvACGTRYMKBDHV', 'tgcayrkmvhdbTGCAYRKMVHDB')\n",
    "    rcseq = dna.translate(complements)[::-1]\n",
    "    return rcseq"
   ]
  },
  {
   "cell_type": "code",
   "execution_count": null,
   "metadata": {
    "colab": {
     "base_uri": "https://localhost:8080/"
    },
    "executionInfo": {
     "elapsed": 535,
     "status": "ok",
     "timestamp": 1719459563943,
     "user": {
      "displayName": "Rob Edwards",
      "userId": "17780279723170493443"
     },
     "user_tz": -570
    },
    "id": "P2eJWK5xJ7-0",
    "outputId": "720cbfdb-63b9-4b80-f8c0-befad416d9f2"
   },
   "outputs": [],
   "source": [
    "sequences = read_fasta(\"Bc01.fasta\")\n",
    "for name, sequence in sequences.items():\n",
    "  print(f\">{name}\\n{reverse_complement(sequence)}\")"
   ]
  },
  {
   "cell_type": "markdown",
   "metadata": {
    "id": "BsnTm1x9KtAi"
   },
   "source": [
    "## Writing to files\n",
    "\n",
    "To open a file for writing, we use the same notation as we did for reading the file, but instead we open it in mode `w` for writing.\n",
    "\n",
    "We modify our print statement to include the file to write to."
   ]
  },
  {
   "cell_type": "code",
   "execution_count": null,
   "metadata": {
    "executionInfo": {
     "elapsed": 336,
     "status": "ok",
     "timestamp": 1719459663391,
     "user": {
      "displayName": "Rob Edwards",
      "userId": "17780279723170493443"
     },
     "user_tz": -570
    },
    "id": "XBMpdtOyLBr1"
   },
   "outputs": [],
   "source": [
    "filename = \"Bc01_rc.fasta\" # the reverse complement of the sequence\n",
    "with open(filename, \"w\") as f:\n",
    "  for name, sequence in sequences.items():\n",
    "    print(f\">{name}\\n{reverse_complement(sequence)}\", file=f)"
   ]
  },
  {
   "cell_type": "markdown",
   "metadata": {
    "id": "hBOAN6cnLYBc"
   },
   "source": [
    "Now you have a new file called `Bc01_rc.fasta` in your files tab that contains the reverse complement of the sequence."
   ]
  },
  {
   "cell_type": "markdown",
   "metadata": {
    "id": "LKGKi6esLfes"
   },
   "source": [
    "## Reading and writing gzip files\n",
    "\n",
    "We _often_ compress files with a program called [gzip](https://en.wikipedia.org/wiki/Gzip) and the files have a name that ends `.gz`.\n",
    "\n",
    "We can use this to determine whether we are going to read a text file or a gzip file, and then use the `gzip.open()` instead of the regular `open()` function.\n",
    "\n",
    "In the next section we're going to learn about modules, but for now, we're going to use a module called `gzip` and we need to `import` it so we can access it.\n",
    "\n",
    "`gzip.open()` is essentially a drop in replacement, but we have to add one additional parameter which tells `gzip` whether to return binary data (ie. raw data) or to convert it to text. We assign that to a variable if the file name ends `.gz`, otherwise we use the default `open()` function. Note the more compressed format of `if ... else` that is often used to put everything on one line.\n",
    "\n",
    "Here's our modified `read_fasta()` function that accepts both plain text and gzip compressed text."
   ]
  },
  {
   "cell_type": "code",
   "execution_count": null,
   "metadata": {
    "executionInfo": {
     "elapsed": 343,
     "status": "ok",
     "timestamp": 1719459874982,
     "user": {
      "displayName": "Rob Edwards",
      "userId": "17780279723170493443"
     },
     "user_tz": -570
    },
    "id": "NI3Qm4zMLKzr"
   },
   "outputs": [],
   "source": [
    "def read_fasta(filename):\n",
    "  \"\"\"\n",
    "  Read a fasta file and return a dictionary of sequences. The file can be plain text or gzip compressed.\n",
    "  :param filename: The name of the file to read.\n",
    "  :type filename: str\n",
    "  :return: A dictionary of sequences.\n",
    "  :rtype: dict\n",
    "  \"\"\"\n",
    "\n",
    "  # normally we would put the import function at the beginning of the code\n",
    "  import gzip\n",
    "\n",
    "  sequences = {}\n",
    "  opener = gzip.open if filename.endswith(\".gz\") else open\n",
    "  with opener(filename, \"rt\") as f:\n",
    "    for line in f:\n",
    "      line = line.strip()\n",
    "      if line.startswith(\">\"):\n",
    "        name = line[1:]\n",
    "        sequences[name] = \"\"\n",
    "      else:\n",
    "        sequences[name] += line\n",
    "  return sequences"
   ]
  },
  {
   "cell_type": "markdown",
   "metadata": {
    "id": "vs9i-DZ-NgIH"
   },
   "source": [
    "if you grab the gzip [compressed version of the Bc01 sequence](https://raw.githubusercontent.com/linsalrob/ComputationalGenomicsManual/master/Python/Bc01.fasta.gz), you can test this out."
   ]
  },
  {
   "cell_type": "code",
   "execution_count": null,
   "metadata": {
    "colab": {
     "base_uri": "https://localhost:8080/",
     "height": 321
    },
    "executionInfo": {
     "elapsed": 354,
     "status": "error",
     "timestamp": 1719460169659,
     "user": {
      "displayName": "Rob Edwards",
      "userId": "17780279723170493443"
     },
     "user_tz": -570
    },
    "id": "00EP7bQbMdvt",
    "outputId": "7363a19b-07ab-495a-9c2d-68e2fa07e254"
   },
   "outputs": [],
   "source": [
    "sequences = read_fasta(\"Bc01.fasta.gz\")\n",
    "for name, sequence in sequences.items():\n",
    "  print(f\"{name}: {len(sequence)}\")"
   ]
  },
  {
   "cell_type": "markdown",
   "metadata": {
    "id": "53QlpqhMh7QX"
   },
   "source": [
    "[Return to the lesson listing](#lessons)\n",
    "\n",
    "[Return to the top of the notebook](#top)"
   ]
  }
 ],
 "metadata": {
  "colab": {
   "provenance": [
    {
     "file_id": "15KAyGvriQwRoXQa3t70jmi3XumKBxDRi",
     "timestamp": 1718237753735
    }
   ]
  },
  "kernelspec": {
   "display_name": "Python 3 (ipykernel)",
   "language": "python",
   "name": "python3"
  },
  "language_info": {
   "codemirror_mode": {
    "name": "ipython",
    "version": 3
   },
   "file_extension": ".py",
   "mimetype": "text/x-python",
   "name": "python",
   "nbconvert_exporter": "python",
   "pygments_lexer": "ipython3",
   "version": "3.9.5"
  }
 },
 "nbformat": 4,
 "nbformat_minor": 4
}
