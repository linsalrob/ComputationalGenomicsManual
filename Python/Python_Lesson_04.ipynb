{
 "cells": [
  {
   "cell_type": "markdown",
   "metadata": {
    "id": "wjZKXZ9dXJUr"
   },
   "source": [
    "\n",
    "<a name=\"top\"></a>\n",
    "\n",
    "# Introduction to Python Programming for Bioinformatics. Lesson 4\n",
    "\n",
    "<details>\n",
    "<summary>\n",
    "About this notebook\n",
    "</summary>\n",
    "\n",
    "\n",
    "This notebook was originally written by [Marc Cohen](https://github.com/mco-gh), an engineer at Google. The original source can be found on [Marc's short link service](https://mco.fyi/), and starts with [Python lesson 0](https://mco.fyi/py0), and I encourage you to work through that notebook if you find some details missing here.\n",
    "\n",
    "Rob Edwards edited the notebook, adapted it for bioinformatics, using some simple geneticy examples, condensed it into a single notebook, and rearranged some of the lessons, so if some of it does not make sense, it is Rob's fault!\n",
    "\n",
    "It is intended as a hands-on companion to an in-person course, and if you would like Rob to teach this course (or one of the other courses) don't hesitate to get in touch with him.\n",
    "\n",
    "</details>\n",
    "<details>\n",
    "<summary>\n",
    "Using this notebook\n",
    "</summary>\n",
    "\n",
    "You can download the original version of this notebook from [GitHub](https://linsalrob.github.io/ComputationalGenomicsManual/Python/Python_Lesson_4.ipynb) and from [Rob's Google Drive]()\n",
    "\n",
    "**You should make your own copy of this notebook by selecting File->Save a copy in Drive from the menu bar above, and then you can edit the code and run it as your own**\n",
    "\n",
    "There are several lessons, and you can do them in any order. I've tried to organise them in the order I think most appropriate, but you may disagree!\n",
    "</details>\n"
   ]
  },
  {
   "cell_type": "markdown",
   "metadata": {
    "id": "_Km_oeNBXJUy"
   },
   "source": [
    "<a name=\"lessons\"></a>\n",
    "# Lesson Links\n",
    "\n",
    "* [Lesson 4 - Dictionaries](#Lesson-4---Dictionaries)\n",
    "  * [Dictionary Operations](#Dictionary-Operations)\n",
    "  * [Rule of thumb for truth value of lists, and dictionaries](#Rule-of-thumb-for-truth-value-of-lists,-and-dictionaries)\n",
    "\n",
    "Previous Lesson: [GitHub](Python_Lesson_03.ipynb) | [Google Colab](https://colab.research.google.com/drive/1NbWawPfWAQV2x56rG0SvcMNpXI7sn3R0)\n",
    "\n",
    "Next Lesson: [GitHub](Python_Lesson_05.ipynb) | [Google Colab](https://colab.research.google.com/drive/1VmGd4AAb1fBKOjmemYIKnPgu58xGE5so)\n"
   ]
  },
  {
   "cell_type": "markdown",
   "metadata": {
    "id": "Qutim0GBealC"
   },
   "source": [
    "# Lesson 4 - Dictionaries"
   ]
  },
  {
   "cell_type": "markdown",
   "metadata": {
    "id": "a815xmQ8f9Hz"
   },
   "source": [
    "A dictionary is an organized collection of key/value pairs.\n",
    "The data is organized for quick access via the key, somewhat like a real dictionary, where words are the keys and their definitions are the associated values.\n",
    "\n",
    "Dictionaries are defined using curly braces with key:value pairs separated by commas, like this:\n",
    "```\n",
    "websites = {\n",
    "  'Flinders': 'https://www.flinders.edu.au',\n",
    "  'EdwardsLab': 'https://edwards.flinders.edu.au',\n",
    "  'FAME': 'https://fame.flinders.edu.au'\n",
    "}\n",
    "```\n",
    "\n",
    "This data type is known by various names in other languages:\n",
    "- map (C++)\n",
    "- hash (Java)\n",
    "- associative array (generic term)\n",
    "\n",
    "This object type is extremely powerful for representing indexed data. The keys in a dictionary are arranged to facilitate fast lookup by key value.\n",
    "- They are optimized for direct, not sequential, access\n",
    "- There is no implied order of keys or values\n",
    "- You can't index a dictionary by position\n",
    "- But you can index dictionaries very quickly by key value, as we’ll see\n",
    "- You can't take slices of a dictionary\n",
    "- Dictionaries, like lists, can grow, shrink, or change over time\n",
    "\n",
    "- Dictionary keys must be something that can't change (e.g., string, number, tuple) because changing keys on the fly would confuse the dictionary.\n",
    "- Dictionary values can have any type\n",
    "\n",
    "[Python's dictionary documentation](https://docs.python.org/3/library/stdtypes.html#mapping-types-dict)\n",
    "\n",
    "[Rob's introduction to programming dictionaries](https://youtu.be/uW8-HkmNq4Q?si=zhzlUxGut6ARE26K) (but because it's Java they are called hashes).\n"
   ]
  },
  {
   "cell_type": "markdown",
   "metadata": {
    "id": "lidzOmOdgZ1j"
   },
   "source": [
    "## Dictionary Operations\n"
   ]
  },
  {
   "cell_type": "code",
   "execution_count": null,
   "metadata": {
    "colab": {
     "base_uri": "https://localhost:8080/"
    },
    "executionInfo": {
     "elapsed": 5,
     "status": "ok",
     "timestamp": 1719453061034,
     "user": {
      "displayName": "Rob Edwards",
      "userId": "17780279723170493443"
     },
     "user_tz": -570
    },
    "id": "I7K5Shw6funP",
    "outputId": "1a124193-28cd-4292-c3ab-2db967101994"
   },
   "outputs": [],
   "source": [
    "# Create an empty dictionary (use curly braces instead of parens or square brackets)\n",
    "genetic_code = {}\n",
    "print(genetic_code)"
   ]
  },
  {
   "cell_type": "code",
   "execution_count": null,
   "metadata": {
    "colab": {
     "base_uri": "https://localhost:8080/"
    },
    "executionInfo": {
     "elapsed": 330,
     "status": "ok",
     "timestamp": 1719453074690,
     "user": {
      "displayName": "Rob Edwards",
      "userId": "17780279723170493443"
     },
     "user_tz": -570
    },
    "id": "2NIXBuQXf5Zi",
    "outputId": "64b181ef-5b41-4c1b-95fa-58cf9f69e2d1"
   },
   "outputs": [],
   "source": [
    "# Create and initialize a dictionary\n",
    "genetic_code = { 'UUU' : 'Phe', 'UUA': 'Leu' }\n",
    "print(genetic_code)"
   ]
  },
  {
   "cell_type": "code",
   "execution_count": null,
   "metadata": {
    "colab": {
     "base_uri": "https://localhost:8080/"
    },
    "executionInfo": {
     "elapsed": 348,
     "status": "ok",
     "timestamp": 1719453095291,
     "user": {
      "displayName": "Rob Edwards",
      "userId": "17780279723170493443"
     },
     "user_tz": -570
    },
    "id": "mGtQ2thnf9xX",
    "outputId": "d7fc1ac4-abd0-4881-a97a-602f0a468d7e"
   },
   "outputs": [],
   "source": [
    "# If the same key occurs multiple times, python only keeps the last value\n",
    "x = { 'UUU' : 'Leu', 'UUU' : 'Phe' }\n",
    "print(x)\n"
   ]
  },
  {
   "cell_type": "code",
   "execution_count": null,
   "metadata": {
    "colab": {
     "base_uri": "https://localhost:8080/"
    },
    "executionInfo": {
     "elapsed": 346,
     "status": "ok",
     "timestamp": 1719453135848,
     "user": {
      "displayName": "Rob Edwards",
      "userId": "17780279723170493443"
     },
     "user_tz": -570
    },
    "id": "fq2dZdklSjIY",
    "outputId": "12fd59c6-518f-45d9-ebd4-585ff263550f"
   },
   "outputs": [],
   "source": [
    "# but the same value may appear any number of times.\n",
    "x = { 'CGA' : 'Arg', 'CGC' : 'Arg', 'CGG' : 'Arg', 'CGU' : 'Arg' }\n",
    "print(x)"
   ]
  },
  {
   "cell_type": "code",
   "execution_count": null,
   "metadata": {
    "colab": {
     "base_uri": "https://localhost:8080/"
    },
    "executionInfo": {
     "elapsed": 355,
     "status": "ok",
     "timestamp": 1719453199217,
     "user": {
      "displayName": "Rob Edwards",
      "userId": "17780279723170493443"
     },
     "user_tz": -570
    },
    "id": "tB32mA1mgG8d",
    "outputId": "0ce977ad-00e9-47a2-9744-2616986a9367"
   },
   "outputs": [],
   "source": [
    "# Get the size of a dictionary (returns number of key/value pairs)\n",
    "genetic_code = { 'UUU' : 'Phe', 'UUA': 'Leu', 'CGA' : 'Arg', 'CGC' : 'Arg', 'CGG' : 'Arg', 'CGU' : 'Arg' }\n",
    "print(len(genetic_code))"
   ]
  },
  {
   "cell_type": "code",
   "execution_count": null,
   "metadata": {
    "colab": {
     "base_uri": "https://localhost:8080/"
    },
    "executionInfo": {
     "elapsed": 334,
     "status": "ok",
     "timestamp": 1719453206704,
     "user": {
      "displayName": "Rob Edwards",
      "userId": "17780279723170493443"
     },
     "user_tz": -570
    },
    "id": "f-xpYZw6gKAg",
    "outputId": "0b961a24-3e15-4a5e-ddbf-d95213d5e2fd"
   },
   "outputs": [],
   "source": [
    "# Retrieve the value associated with a given key\n",
    "genetic_code = { 'UUU' : 'Phe', 'UUA': 'Leu', 'CGA' : 'Arg', 'CGC' : 'Arg', 'CGG' : 'Arg', 'CGU' : 'Arg' }\n",
    "codon = 'UUU'\n",
    "amino_acid = genetic_code[codon]\n",
    "print(f\"The translation of {codon} is {amino_acid}\")"
   ]
  },
  {
   "cell_type": "code",
   "execution_count": null,
   "metadata": {
    "colab": {
     "base_uri": "https://localhost:8080/",
     "height": 193
    },
    "executionInfo": {
     "elapsed": 337,
     "status": "error",
     "timestamp": 1719453235053,
     "user": {
      "displayName": "Rob Edwards",
      "userId": "17780279723170493443"
     },
     "user_tz": -570
    },
    "id": "WuBLq6qagPY6",
    "outputId": "346e634c-b5f7-4e31-a684-5fdf044387cc"
   },
   "outputs": [],
   "source": [
    "# The value inside the square brackets may be a literal, a variable or any\n",
    "# arbitrary expression. Similar syntax to list indexing but key based,\n",
    "# not positional.\n",
    "# Attempting to retrieve a non-existent key causes an error\n",
    "genetic_code = { 'UUU' : 'Phe', 'UUA': 'Leu', 'CGA' : 'Arg', 'CGC' : 'Arg', 'CGG' : 'Arg', 'CGU' : 'Arg' }\n",
    "codon = 'AAA'\n",
    "genetic_code[codon]"
   ]
  },
  {
   "cell_type": "code",
   "execution_count": null,
   "metadata": {
    "colab": {
     "base_uri": "https://localhost:8080/"
    },
    "executionInfo": {
     "elapsed": 361,
     "status": "ok",
     "timestamp": 1719453291108,
     "user": {
      "displayName": "Rob Edwards",
      "userId": "17780279723170493443"
     },
     "user_tz": -570
    },
    "id": "L84ooapvgjWL",
    "outputId": "bcdc6eb7-a5b1-4c6c-c8ca-6351f82b9ead"
   },
   "outputs": [],
   "source": [
    "# play it safe by testing for key existence before access\n",
    "genetic_code = { 'UUU' : 'Phe', 'UUA': 'Leu', 'CGA' : 'Arg', 'CGC' : 'Arg', 'CGG' : 'Arg', 'CGU' : 'Arg' }\n",
    "codon = 'AAA'\n",
    "if codon in genetic_code:\n",
    "    amino_acid = genetic_code[codon]\n",
    "    print(f\"The translation of {codon} is {amino_acid}\")\n",
    "else:\n",
    "    print(f\"We didn't find a translation for {codon}\")\n",
    "\n",
    "codon = 'UUU'\n",
    "if codon in genetic_code:\n",
    "    amino_acid = genetic_code[codon]\n",
    "    print(f\"The translation of {codon} is {amino_acid}\")\n",
    "else:\n",
    "    print(f\"We didn't find a translation for {codon}\")\n",
    "\n",
    "# When used with dictionaries, the in operator only checks the existence\n",
    "# of keys, not values. You can also use “not in” to test for non-existence\n",
    "# of a key."
   ]
  },
  {
   "cell_type": "code",
   "execution_count": null,
   "metadata": {
    "colab": {
     "base_uri": "https://localhost:8080/"
    },
    "executionInfo": {
     "elapsed": 1088,
     "status": "ok",
     "timestamp": 1719453363424,
     "user": {
      "displayName": "Rob Edwards",
      "userId": "17780279723170493443"
     },
     "user_tz": -570
    },
    "id": "4DdUyr4-hAO6",
    "lines_to_next_cell": 2,
    "outputId": "a64be6f0-4f5c-4910-87d3-b9a60d763895"
   },
   "outputs": [],
   "source": [
    "genetic_code = { 'UUU' : 'Phe', 'UUA': 'Leu', 'CGA' : 'Arg', 'CGC' : 'Arg', 'CGG' : 'Arg', 'CGU' : 'Arg' }\n",
    "# loop through a dictionary (this iterates over the dictionary keys)\n",
    "for codon in genetic_code:\n",
    "    amino_acid = genetic_code[codon]\n",
    "    print(f\"The translation of {codon} is {amino_acid}\")"
   ]
  },
  {
   "cell_type": "markdown",
   "metadata": {
    "id": "4Luh_ie4gvHg"
   },
   "source": [
    "## Nested Dictionaries\n",
    "Just like we can have nested if statements, nested loops, and nested lists, we can also have nested dictionaries.\n",
    "- dictionary of lists:  ```{'key1': [1,2], 'key2': [3,4]}```\n",
    "- dictionary of dictionaries:\n",
    "```\n",
    "{\n",
    "    'key1' : {\n",
    "      'key1' : [1, 2],\n",
    "      'key2' : [3, 4]\n",
    "    }\n",
    "    'key2' : {\n",
    "      'key1' : [1, 2],\n",
    "      'key2' : [3, 4]  \n",
    "    }\n",
    "}\n",
    "```\n",
    "This can get arbitrarily complex (dictionaries of lists of dictionaries of...).\n",
    "\n",
    "If you want to explore nested dictionaries in more detail, have a look at [Marc's Python lesson 5](mco.fyi/py5), which covers these concepts in depth.\n",
    "\n"
   ]
  },
  {
   "cell_type": "markdown",
   "metadata": {
    "id": "YRZI1Ve7zUJw",
    "lines_to_next_cell": 2
   },
   "source": [
    "## Rule of thumb for truth value of lists, and dictionaries\n",
    "\n",
    "All of these objects may be used as boolean values. The rules for converting a list, or map into a boolean value are as follows:\n",
    "- if the object is empty, it evaluates to False\n",
    "- if the object is non-empty, it evaluates to True"
   ]
  },
  {
   "cell_type": "markdown",
   "metadata": {
    "id": "ljjudwUXXhh2"
   },
   "source": [
    "[Return to the lesson listing](#lessons)\n",
    "\n",
    "[Return to the top of the notebook](#top)\n"
   ]
  }
 ],
 "metadata": {
  "colab": {
   "provenance": [
    {
     "file_id": "15KAyGvriQwRoXQa3t70jmi3XumKBxDRi",
     "timestamp": 1718237753735
    }
   ]
  },
  "kernelspec": {
   "display_name": "Python 3 (ipykernel)",
   "language": "python",
   "name": "python3"
  },
  "language_info": {
   "codemirror_mode": {
    "name": "ipython",
    "version": 3
   },
   "file_extension": ".py",
   "mimetype": "text/x-python",
   "name": "python",
   "nbconvert_exporter": "python",
   "pygments_lexer": "ipython3",
   "version": "3.9.5"
  }
 },
 "nbformat": 4,
 "nbformat_minor": 4
}
