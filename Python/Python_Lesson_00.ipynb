{
 "cells": [
  {
   "cell_type": "markdown",
   "metadata": {
    "id": "wjZKXZ9dXJUr"
   },
   "source": [
    "# Introduction to Python Programming for Bioinformatics\n",
    "\n",
    "## About this notebook\n",
    "\n",
    "This notebook was originally written by [Marc Cohen](https://github.com/mco-gh), an engineer at Google. The original source can be found on [Marc's short link service](https://mco.fyi/), and starts with [Python lesson 0](https://mco.fyi/py0), and I encourage you to work through that notebook if you find some details missing here.\n",
    "\n",
    "Rob Edwards edited the notebook, adapted it for bioinformatics, using some simple geneticy examples, condensed it into a single notebook, and rearranged some of the lessons, so if some of it does not make sense, it is Rob's fault!\n",
    "\n",
    "It is intended as a hands-on companion to an in-person course, and if you would like Rob to teach this course (or one of the other courses) don't hesitate to get in touch with him.\n",
    "\n",
    "## Using these notebooks\n",
    "\n",
    "All the notebooks are intended to run in Google Colab, and I recommend running them there. You can download all the notebooks from either [GitHub](https://linsalrob.github.io/ComputationalGenomicsManual/Python/Python_Lesson_1.ipynb), or from [Rob's Google Drive](https://drive.google.com/file/d/11rcjrwznjZS-qoFoEcCQYF85PCRtN9dr/view?usp=sharing). However, every notebook has a link to the previous and next lession, and this index has links to every less.\n",
    "\n",
    "**When you open a new notebook, you should make your own copy of it by selecting File->Save a copy in Drive from the menu bar above, and then you can edit the code and run it as your own**\n",
    "\n",
    "There are several lessons, and you can do them in any order. I've tried to organise them in the order I think most appropriate, but you may disagree!\n"
   ]
  },
  {
   "cell_type": "markdown",
   "metadata": {
    "id": "_Km_oeNBXJUy",
    "lines_to_next_cell": 2
   },
   "source": [
    "<a name=\"lessons\"></a>\n",
    "\n",
    "# Lesson Links\n",
    "\n",
    "Each of these links opens in Google Colab. You can make a copy of the file and run the code for yourself.\n",
    "\n",
    "* [Lesson 1 - Variables and Types](https://colab.research.google.com/drive/11rcjrwznjZS-qoFoEcCQYF85PCRtN9dr)\n",
    "  * Variables\n",
    "  * Naming variables\n",
    "  * Types of data\n",
    "  * Numeric Types\n",
    "  * String Types\n",
    "  * Using Variables in Python\n",
    "  * Built in Python functions\n",
    "* [Lesson 2 - Expressions](https://colab.research.google.com/drive/1Sm7N8Agf0aFj6qbd6GwenGBaqchZYTug)\n",
    "  * Constants vs. Variables\n",
    "  * Data Types\n",
    "  * The Boolean (bool) Type\n",
    "  * The None Type\n",
    "  * Comparison Opererators\n",
    "  * Boolean Operators - and, or, and not\n",
    "  * Order of Evaluation\n",
    "  * Python Precedence Rules\n",
    "  * F strings\n",
    "* [Lesson 3 Lists](https://colab.research.google.com/drive/1NbWawPfWAQV2x56rG0SvcMNpXI7sn3R0)\n",
    "  * Lists\n",
    "  * Creating Lists\n",
    "  * Sets\n",
    "  * List Operations\n",
    "* [Lesson 4 - Dictionaries](https://colab.research.google.com/drive/1IyjNTpdtwaulP_QXbrCYK8Yd2J3MgCQo)\n",
    "  * Dictionary Operations\n",
    "  * Rule of thumb for truth value of lists, and dictionaries\n",
    "* [Lesson 5 - Conditionals](https://colab.research.google.com/drive/1VmGd4AAb1fBKOjmemYIKnPgu58xGE5so)\n",
    "  * Controlling Program Flow\n",
    "  * if Statements\n",
    "  * if Block Structure\n",
    "  * Python's use of whitespace\n",
    "  * else Statements\n",
    "  * elif Statements\n",
    "  * For loops\n",
    "* [Lesson 6 - Functions](https://colab.research.google.com/drive/1iLE4rkhVxige0za_H0ehtb9NNzzxQIwu)\n",
    "  * Defining Functions\n",
    "  * Docstrings\n",
    "  * Return Values\n",
    "* [Lesson 7 - Reading and Writing Files](https://colab.research.google.com/drive/1Uq9ysM5TxMsiS9vElA53Ihl63ONOYDTA)\n",
    "  * Reading a fasta file\n",
    "  * Writing to files\n",
    "  * Reading and writing gzip files\n",
    "* [Lesson 8 - Modules](https://colab.research.google.com/drive/1ytI6exHPmHDvtzwRsS-zELWlJBOig9L9)\n",
    "  * The from Statement\n",
    "  * When to use import vs. from\n",
    "* [Lesson 9 - Finding and installing other peoples code](https://colab.research.google.com/drive/1JGRJpUPKkkVukyNvtfEJYVVCcdpkyRLZ)\n",
    "* [Lesson 10 - Translating a DNA sequence](https://colab.research.google.com/drive/1trXzcwT0VnmdnVQY_Wj9b__pXVY8_7GJ)\n",
    "  * Challenges to try!\n",
    "* [Lesson 11 - BioPython](https://colab.research.google.com/drive/1N2WL7WDjUQkb7BLWqKYALWCwsUEAVVdf)\n",
    "  * Translating a DNA sequence\n",
    "  * Reading a fasta file\n",
    "  * Reading a fastq file\n",
    "  * Reading GenBank Files\n",
    "* [Lesson 12 - Plotting data with Pandas and Seaborn](https://colab.research.google.com/drive/1Qbff17-gZbktQliV6TaFFupDpfUiAnBE)\n",
    "  * Pandas\n",
    "  * Seaborn\n",
    "\n",
    "\n",
    "\n",
    "\n",
    "---\n",
    "\n",
    "Next Lesson: [GitHub](Python_Lesson_01.ipynb) | [Google Colab](https://colab.research.google.com/drive/11rcjrwznjZS-qoFoEcCQYF85PCRtN9dr)\n"
   ]
  },
  {
   "cell_type": "markdown",
   "metadata": {},
   "source": [
    "[Return to the lesson listing](#lessons)\n",
    "\n",
    "[Return to the top of the notebook](#top)"
   ]
  }
 ],
 "metadata": {
  "colab": {
   "provenance": [
    {
     "file_id": "15KAyGvriQwRoXQa3t70jmi3XumKBxDRi",
     "timestamp": 1718237753735
    }
   ]
  },
  "kernelspec": {
   "display_name": "Python 3 (ipykernel)",
   "language": "python",
   "name": "python3"
  },
  "language_info": {
   "codemirror_mode": {
    "name": "ipython",
    "version": 3
   },
   "file_extension": ".py",
   "mimetype": "text/x-python",
   "name": "python",
   "nbconvert_exporter": "python",
   "pygments_lexer": "ipython3",
   "version": "3.9.5"
  }
 },
 "nbformat": 4,
 "nbformat_minor": 4
}
