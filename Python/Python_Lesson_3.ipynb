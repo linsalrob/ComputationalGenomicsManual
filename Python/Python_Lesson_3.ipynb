{
 "cells": [
  {
   "cell_type": "markdown",
   "metadata": {
    "id": "wjZKXZ9dXJUr"
   },
   "source": [
    "# Introduction to Python Programming for Bioinformatics\n",
    "\n",
    "## About this notebook\n",
    "\n",
    "This notebook was originally written by [Marc Cohen](https://github.com/mco-gh), an engineer at Google. The original source can be found on [Marc's short link service](https://mco.fyi/), and starts with [Python lesson 0](https://mco.fyi/py0), and I encourage you to work through that notebook if you find some details missing here.\n",
    "\n",
    "Rob Edwards edited the notebook, adapted it for bioinformatics, using some simple geneticy examples, condensed it into a single notebook, and rearranged some of the lessons, so if some of it does not make sense, it is Rob's fault!\n",
    "\n",
    "It is intended as a hands-on companion to an in-person course, and if you would like Rob to teach this course (or one of the other courses) don't hesitate to get in touch with him.\n",
    "\n",
    "## Using this notebook\n",
    "\n",
    "You can download the original version of this notebook from [GitHub](https://linsalrob.github.io/ComputationalGenomicsManual/Python/Python_Lesson_3.ipynb) and from [Rob's Google Drive]()\n",
    "\n",
    "**You should make your own copy of this notebook by selecting File->Save a copy in Drive from the menu bar above, and then you can edit the code and run it as your own**\n",
    "\n",
    "There are several lessons, and you can do them in any order. I've tried to organise them in the order I think most appropriate, but you may disagree!\n"
   ]
  },
  {
   "cell_type": "markdown",
   "metadata": {
    "id": "_Km_oeNBXJUy"
   },
   "source": [
    "# Lesson Links\n",
    "\n",
    "* [Lesson 3 Lists](#Lesson-3-Lists)\n",
    "  * [Lists](#Lists)\n",
    "  * [Creating Lists](#Creating-Lists)\n",
    "  * [Sets](#Sets)\n",
    "  * [List Operations](#List-Operations)\n",
    "\n",
    "[Previous Lesson](Python_Lesson_2.ipynb) | [Next Lesson](Python_Lesson_4.ipynb)\n"
   ]
  },
  {
   "cell_type": "markdown",
   "metadata": {
    "id": "7B_-CpRRW4Zd",
    "lines_to_next_cell": 2
   },
   "source": [
    "# Lesson 3 Lists\n",
    "\n",
    "**Lists and Dictionaries**\n"
   ]
  },
  {
   "cell_type": "markdown",
   "metadata": {
    "id": "elexmuppeTrt"
   },
   "source": [
    "# Lists"
   ]
  },
  {
   "cell_type": "markdown",
   "metadata": {
    "id": "DYtSrDYpYhYp"
   },
   "source": [
    "* A list is a list of things, like a shopping list.\n",
    "* Lists are ordered sequences.\n",
    "* All the sequence operations you learned about with strings, like `len`, indexing, slicing, looping, `in`, etc. apply to lists as well.\n",
    "\n",
    "Lists are defined inside square brackets, with list elements separated by commas, for example...\n",
    "```\n",
    "['a', 'b', 'c', 1, 2, 3]\n",
    "```\n",
    "\n",
    "Note that you can have both strings and numbers inside lists.\n",
    "\n",
    "[List documentation](https://docs.python.org/3/library/stdtypes.html#list)"
   ]
  },
  {
   "cell_type": "markdown",
   "metadata": {
    "id": "1jwHZXqfpaAX"
   },
   "source": [
    "## Creating Lists"
   ]
  },
  {
   "cell_type": "code",
   "execution_count": null,
   "metadata": {
    "colab": {
     "base_uri": "https://localhost:8080/"
    },
    "executionInfo": {
     "elapsed": 20,
     "status": "ok",
     "timestamp": 1718613796635,
     "user": {
      "displayName": "Rob Edwards",
      "userId": "17780279723170493443"
     },
     "user_tz": -570
    },
    "id": "A91BmSFkpT4f",
    "outputId": "b8360171-b82e-4335-d100-bb2db7cbe366"
   },
   "outputs": [
    {
     "name": "stdout",
     "output_type": "stream",
     "text": [
      "empty list: []\n"
     ]
    }
   ],
   "source": [
    "# Create an empty list (lists use square brackets)\n",
    "li = []\n",
    "print(f\"empty list: {li}\")"
   ]
  },
  {
   "cell_type": "code",
   "execution_count": null,
   "metadata": {
    "colab": {
     "base_uri": "https://localhost:8080/"
    },
    "executionInfo": {
     "elapsed": 17,
     "status": "ok",
     "timestamp": 1718613796635,
     "user": {
      "displayName": "Rob Edwards",
      "userId": "17780279723170493443"
     },
     "user_tz": -570
    },
    "id": "zR1rdQJtauzK",
    "outputId": "668acada-a888-4f87-e072-13412dd29ad0"
   },
   "outputs": [
    {
     "name": "stdout",
     "output_type": "stream",
     "text": [
      "non-empty list: ['Bacteria', 4500000, 3.14, True]\n"
     ]
    }
   ],
   "source": [
    "# Create and initialize a list with some data\n",
    "li = ['Bacteria', 4500000, 3.14, True]\n",
    "print(f\"non-empty list: {li}\")"
   ]
  },
  {
   "cell_type": "code",
   "execution_count": null,
   "metadata": {
    "colab": {
     "base_uri": "https://localhost:8080/"
    },
    "executionInfo": {
     "elapsed": 11,
     "status": "ok",
     "timestamp": 1718613796636,
     "user": {
      "displayName": "Rob Edwards",
      "userId": "17780279723170493443"
     },
     "user_tz": -570
    },
    "id": "UYf57Saqa8m8",
    "lines_to_next_cell": 0,
    "outputId": "ebc2b02d-393f-44ec-9284-0d4b159679b9"
   },
   "outputs": [
    {
     "name": "stdout",
     "output_type": "stream",
     "text": [
      "['a', 'a', 'a']\n"
     ]
    }
   ],
   "source": [
    "# the same value can occur multiple times in a list\n",
    "li = ['a', 'a', 'a']\n",
    "print(li)"
   ]
  },
  {
   "cell_type": "markdown",
   "metadata": {
    "id": "NfHckg7yXJVH"
   },
   "source": [
    "# Sets\n",
    "\n",
    "Sets are like lists except for two key things:\n",
    "* Sets are not ordered! The order that you get things back is not necessarily the same as the order that you put them in.\n",
    "* Everything in a set is unique."
   ]
  },
  {
   "cell_type": "code",
   "execution_count": null,
   "metadata": {
    "colab": {
     "base_uri": "https://localhost:8080/"
    },
    "executionInfo": {
     "elapsed": 35,
     "status": "ok",
     "timestamp": 1718613797129,
     "user": {
      "displayName": "Rob Edwards",
      "userId": "17780279723170493443"
     },
     "user_tz": -570
    },
    "id": "XjDSB3GNZ4Cb",
    "outputId": "d231ba16-6af2-4e5f-f521-54729c0b7af2"
   },
   "outputs": [
    {
     "name": "stdout",
     "output_type": "stream",
     "text": [
      "empty set: set()\n",
      "non-empty set: {'a'}\n"
     ]
    }
   ],
   "source": [
    "example_set = set()\n",
    "print(f\"empty set: {example_set}\")\n",
    "example_set.add('a')\n",
    "example_set.add('a')\n",
    "example_set.add('a')\n",
    "print(f\"non-empty set: {example_set}\")"
   ]
  },
  {
   "cell_type": "markdown",
   "metadata": {
    "id": "DM_MxQKxXJVI"
   },
   "source": [
    "## List Operations\n",
    "\n",
    "You can change and edit lists, and add things to them. (We call this mutable, but don't worry about that)."
   ]
  },
  {
   "cell_type": "code",
   "execution_count": null,
   "metadata": {
    "colab": {
     "base_uri": "https://localhost:8080/"
    },
    "executionInfo": {
     "elapsed": 32,
     "status": "ok",
     "timestamp": 1718613797129,
     "user": {
      "displayName": "Rob Edwards",
      "userId": "17780279723170493443"
     },
     "user_tz": -570
    },
    "id": "2Vh3dCTCbXIU",
    "outputId": "ada9c290-809e-45fb-8be8-49928ee0d5f3"
   },
   "outputs": [
    {
     "name": "stdout",
     "output_type": "stream",
     "text": [
      "3\n"
     ]
    }
   ],
   "source": [
    "# The len() function gives us the size of a list.\n",
    "li = [\"Chr1\", \"Chr2\", \"Chr3\"]\n",
    "# get the size of a list\n",
    "list_size = len(li)\n",
    "print(list_size)"
   ]
  },
  {
   "cell_type": "code",
   "execution_count": null,
   "metadata": {
    "colab": {
     "base_uri": "https://localhost:8080/"
    },
    "executionInfo": {
     "elapsed": 28,
     "status": "ok",
     "timestamp": 1718613797130,
     "user": {
      "displayName": "Rob Edwards",
      "userId": "17780279723170493443"
     },
     "user_tz": -570
    },
    "id": "HqMd0VH2bZBj",
    "outputId": "bed2c6c2-eee7-4ec9-c3d1-46b5276e7b6c"
   },
   "outputs": [
    {
     "name": "stdout",
     "output_type": "stream",
     "text": [
      "Chr1\n",
      "Chr2\n",
      "Chr3\n",
      "Chr4\n",
      "Chr5\n",
      "Chr6\n",
      "Chr7\n",
      "Chr8\n",
      "Chr9\n",
      "Chr10\n",
      "Chr11\n",
      "Chr12\n",
      "Chr13\n",
      "Chr14\n",
      "Chr15\n",
      "Chr16\n",
      "Chr17\n",
      "Chr18\n",
      "Chr19\n",
      "Chr20\n",
      "Chr21\n",
      "Chr22\n",
      "Chr23\n"
     ]
    }
   ],
   "source": [
    "li = [\"Chr1\", \"Chr2\", \"Chr3\", \"Chr4\", \"Chr5\", \"Chr6\", \"Chr7\", \"Chr8\", \"Chr9\", \"Chr10\", \"Chr11\", \"Chr12\", \"Chr13\", \"Chr14\", \"Chr15\", \"Chr16\", \"Chr17\", \"Chr18\", \"Chr19\", \"Chr20\", \"Chr21\", \"Chr22\", \"Chr23\"]\n",
    "# iterate (loop) over the elements in a list\n",
    "for i in range(len(li)):\n",
    "  print(li[i])"
   ]
  },
  {
   "cell_type": "code",
   "execution_count": null,
   "metadata": {
    "colab": {
     "base_uri": "https://localhost:8080/"
    },
    "executionInfo": {
     "elapsed": 23,
     "status": "ok",
     "timestamp": 1718613797130,
     "user": {
      "displayName": "Rob Edwards",
      "userId": "17780279723170493443"
     },
     "user_tz": -570
    },
    "id": "-bBSPvCKqHPq",
    "outputId": "36fad0d2-3532-4284-9f83-0f0aa98bf693"
   },
   "outputs": [
    {
     "name": "stdout",
     "output_type": "stream",
     "text": [
      "Chr1\n",
      "Chr2\n",
      "Chr3\n",
      "Chr4\n",
      "Chr5\n",
      "Chr6\n",
      "Chr7\n",
      "Chr8\n",
      "Chr9\n",
      "Chr10\n",
      "Chr11\n",
      "Chr12\n",
      "Chr13\n",
      "Chr14\n",
      "Chr15\n",
      "Chr16\n",
      "Chr17\n",
      "Chr18\n",
      "Chr19\n",
      "Chr20\n",
      "Chr21\n",
      "Chr22\n",
      "Chr23\n"
     ]
    }
   ],
   "source": [
    "# A better way to iterate over the elements in a list\n",
    "li = [\"Chr1\", \"Chr2\", \"Chr3\", \"Chr4\", \"Chr5\", \"Chr6\", \"Chr7\", \"Chr8\", \"Chr9\", \"Chr10\", \"Chr11\", \"Chr12\", \"Chr13\", \"Chr14\", \"Chr15\", \"Chr16\", \"Chr17\", \"Chr18\", \"Chr19\", \"Chr20\", \"Chr21\", \"Chr22\", \"Chr23\"]\n",
    "for i in li:\n",
    "  print(i)"
   ]
  },
  {
   "cell_type": "code",
   "execution_count": null,
   "metadata": {
    "colab": {
     "base_uri": "https://localhost:8080/"
    },
    "executionInfo": {
     "elapsed": 19,
     "status": "ok",
     "timestamp": 1718613797130,
     "user": {
      "displayName": "Rob Edwards",
      "userId": "17780279723170493443"
     },
     "user_tz": -570
    },
    "id": "bW0wb9G2bcqF",
    "outputId": "e9df52a3-3d89-4d6a-fccc-b780bed17ab8"
   },
   "outputs": [
    {
     "name": "stdout",
     "output_type": "stream",
     "text": [
      "ChrX is not in the list\n"
     ]
    }
   ],
   "source": [
    "li = [\"Chr1\", \"Chr2\", \"Chr3\", \"Chr4\", \"Chr5\", \"Chr6\", \"Chr7\", \"Chr8\", \"Chr9\", \"Chr10\", \"Chr11\", \"Chr12\", \"Chr13\", \"Chr14\", \"Chr15\", \"Chr16\", \"Chr17\", \"Chr18\", \"Chr19\", \"Chr20\", \"Chr21\", \"Chr22\", \"Chr23\"]\n",
    "# test membership in a list\n",
    "\n",
    "x = \"ChrX\"\n",
    "if not x in li:\n",
    " print(f\"{x} is not in the list\")\n",
    "else:\n",
    " print(f\"{x} is in the list\")"
   ]
  },
  {
   "cell_type": "code",
   "execution_count": null,
   "metadata": {
    "colab": {
     "base_uri": "https://localhost:8080/"
    },
    "executionInfo": {
     "elapsed": 15,
     "status": "ok",
     "timestamp": 1718613797130,
     "user": {
      "displayName": "Rob Edwards",
      "userId": "17780279723170493443"
     },
     "user_tz": -570
    },
    "id": "U86i_Z0ZcDj8",
    "outputId": "cbf61e4f-db56-4f46-9088-fef6a02d774b"
   },
   "outputs": [
    {
     "name": "stdout",
     "output_type": "stream",
     "text": [
      "Chr3\n"
     ]
    }
   ],
   "source": [
    "# indexing (list indexes start with zero!)\n",
    "li = [\"Chr1\", \"Chr2\", \"Chr3\", \"Chr4\", \"Chr5\", \"Chr6\", \"Chr7\", \"Chr8\", \"Chr9\", \"Chr10\", \"Chr11\", \"Chr12\", \"Chr13\", \"Chr14\", \"Chr15\", \"Chr16\", \"Chr17\", \"Chr18\", \"Chr19\", \"Chr20\", \"Chr21\", \"Chr22\", \"Chr23\"]\n",
    "print(li[2])"
   ]
  },
  {
   "cell_type": "code",
   "execution_count": null,
   "metadata": {
    "colab": {
     "base_uri": "https://localhost:8080/",
     "height": 176
    },
    "executionInfo": {
     "elapsed": 11,
     "status": "error",
     "timestamp": 1718613797130,
     "user": {
      "displayName": "Rob Edwards",
      "userId": "17780279723170493443"
     },
     "user_tz": -570
    },
    "id": "p1b6JeS5cFiC",
    "outputId": "9a508355-6d9d-4e5a-bfdb-6448836692e6"
   },
   "outputs": [
    {
     "ename": "IndexError",
     "evalue": "list index out of range",
     "output_type": "error",
     "traceback": [
      "\u001b[0;31m---------------------------------------------------------------------------\u001b[0m",
      "\u001b[0;31mIndexError\u001b[0m                                Traceback (most recent call last)",
      "\u001b[0;32m<ipython-input-33-5b60af656524>\u001b[0m in \u001b[0;36m<cell line: 3>\u001b[0;34m()\u001b[0m\n\u001b[1;32m      1\u001b[0m \u001b[0;31m# indexing out of bounds raises a runtime error\u001b[0m\u001b[0;34m\u001b[0m\u001b[0;34m\u001b[0m\u001b[0m\n\u001b[1;32m      2\u001b[0m \u001b[0mli\u001b[0m \u001b[0;34m=\u001b[0m \u001b[0;34m[\u001b[0m\u001b[0;34m\"Chr1\"\u001b[0m\u001b[0;34m,\u001b[0m \u001b[0;34m\"Chr2\"\u001b[0m\u001b[0;34m,\u001b[0m \u001b[0;34m\"Chr3\"\u001b[0m\u001b[0;34m,\u001b[0m \u001b[0;34m\"Chr4\"\u001b[0m\u001b[0;34m,\u001b[0m \u001b[0;34m\"Chr5\"\u001b[0m\u001b[0;34m,\u001b[0m \u001b[0;34m\"Chr6\"\u001b[0m\u001b[0;34m,\u001b[0m \u001b[0;34m\"Chr7\"\u001b[0m\u001b[0;34m,\u001b[0m \u001b[0;34m\"Chr8\"\u001b[0m\u001b[0;34m,\u001b[0m \u001b[0;34m\"Chr9\"\u001b[0m\u001b[0;34m,\u001b[0m \u001b[0;34m\"Chr10\"\u001b[0m\u001b[0;34m,\u001b[0m \u001b[0;34m\"Chr11\"\u001b[0m\u001b[0;34m,\u001b[0m \u001b[0;34m\"Chr12\"\u001b[0m\u001b[0;34m,\u001b[0m \u001b[0;34m\"Chr13\"\u001b[0m\u001b[0;34m,\u001b[0m \u001b[0;34m\"Chr14\"\u001b[0m\u001b[0;34m,\u001b[0m \u001b[0;34m\"Chr15\"\u001b[0m\u001b[0;34m,\u001b[0m \u001b[0;34m\"Chr16\"\u001b[0m\u001b[0;34m,\u001b[0m \u001b[0;34m\"Chr17\"\u001b[0m\u001b[0;34m,\u001b[0m \u001b[0;34m\"Chr18\"\u001b[0m\u001b[0;34m,\u001b[0m \u001b[0;34m\"Chr19\"\u001b[0m\u001b[0;34m,\u001b[0m \u001b[0;34m\"Chr20\"\u001b[0m\u001b[0;34m,\u001b[0m \u001b[0;34m\"Chr21\"\u001b[0m\u001b[0;34m,\u001b[0m \u001b[0;34m\"Chr22\"\u001b[0m\u001b[0;34m,\u001b[0m \u001b[0;34m\"Chr23\"\u001b[0m\u001b[0;34m]\u001b[0m\u001b[0;34m\u001b[0m\u001b[0;34m\u001b[0m\u001b[0m\n\u001b[0;32m----> 3\u001b[0;31m \u001b[0mprint\u001b[0m\u001b[0;34m(\u001b[0m\u001b[0mli\u001b[0m\u001b[0;34m[\u001b[0m\u001b[0;36m99\u001b[0m\u001b[0;34m]\u001b[0m\u001b[0;34m)\u001b[0m\u001b[0;34m\u001b[0m\u001b[0;34m\u001b[0m\u001b[0m\n\u001b[0m",
      "\u001b[0;31mIndexError\u001b[0m: list index out of range"
     ]
    }
   ],
   "source": [
    "# indexing out of bounds raises a runtime error\n",
    "li = [\"Chr1\", \"Chr2\", \"Chr3\", \"Chr4\", \"Chr5\", \"Chr6\", \"Chr7\", \"Chr8\", \"Chr9\", \"Chr10\", \"Chr11\", \"Chr12\", \"Chr13\", \"Chr14\", \"Chr15\", \"Chr16\", \"Chr17\", \"Chr18\", \"Chr19\", \"Chr20\", \"Chr21\", \"Chr22\", \"Chr23\"]\n",
    "print(li[99])\n"
   ]
  },
  {
   "cell_type": "code",
   "execution_count": null,
   "metadata": {
    "colab": {
     "base_uri": "https://localhost:8080/"
    },
    "executionInfo": {
     "elapsed": 11,
     "status": "ok",
     "timestamp": 1718613798359,
     "user": {
      "displayName": "Rob Edwards",
      "userId": "17780279723170493443"
     },
     "user_tz": -570
    },
    "id": "gQMJCFZ7cHaB",
    "outputId": "9e6350db-18c4-4495-91b0-1919a7ed74f2"
   },
   "outputs": [
    {
     "name": "stdout",
     "output_type": "stream",
     "text": [
      "['Chr2', 'Chr3']\n"
     ]
    }
   ],
   "source": [
    "li = [\"Chr1\", \"Chr2\", \"Chr3\", \"Chr4\", \"Chr5\", \"Chr6\", \"Chr7\", \"Chr8\", \"Chr9\", \"Chr10\", \"Chr11\", \"Chr12\", \"Chr13\", \"Chr14\", \"Chr15\", \"Chr16\", \"Chr17\", \"Chr18\", \"Chr19\", \"Chr20\", \"Chr21\", \"Chr22\", \"Chr23\"]\n",
    "# slicing\n",
    "print(li[1:3])"
   ]
  },
  {
   "cell_type": "code",
   "execution_count": null,
   "metadata": {
    "colab": {
     "base_uri": "https://localhost:8080/"
    },
    "executionInfo": {
     "elapsed": 23,
     "status": "ok",
     "timestamp": 1718613801724,
     "user": {
      "displayName": "Rob Edwards",
      "userId": "17780279723170493443"
     },
     "user_tz": -570
    },
    "id": "Wukzw25lcIqk",
    "outputId": "3d6a8cde-a26e-4757-f3fe-51102835245d"
   },
   "outputs": [
    {
     "name": "stdout",
     "output_type": "stream",
     "text": [
      "['Chr1', 'Chr2', 'Chr3', 'Chr4', 'Chr5', 'Chr6', 'Chr7', 'Chr8', 'Chr9']\n"
     ]
    }
   ],
   "source": [
    "# concatenating lists\n",
    "li1 = [\"Chr1\", \"Chr2\", \"Chr3\"]\n",
    "li2 = [\"Chr4\", \"Chr5\", \"Chr6\"]\n",
    "li3 = [\"Chr7\", \"Chr8\", \"Chr9\"]\n",
    "li4 = li1 + li2 + li3\n",
    "print(li4)"
   ]
  },
  {
   "cell_type": "code",
   "execution_count": null,
   "metadata": {
    "colab": {
     "base_uri": "https://localhost:8080/"
    },
    "executionInfo": {
     "elapsed": 22,
     "status": "ok",
     "timestamp": 1718613801725,
     "user": {
      "displayName": "Rob Edwards",
      "userId": "17780279723170493443"
     },
     "user_tz": -570
    },
    "id": "uLBYBQ0Qhp_A",
    "outputId": "90a6e0f4-9b2e-46cb-cdb0-93b86b316430"
   },
   "outputs": [
    {
     "name": "stdout",
     "output_type": "stream",
     "text": [
      "['Chr1', 'Chr2', 'Chr3', 'Chr4']\n",
      "['Chr1', 'Chr2', 'Chr3', 'Chr4', 'ChrX']\n"
     ]
    }
   ],
   "source": [
    "# add an element\n",
    "li = [\"Chr1\", \"Chr2\", \"Chr3\", \"Chr4\"]\n",
    "print(li)\n",
    "li.append(\"ChrX\")\n",
    "print(li)"
   ]
  },
  {
   "cell_type": "code",
   "execution_count": null,
   "metadata": {
    "colab": {
     "base_uri": "https://localhost:8080/"
    },
    "executionInfo": {
     "elapsed": 19,
     "status": "ok",
     "timestamp": 1718613801725,
     "user": {
      "displayName": "Rob Edwards",
      "userId": "17780279723170493443"
     },
     "user_tz": -570
    },
    "id": "9G03HO1KiVVW",
    "outputId": "02ae9f8e-3c2b-4553-fb2d-aab7f7ccafaf"
   },
   "outputs": [
    {
     "name": "stdout",
     "output_type": "stream",
     "text": [
      "['Chr1', 'Chr2', 'Chr3', 'Chr4', 'ChrX']\n",
      "['Chr1', 'Chr2', 'Chr3', 'Chr4', 'ChrY']\n"
     ]
    }
   ],
   "source": [
    "print(li)\n",
    "# replace an element by index\n",
    "li[4] = 'ChrY' # overwrites value at index 4\n",
    "print(li)"
   ]
  },
  {
   "cell_type": "code",
   "execution_count": null,
   "metadata": {
    "colab": {
     "base_uri": "https://localhost:8080/"
    },
    "executionInfo": {
     "elapsed": 16,
     "status": "ok",
     "timestamp": 1718613801725,
     "user": {
      "displayName": "Rob Edwards",
      "userId": "17780279723170493443"
     },
     "user_tz": -570
    },
    "id": "C5DPhJDBir9u",
    "outputId": "a273c9d2-27f5-467a-a553-ee6c458105c5"
   },
   "outputs": [
    {
     "name": "stdout",
     "output_type": "stream",
     "text": [
      "4\n"
     ]
    }
   ],
   "source": [
    "li = [\"Chr1\", \"Chr2\", \"Chr3\", \"Chr4\", \"Chr1\", \"Chr2\", \"Chr3\", \"Chr1\", \"Chr2\", \"Chr1\"]\n",
    "# get the number of occurrences of a particular value\n",
    "count = li.count(\"Chr1\")\n",
    "print(count)"
   ]
  },
  {
   "cell_type": "code",
   "execution_count": null,
   "metadata": {
    "colab": {
     "base_uri": "https://localhost:8080/"
    },
    "executionInfo": {
     "elapsed": 13,
     "status": "ok",
     "timestamp": 1718613801726,
     "user": {
      "displayName": "Rob Edwards",
      "userId": "17780279723170493443"
     },
     "user_tz": -570
    },
    "id": "5wOspz47itht",
    "outputId": "b010951b-e718-43bc-ce2c-434360998dee"
   },
   "outputs": [
    {
     "name": "stdout",
     "output_type": "stream",
     "text": [
      "0\n"
     ]
    }
   ],
   "source": [
    "li = [\"Chr1\", \"Chr2\", \"Chr3\", \"Chr4\", \"Chr1\", \"Chr2\", \"Chr3\", \"Chr1\", \"Chr2\", \"Chr1\"]\n",
    "# get the (first) index of a particular value\n",
    "index = li.index(\"Chr1\")\n",
    "print(index)"
   ]
  },
  {
   "cell_type": "code",
   "execution_count": null,
   "metadata": {
    "colab": {
     "base_uri": "https://localhost:8080/"
    },
    "executionInfo": {
     "elapsed": 9,
     "status": "ok",
     "timestamp": 1718613801726,
     "user": {
      "displayName": "Rob Edwards",
      "userId": "17780279723170493443"
     },
     "user_tz": -570
    },
    "id": "3KWj-wv4ivDG",
    "outputId": "3ff95bfb-adb6-4cdc-f81c-5de121ad5b31"
   },
   "outputs": [
    {
     "name": "stdout",
     "output_type": "stream",
     "text": [
      "['Chr4', 'Chr3', 'Chr2', 'Chr1']\n",
      "['Chr1', 'Chr2', 'Chr3', 'Chr4']\n"
     ]
    }
   ],
   "source": [
    "li = [\"Chr1\", \"Chr2\", \"Chr3\", \"Chr4\"]\n",
    "# reverse a list\n",
    "li.reverse()\n",
    "print(li)\n",
    "li.reverse()\n",
    "print(li)"
   ]
  },
  {
   "cell_type": "markdown",
   "metadata": {
    "id": "KSivzV8cjnpv"
   },
   "source": [
    "## Nested Lists"
   ]
  },
  {
   "cell_type": "markdown",
   "metadata": {
    "id": "dlT7PoPcdPHK"
   },
   "source": [
    "We can have lists of lists, and lists of lists of lists.\n",
    "\n",
    "- list of lists: ```[[1, 2], [3, 4]]```\n",
    "\n",
    "\n",
    "Later we will look at spreadsheets that are two-dimensional, and you can imagine them being held as lists of lists. The first list is each row of the spreadsheet, and the second list is each column, so that a cell has a unique value per list.\n",
    "\n",
    "If you want to explore nested lists in more detail, have a look at [Marc's Python lesson 5](mco.fyi/py5), which covers these concepts in more detail.\n"
   ]
  },
  {
   "cell_type": "markdown",
   "metadata": {},
   "source": [
    "[Previous Lesson](Python_Lesson_2.ipynb) | [Next Lesson](Python_Lesson_4.ipynb)\n",
    "\n"
   ]
  }
 ],
 "metadata": {
  "colab": {
   "provenance": [
    {
     "file_id": "15KAyGvriQwRoXQa3t70jmi3XumKBxDRi",
     "timestamp": 1718237753735
    }
   ]
  },
  "kernelspec": {
   "display_name": "Python 3 (ipykernel)",
   "language": "python",
   "name": "python3"
  },
  "language_info": {
   "codemirror_mode": {
    "name": "ipython",
    "version": 3
   },
   "file_extension": ".py",
   "mimetype": "text/x-python",
   "name": "python",
   "nbconvert_exporter": "python",
   "pygments_lexer": "ipython3",
   "version": "3.9.5"
  }
 },
 "nbformat": 4,
 "nbformat_minor": 0
}
