{
 "cells": [
  {
   "cell_type": "markdown",
   "metadata": {
    "id": "wjZKXZ9dXJUr"
   },
   "source": [
    "<a name=\"top\"></a>\n",
    "# Introduction to Python Programming for Bioinformatics. Lesson 3\n",
    "\n",
    "<details>\n",
    "<summary>\n",
    "About this notebook\n",
    "</summary>\n",
    "\n",
    "This notebook was originally written by [Marc Cohen](https://github.com/mco-gh), an engineer at Google. The original source can be found on [Marc's short link service](https://mco.fyi/), and starts with [Python lesson 0](https://mco.fyi/py0), and I encourage you to work through that notebook if you find some details missing here.\n",
    "\n",
    "Rob Edwards edited the notebook, adapted it for bioinformatics, using some simple geneticy examples, condensed it into a single notebook, and rearranged some of the lessons, so if some of it does not make sense, it is Rob's fault!\n",
    "\n",
    "It is intended as a hands-on companion to an in-person course, and if you would like Rob to teach this course (or one of the other courses) don't hesitate to get in touch with him.\n",
    "\n",
    "</details>\n",
    "<details>\n",
    "<summary>\n",
    "Using this notebook\n",
    "</summary>\n",
    "\n",
    "You can download the original version of this notebook from [GitHub](https://linsalrob.github.io/ComputationalGenomicsManual/Python/Python_Lesson_03.ipynb) and from [Rob's Google Drive]()\n",
    "\n",
    "**You should make your own copy of this notebook by selecting File->Save a copy in Drive from the menu bar above, and then you can edit the code and run it as your own**\n",
    "\n",
    "There are several lessons, and you can do them in any order. I've tried to organise them in the order I think most appropriate, but you may disagree!\n",
    "</details>\n"
   ]
  },
  {
   "cell_type": "markdown",
   "metadata": {
    "id": "_Km_oeNBXJUy"
   },
   "source": [
    "<a name=\"lessons\"></a>\n",
    "\n",
    "# Lesson Links\n",
    "\n",
    "* [Lesson 3 Lists](#Lesson-3-Lists)\n",
    "  * [Lists](#Lists)\n",
    "  * [Creating Lists](#Creating-Lists)\n",
    "  * [Sets](#Sets)\n",
    "  * [List Operations](#List-Operations)\n",
    "\n",
    "Previous Lesson: [Local](Python_Lesson_02.ipynb) | [GitHub](https://linsalrob.github.io/ComputationalGenomicsManual/Python/Python_Lesson_02.ipynb) | [Google Colab](https://colab.research.google.com/drive/1Sm7N8Agf0aFj6qbd6GwenGBaqchZYTug)\n",
    "\n",
    "Next Lesson: [Local](Python_Lesson_04.ipynb) | [GitHub](https://linsalrob.github.io/ComputationalGenomicsManual/Python/Python_Lesson_04.ipynb) | [Google Colab](https://colab.research.google.com/drive/1IyjNTpdtwaulP_QXbrCYK8Yd2J3MgCQo)\n"
   ]
  },
  {
   "cell_type": "markdown",
   "metadata": {
    "id": "7B_-CpRRW4Zd",
    "lines_to_next_cell": 2
   },
   "source": [
    "# Lesson 3 Lists\n",
    "\n",
    "**Lists and Dictionaries**\n"
   ]
  },
  {
   "cell_type": "markdown",
   "metadata": {
    "id": "elexmuppeTrt"
   },
   "source": [
    "# Lists"
   ]
  },
  {
   "cell_type": "markdown",
   "metadata": {
    "id": "DYtSrDYpYhYp"
   },
   "source": [
    "* A list is a list of things, like a shopping list.\n",
    "* Lists are ordered sequences.\n",
    "* All the sequence operations you learned about with strings, like `len`, indexing, slicing, looping, `in`, etc. apply to lists as well.\n",
    "\n",
    "Lists are defined inside square brackets, with list elements separated by commas, for example...\n",
    "```\n",
    "['a', 'b', 'c', 1, 2, 3]\n",
    "```\n",
    "\n",
    "Note that you can have both strings and numbers inside lists.\n",
    "\n",
    "[List documentation](https://docs.python.org/3/library/stdtypes.html#list)"
   ]
  },
  {
   "cell_type": "markdown",
   "metadata": {
    "id": "1jwHZXqfpaAX"
   },
   "source": [
    "## Creating Lists"
   ]
  },
  {
   "cell_type": "code",
   "execution_count": null,
   "metadata": {
    "colab": {
     "base_uri": "https://localhost:8080/"
    },
    "executionInfo": {
     "elapsed": 654,
     "status": "ok",
     "timestamp": 1719451031373,
     "user": {
      "displayName": "Rob Edwards",
      "userId": "17780279723170493443"
     },
     "user_tz": -570
    },
    "id": "A91BmSFkpT4f",
    "outputId": "44a7ed94-b204-4e83-e1d1-ddf9763aa8bb"
   },
   "outputs": [],
   "source": [
    "# Create an empty list (lists use square brackets)\n",
    "li = []\n",
    "print(f\"empty list: {li}\")"
   ]
  },
  {
   "cell_type": "code",
   "execution_count": null,
   "metadata": {
    "colab": {
     "base_uri": "https://localhost:8080/"
    },
    "executionInfo": {
     "elapsed": 494,
     "status": "ok",
     "timestamp": 1719451040816,
     "user": {
      "displayName": "Rob Edwards",
      "userId": "17780279723170493443"
     },
     "user_tz": -570
    },
    "id": "zR1rdQJtauzK",
    "outputId": "cbbe6aeb-0f5e-4a7c-ab08-403c5068ca0f"
   },
   "outputs": [],
   "source": [
    "# Create and initialize a list with some data\n",
    "li = ['Bacteria', 4500000, 3.14, True]\n",
    "print(f\"non-empty list: {li}\")"
   ]
  },
  {
   "cell_type": "code",
   "execution_count": null,
   "metadata": {
    "colab": {
     "base_uri": "https://localhost:8080/"
    },
    "executionInfo": {
     "elapsed": 527,
     "status": "ok",
     "timestamp": 1719451142991,
     "user": {
      "displayName": "Rob Edwards",
      "userId": "17780279723170493443"
     },
     "user_tz": -570
    },
    "id": "UYf57Saqa8m8",
    "lines_to_next_cell": 0,
    "outputId": "9401ea32-35d4-4c99-cf04-ddece12ac386"
   },
   "outputs": [],
   "source": [
    "# the same value can occur multiple times in a list\n",
    "li = ['a', 'a', 'a']\n",
    "print(li)"
   ]
  },
  {
   "cell_type": "markdown",
   "metadata": {
    "id": "NfHckg7yXJVH"
   },
   "source": [
    "# Sets\n",
    "\n",
    "Sets are like lists except for two key things:\n",
    "* Sets are not ordered! The order that you get things back is not necessarily the same as the order that you put them in.\n",
    "* Everything in a set is unique."
   ]
  },
  {
   "cell_type": "code",
   "execution_count": null,
   "metadata": {
    "colab": {
     "base_uri": "https://localhost:8080/"
    },
    "executionInfo": {
     "elapsed": 490,
     "status": "ok",
     "timestamp": 1719451236654,
     "user": {
      "displayName": "Rob Edwards",
      "userId": "17780279723170493443"
     },
     "user_tz": -570
    },
    "id": "XjDSB3GNZ4Cb",
    "outputId": "ddc8bd4b-195e-4c89-fe67-64f0f954d1a9"
   },
   "outputs": [],
   "source": [
    "example_set = set()\n",
    "print(f\"empty set: {example_set}\")\n",
    "example_set.add('a')\n",
    "example_set.add('a')\n",
    "example_set.add('a')\n",
    "print(f\"non-empty set: {example_set}\")"
   ]
  },
  {
   "cell_type": "markdown",
   "metadata": {
    "id": "DM_MxQKxXJVI"
   },
   "source": [
    "## List Operations\n",
    "\n",
    "You can change and edit lists, and add things to them. (We call this mutable, but don't worry about that)."
   ]
  },
  {
   "cell_type": "code",
   "execution_count": null,
   "metadata": {
    "colab": {
     "base_uri": "https://localhost:8080/"
    },
    "executionInfo": {
     "elapsed": 452,
     "status": "ok",
     "timestamp": 1719451339328,
     "user": {
      "displayName": "Rob Edwards",
      "userId": "17780279723170493443"
     },
     "user_tz": -570
    },
    "id": "2Vh3dCTCbXIU",
    "outputId": "5d7d26aa-c9be-4fde-948e-aabea68a3ba2"
   },
   "outputs": [],
   "source": [
    "# The len() function gives us the size of a list.\n",
    "li = [\"Chr1\", \"Chr2\", \"Chr3\"]\n",
    "# get the size of a list\n",
    "list_size = len(li)\n",
    "print(list_size)"
   ]
  },
  {
   "cell_type": "code",
   "execution_count": null,
   "metadata": {
    "colab": {
     "base_uri": "https://localhost:8080/"
    },
    "executionInfo": {
     "elapsed": 674,
     "status": "ok",
     "timestamp": 1719451441089,
     "user": {
      "displayName": "Rob Edwards",
      "userId": "17780279723170493443"
     },
     "user_tz": -570
    },
    "id": "leu_vQCqSgW7",
    "outputId": "d830e48d-77bb-4d2c-fdea-04d0cdf6ffba"
   },
   "outputs": [],
   "source": [
    "for i in range(7, 10):\n",
    "  print(i)"
   ]
  },
  {
   "cell_type": "code",
   "execution_count": null,
   "metadata": {
    "colab": {
     "base_uri": "https://localhost:8080/"
    },
    "executionInfo": {
     "elapsed": 484,
     "status": "ok",
     "timestamp": 1719451477089,
     "user": {
      "displayName": "Rob Edwards",
      "userId": "17780279723170493443"
     },
     "user_tz": -570
    },
    "id": "HqMd0VH2bZBj",
    "outputId": "db671148-b0dd-472f-d454-4e3bace2532c"
   },
   "outputs": [],
   "source": [
    "li = [\"Chr1\", \"Chr2\", \"Chr3\", \"Chr4\", \"Chr5\", \"Chr6\", \"Chr7\", \"Chr8\", \"Chr9\", \"Chr10\", \"Chr11\", \"Chr12\", \"Chr13\", \"Chr14\", \"Chr15\", \"Chr16\", \"Chr17\", \"Chr18\", \"Chr19\", \"Chr20\", \"Chr21\", \"Chr22\", \"Chr23\"]\n",
    "# iterate (loop) over the elements in a list\n",
    "for i in range(len(li)):\n",
    "  print(li[i])"
   ]
  },
  {
   "cell_type": "code",
   "execution_count": null,
   "metadata": {
    "colab": {
     "base_uri": "https://localhost:8080/"
    },
    "executionInfo": {
     "elapsed": 495,
     "status": "ok",
     "timestamp": 1719451544744,
     "user": {
      "displayName": "Rob Edwards",
      "userId": "17780279723170493443"
     },
     "user_tz": -570
    },
    "id": "-bBSPvCKqHPq",
    "outputId": "c5ca08b6-a499-41bb-d7cc-37f10589bf55"
   },
   "outputs": [],
   "source": [
    "# A better way to iterate over the elements in a list\n",
    "li = [\"Chr1\", \"Chr2\", \"Chr3\", \"Chr4\", \"Chr5\", \"Chr6\", \"Chr7\", \"Chr8\", \"Chr9\", \"Chr10\", \"Chr11\", \"Chr12\", \"Chr13\", \"Chr14\", \"Chr15\", \"Chr16\", \"Chr17\", \"Chr18\", \"Chr19\", \"Chr20\", \"Chr21\", \"Chr22\", \"Chr23\"]\n",
    "for i in li:\n",
    "  print(i)"
   ]
  },
  {
   "cell_type": "code",
   "execution_count": null,
   "metadata": {
    "colab": {
     "base_uri": "https://localhost:8080/"
    },
    "executionInfo": {
     "elapsed": 478,
     "status": "ok",
     "timestamp": 1719451676735,
     "user": {
      "displayName": "Rob Edwards",
      "userId": "17780279723170493443"
     },
     "user_tz": -570
    },
    "id": "NwK152wVTQlW",
    "outputId": "a77cb635-664c-477a-b455-5d989d1aa1f0"
   },
   "outputs": [],
   "source": [
    "li = [\"Chr1\", \"Chr2\", \"Chr3\", \"Chr4\", \"Chr5\", \"Chr6\", \"Chr7\", \"Chr8\", \"Chr9\", \"Chr10\", \"Chr11\", \"Chr12\", \"Chr13\", \"Chr14\", \"Chr15\", \"Chr16\", \"Chr17\", \"Chr18\", \"Chr19\", \"Chr20\", \"Chr21\", \"Chr22\", \"Chr23\"]\n",
    "for i, j in enumerate(li):\n",
    "  print(f\"The element at position {i} is {j}\")"
   ]
  },
  {
   "cell_type": "code",
   "execution_count": null,
   "metadata": {
    "id": "bW0wb9G2bcqF"
   },
   "outputs": [],
   "source": [
    "li = [\"Chr1\", \"Chr2\", \"Chr3\", \"Chr4\", \"Chr5\", \"Chr6\", \"Chr7\", \"Chr8\", \"Chr9\", \"Chr10\", \"Chr11\", \"Chr12\", \"Chr13\", \"Chr14\", \"Chr15\", \"Chr16\", \"Chr17\", \"Chr18\", \"Chr19\", \"Chr20\", \"Chr21\", \"Chr22\", \"Chr23\"]\n",
    "# test membership in a list\n",
    "\n",
    "x = \"ChrX\"\n",
    "if not x in li:\n",
    " print(f\"{x} is not in the list\")\n",
    "else:\n",
    " print(f\"{x} is in the list\")"
   ]
  },
  {
   "cell_type": "code",
   "execution_count": null,
   "metadata": {
    "id": "U86i_Z0ZcDj8"
   },
   "outputs": [],
   "source": [
    "# indexing (list indexes start with zero!)\n",
    "li = [\"Chr1\", \"Chr2\", \"Chr3\", \"Chr4\", \"Chr5\", \"Chr6\", \"Chr7\", \"Chr8\", \"Chr9\", \"Chr10\", \"Chr11\", \"Chr12\", \"Chr13\", \"Chr14\", \"Chr15\", \"Chr16\", \"Chr17\", \"Chr18\", \"Chr19\", \"Chr20\", \"Chr21\", \"Chr22\", \"Chr23\"]\n",
    "print(li[2])"
   ]
  },
  {
   "cell_type": "code",
   "execution_count": null,
   "metadata": {
    "colab": {
     "base_uri": "https://localhost:8080/",
     "height": 211
    },
    "executionInfo": {
     "elapsed": 667,
     "status": "error",
     "timestamp": 1719452602816,
     "user": {
      "displayName": "Rob Edwards",
      "userId": "17780279723170493443"
     },
     "user_tz": -570
    },
    "id": "p1b6JeS5cFiC",
    "outputId": "60b22395-d5ae-4d04-e5c2-4129dd54226f"
   },
   "outputs": [],
   "source": [
    "# indexing out of bounds raises a runtime error\n",
    "li = [\"Chr1\", \"Chr2\", \"Chr3\", \"Chr4\", \"Chr5\", \"Chr6\", \"Chr7\", \"Chr8\", \"Chr9\", \"Chr10\", \"Chr11\", \"Chr12\", \"Chr13\", \"Chr14\", \"Chr15\", \"Chr16\", \"Chr17\", \"Chr18\", \"Chr19\", \"Chr20\", \"Chr21\", \"Chr22\", \"Chr23\"]\n",
    "print(li[99])\n"
   ]
  },
  {
   "cell_type": "code",
   "execution_count": null,
   "metadata": {
    "id": "gQMJCFZ7cHaB"
   },
   "outputs": [],
   "source": [
    "li = [\"Chr1\", \"Chr2\", \"Chr3\", \"Chr4\", \"Chr5\", \"Chr6\", \"Chr7\", \"Chr8\", \"Chr9\", \"Chr10\", \"Chr11\", \"Chr12\", \"Chr13\", \"Chr14\", \"Chr15\", \"Chr16\", \"Chr17\", \"Chr18\", \"Chr19\", \"Chr20\", \"Chr21\", \"Chr22\", \"Chr23\"]\n",
    "# slicing\n",
    "print(li[1:3])"
   ]
  },
  {
   "cell_type": "code",
   "execution_count": null,
   "metadata": {
    "id": "Wukzw25lcIqk"
   },
   "outputs": [],
   "source": [
    "# concatenating lists\n",
    "li1 = [\"Chr1\", \"Chr2\", \"Chr3\"]\n",
    "li2 = [\"Chr4\", \"Chr5\", \"Chr6\"]\n",
    "li3 = [\"Chr7\", \"Chr8\", \"Chr9\"]\n",
    "li4 = li1 + li2 + li3\n",
    "print(li4)"
   ]
  },
  {
   "cell_type": "code",
   "execution_count": null,
   "metadata": {
    "id": "uLBYBQ0Qhp_A"
   },
   "outputs": [],
   "source": [
    "# add an element\n",
    "li = [\"Chr1\", \"Chr2\", \"Chr3\", \"Chr4\"]\n",
    "print(li)\n",
    "li.append(\"ChrX\")\n",
    "print(li)"
   ]
  },
  {
   "cell_type": "code",
   "execution_count": null,
   "metadata": {
    "id": "9G03HO1KiVVW"
   },
   "outputs": [],
   "source": [
    "print(li)\n",
    "# replace an element by index\n",
    "li[4] = 'ChrY' # overwrites value at index 4\n",
    "print(li)"
   ]
  },
  {
   "cell_type": "code",
   "execution_count": null,
   "metadata": {
    "id": "C5DPhJDBir9u"
   },
   "outputs": [],
   "source": [
    "li = [\"Chr1\", \"Chr2\", \"Chr3\", \"Chr4\", \"Chr1\", \"Chr2\", \"Chr3\", \"Chr1\", \"Chr2\", \"Chr1\"]\n",
    "# get the number of occurrences of a particular value\n",
    "count = li.count(\"Chr1\")\n",
    "print(count)"
   ]
  },
  {
   "cell_type": "code",
   "execution_count": null,
   "metadata": {
    "id": "5wOspz47itht"
   },
   "outputs": [],
   "source": [
    "li = [\"Chr1\", \"Chr2\", \"Chr3\", \"Chr4\", \"Chr1\", \"Chr2\", \"Chr3\", \"Chr1\", \"Chr2\", \"Chr1\"]\n",
    "# get the (first) index of a particular value\n",
    "index = li.index(\"Chr1\")\n",
    "print(index)"
   ]
  },
  {
   "cell_type": "code",
   "execution_count": null,
   "metadata": {
    "id": "3KWj-wv4ivDG"
   },
   "outputs": [],
   "source": [
    "li = [\"Chr1\", \"Chr2\", \"Chr3\", \"Chr4\"]\n",
    "# reverse a list\n",
    "li.reverse()\n",
    "print(li)\n",
    "li.reverse()\n",
    "print(li)"
   ]
  },
  {
   "cell_type": "markdown",
   "metadata": {
    "id": "KSivzV8cjnpv"
   },
   "source": [
    "## Nested Lists"
   ]
  },
  {
   "cell_type": "markdown",
   "metadata": {
    "id": "dlT7PoPcdPHK"
   },
   "source": [
    "We can have lists of lists, and lists of lists of lists.\n",
    "\n",
    "- list of lists: ```[[1, 2], [3, 4]]```\n",
    "\n",
    "\n",
    "Later we will look at spreadsheets that are two-dimensional, and you can imagine them being held as lists of lists. The first list is each row of the spreadsheet, and the second list is each column, so that a cell has a unique value per list.\n",
    "\n",
    "If you want to explore nested lists in more detail, have a look at [Marc's Python lesson 5](mco.fyi/py5), which covers these concepts in more detail.\n"
   ]
  },
  {
   "cell_type": "markdown",
   "metadata": {
    "id": "lzP_qltkPMt1"
   },
   "source": [
    "[Return to the lesson listing](#lessons)\n",
    "\n",
    "[Return to the top of the notebook](#top)"
   ]
  }
 ],
 "metadata": {
  "colab": {
   "provenance": [
    {
     "file_id": "15KAyGvriQwRoXQa3t70jmi3XumKBxDRi",
     "timestamp": 1718237753735
    }
   ]
  },
  "kernelspec": {
   "display_name": "Python 3 (ipykernel)",
   "language": "python",
   "name": "python3"
  },
  "language_info": {
   "codemirror_mode": {
    "name": "ipython",
    "version": 3
   },
   "file_extension": ".py",
   "mimetype": "text/x-python",
   "name": "python",
   "nbconvert_exporter": "python",
   "pygments_lexer": "ipython3",
   "version": "3.9.5"
  }
 },
 "nbformat": 4,
 "nbformat_minor": 4
}
