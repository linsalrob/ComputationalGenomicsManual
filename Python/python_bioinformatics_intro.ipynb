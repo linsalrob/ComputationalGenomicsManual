{
 "cells": [
  {
   "cell_type": "markdown",
   "metadata": {},
   "source": [
    "# Introduction to Python Programming for Bioinformatics\n",
    "\n",
    "## About this notebook\n",
    "\n",
    "This notebook was originally written by [Marc Cohen](https://github.com/mco-gh), an engineer at Google. The original source can be found on [Marc's short link service](https://mco.fyi/), and starts with [Python lesson 0](https://mco.fyi/py0), and I encourage you to work through that notebook if you find some details missing here.\n",
    "\n",
    "Rob Edwards edited the notebook, adapted it for bioinformatics, using some simple geneticy examples, condensed it into a single notebook, and rearranged some of the lessons, so if some of it does not make sense, it is Rob's fault!\n",
    "\n",
    "It is intended as a hands-on companion to an in-person course, and if you would like Rob to teach this course (or one of the other courses) don't hesitate to get in touch with him.\n",
    "\n",
    "## Using this notebook\n",
    "\n",
    "You can download the original version of this notebook from [GitHub](https://linsalrob.github.io/ComputationalGenomicsManual/Python/python_bioinformatics_intro.ipynb) and from [Rob's Google Drive]()\n",
    "\n",
    "**You should make your own copy of this notebook by selecting File->Save a copy in Drive from the menu bar above, and then you can edit the code and run it as your own**\n",
    "\n",
    "There are several lessons, and you can do them in any order. I've tried to organise them in the order I think most appropriate, but you may disagree!\n"
   ]
  },
  {
   "cell_type": "code",
   "execution_count": 1,
   "metadata": {},
   "outputs": [
    {
     "name": "stdout",
     "output_type": "stream",
     "text": [
      "hello\n"
     ]
    }
   ],
   "source": [
    "print(\"hello\")"
   ]
  },
  {
   "cell_type": "markdown",
   "metadata": {},
   "source": [
    "# Lesson Links\n",
    "\n",
    "* [Lesson 1 - Variables and Types](#Lesson-1---Variables-and-Types)\n",
    "  * [Variables](#Variables)\n",
    "  * [Naming variables](#Naming-variables)\n",
    "  * [Types of data](#Types-of-data)\n",
    "  * [Numeric Types](#Numeric-Types)\n",
    "  * [String Types](#String-Types)\n",
    "  * [Using Variables in Python](#Using-Variables-in-Python)\n",
    "  * [Built in Python functions](#Built-in-Python-functions)\n",
    "* [Lesson 2 - Expressions](#Lesson-2---Expressions)\n",
    "  * [Constants vs. Variables](#Constants-vs.-Variables)\n",
    "  * [Data Types](#Data-Types)\n",
    "  * [The Boolean (bool) Type](#The-Boolean-(bool)-Type)\n",
    "  * [The None Type](#The-None-Type)\n",
    "  * [Comparison Opererators](#Comparison-Opererators)\n",
    "  * [Boolean Operators - and, or, and not](#Boolean-Operators---and,-or,-and-not)\n",
    "  * [Order of Evaluation](#Order-of-Evaluation)\n",
    "  * [Python Precedence Rules](#Python-Precedence-Rules)\n",
    "  * [F strings](#F-strings)\n",
    "* [Lesson 3 Lists](#Lesson-3-Lists)\n",
    "  * [Lists](#Lists)\n",
    "  * [Creating Lists](#Creating-Lists)\n",
    "  * [Sets](#Sets)\n",
    "  * [List Operations](#List-Operations)\n",
    "* [Lession 4 - Dictionaries](#Lession-4---Dictionaries)\n",
    "  * [Dictionary Operations](#Dictionary-Operations)\n",
    "  * [Rule of thumb for truth value of lists, and dictionaries](#Rule-of-thumb-for-truth-value-of-lists,-and-dictionaries)\n",
    "* [Lesson 5 - Conditionals](#Lesson-5---Conditionals)\n",
    "  * [Controlling Program Flow](#Controlling-Program-Flow)\n",
    "  * [if Statements](#if-Statements)\n",
    "  * [if Block Structure](#if-Block-Structure)\n",
    "  * [Python's use of whitespace](#Python's-use-of-whitespace)\n",
    "  * [else Statements](#else-Statements)\n",
    "  * [elif Statements](#elif-Statements)\n",
    "  * [For loops](#For-loops)\n",
    "* [Lesson 6 - Functions](#Lesson-6---Functions)\n",
    "  * [Defining Functions](#Defining-Functions)\n",
    "  * [Docstrings](#Docstrings)\n",
    "* [Lesson 7 - Modules](#Lesson-7---Modules)\n",
    "  * [The from Statement](#The-from-Statement)\n",
    "  * [When to use import vs. from](#When-to-use-import-vs.-from)"
   ]
  },
  {
   "cell_type": "code",
   "execution_count": 2,
   "metadata": {},
   "outputs": [
    {
     "name": "stdout",
     "output_type": "stream",
     "text": [
      "hello\n"
     ]
    }
   ],
   "source": [
    "print(\"hello\")"
   ]
  },
  {
   "cell_type": "markdown",
   "metadata": {},
   "source": [
    "# Lesson 1 - Variables and Types\n",
    "\n",
    "Things you'll learn in this lesson:\n",
    "- The basic data types you can work with in Python\n",
    "- How to create and assign values to variables in Python\n",
    "- How to call a function"
   ]
  },
  {
   "cell_type": "markdown",
   "metadata": {
    "id": "bJVtPIkr5KDA"
   },
   "source": [
    "## Variables\n",
    "\n",
    "Any Python interpreter can be used as a calculator. To run this cell, either click on the triangle, or put your cursor in the cell and press Shift and Enter at the same time.\n"
   ]
  },
  {
   "cell_type": "code",
   "execution_count": null,
   "metadata": {
    "id": "O5D5Pvgu5MrL",
    "jupyter": {
     "is_executing": true
    },
    "outputId": "4f26ac8d-8c8b-45a3-8f86-75c3e26acdce"
   },
   "outputs": [],
   "source": [
    "print(3 + 5 * 4)"
   ]
  },
  {
   "cell_type": "markdown",
   "metadata": {
    "id": "zi5ctjIY5j5n"
   },
   "source": [
    "\n",
    "This is great but not very interesting.\n",
    "To do anything useful with data, we need to assign its value to a _variable_.\n",
    "In Python, we can assign a value to a variable using the equals sign `=`.\n",
    "\n",
    "If a variable doesn’t already exist, when you assign to it, Python creates it on the fly. If you assign to a variable that already exists, Python replaces its current value with a new value.\n",
    "\n",
    "Examples\n",
    "\n",
    "    instructor = \"Rob\"         # string value\n",
    "    instructor = \"Stevie\" # same name, diff string value\n",
    "    instructor = 42             # same name, integer value\n",
    "    todays_high_temp = 18.2     # diff name, floating point value\n",
    "\n",
    "We can track the length of a bacterial genome by assigning its length in basepairs to a variable. For example, if the length is 4,500,000 bp, we \n",
    "could assign that to a variable called `genome_size`:"
   ]
  },
  {
   "cell_type": "code",
   "execution_count": null,
   "metadata": {
    "ExecuteTime": {
     "end_time": "2024-06-13T07:21:27.325111Z",
     "start_time": "2024-06-13T07:21:27.299019Z"
    }
   },
   "outputs": [],
   "source": [
    "genome_size = 4500000\n",
    "print(genome_size)"
   ]
  },
  {
   "cell_type": "markdown",
   "metadata": {
    "id": "ei_aBfYIYmdI"
   },
   "source": [
    "From now on, whenever we use `genome_size`, Python will substitute the value we assigned to it. In simpler terms, **a variable is a reference to a value**.\n",
    "\n",
    "In Python, variable names:\n",
    "\n",
    " - can include letters, digits, and underscores\n",
    " - cannot start with a digit\n",
    " - are case-sensitive\n",
    "\n",
    "This means that, for example:\n",
    " - `genome0` is a valid variable name, whereas `0genome` is not\n",
    " - `genome` and `Genome` are different variables, and this will sometimes trip you up. It is usual practice to use lower case letters for variable names, and if you want to use two words, like `genome size`, to join them with an underscore (i.e. `genome_size`). Sometimes people will use capitals for words, like `GenomeSize`, (but that's wrong!) (but it still works).\n",
    "\n",
    "## Naming variables\n",
    "\n",
    "It is a good idea (and good practice!) to name variables something meaningful. Remember that when you come back to your code in 6 months or a year later, it is going to look like gibebrish, so try and reduce the amount of gibberish as much as possible! \n",
    "\n",
    "For example, while you are writing the code it might be obvious to use `r` to mean `RNA sequence coverage averaged by gene length`, however in 6 months, you'll be wondering if this was really averaged, or just the raw counts. Using a variable like `rnaseq_averaged` is more meaningfull. You should avoid short names (one or two letters), however, you might also want to avoid using `rna_sequence_coverage_averaged_by_gene_length`, which even though it is valid, it will be a pain to type everytime (and make your code look ugly!)\n"
   ]
  },
  {
   "cell_type": "markdown",
   "metadata": {
    "id": "AQsH4eIdsUY_"
   },
   "source": [
    "### Reserved Words\n",
    "\n",
    "The following words have special meaning in Python. We call them keywords or reserved words and you may not use these names for your program variables.\n",
    "\n",
    "> ```and, as, assert, break, class, continue, def, del, elif, else, except, False, finally, for, from, global, if, import, in, is, lambda, nonlocal, None, not, or, pass, raise, return, True, try, while, with, yield```\n",
    "\n",
    "<details>\n",
    "<summary>\n",
    "Python also has a lot of built-in functions. We'll use some of these as we go through, but here is a table of all of them. Although you don't need to worry about them right now, you should avoid using the names of these functions as the name of a variable. Click the triangle at the start of this line to see the complete table.\n",
    "</summary>\n",
    "\n",
    "\n",
    "Function | Description\n",
    "--- | ---\n",
    "abs() | Returns the absolute value of a number\n",
    "all() | Returns True if all items in an iterable object are true\n",
    "any() | Returns True if any item in an iterable object is true\n",
    "ascii() | Returns a readable version of an object. Replaces none-ascii characters with escape character\n",
    "bin() | Returns the binary version of a number\n",
    "bool() | Returns the boolean value of the specified object\n",
    "bytearray() | Returns an array of bytes\n",
    "bytes() | Returns a bytes object\n",
    "callable() | Returns True if the specified object is callable, otherwise False\n",
    "chr() | Returns a character from the specified Unicode code.\n",
    "classmethod() | Converts a method into a class method\n",
    "compile() | Returns the specified source as an object, ready to be executed\n",
    "complex() | Returns a complex number\n",
    "delattr() | Deletes the specified attribute (property or method) from the specified object\n",
    "dict() | Returns a dictionary (Array)\n",
    "dir() | Returns a list of the specified object's properties and methods\n",
    "divmod() | Returns the quotient and the remainder when argument1 is divided by argument2\n",
    "enumerate() | Takes a collection (e.g. a tuple) and returns it as an enumerate object\n",
    "eval() | Evaluates and executes an expression\n",
    "exec() | Executes the specified code (or object)\n",
    "filter() | Use a filter function to exclude items in an iterable object\n",
    "float() | Returns a floating point number\n",
    "format() | Formats a specified value\n",
    "frozenset() | Returns a frozenset object\n",
    "getattr() | Returns the value of the specified attribute (property or method)\n",
    "globals() | Returns the current global symbol table as a dictionary\n",
    "hasattr() | Returns True if the specified object has the specified attribute (property/method)\n",
    "hash() | Returns the hash value of a specified object\n",
    "help() | Executes the built-in help system\n",
    "hex() | Converts a number into a hexadecimal value\n",
    "id() | Returns the id of an object\n",
    "input() | Allowing user input\n",
    "int() | Returns an integer number\n",
    "isinstance() | Returns True if a specified object is an instance of a specified object\n",
    "issubclass() | Returns True if a specified class is a subclass of a specified object\n",
    "iter() | Returns an iterator object\n",
    "len() | Returns the length of an object\n",
    "list() | Returns a list\n",
    "locals() | Returns an updated dictionary of the current local symbol table\n",
    "map() | Returns the specified iterator with the specified function applied to each item\n",
    "max() | Returns the largest item in an iterable\n",
    "memoryview() | Returns a memory view object\n",
    "min() | Returns the smallest item in an iterable\n",
    "next() | Returns the next item in an iterable\n",
    "object() | Returns a new object\n",
    "oct() | Converts a number into an octal\n",
    "open() | Opens a file and returns a file object\n",
    "ord() | Convert an integer representing the Unicode of the specified character\n",
    "pow() | Returns the value of x to the power of y\n",
    "print() | Prints to the standard output device\n",
    "property() | Gets, sets, deletes a property\n",
    "range() | Returns a sequence of numbers, starting from 0 and increments by 1 (by default)\n",
    "repr() | Returns a readable version of an object\n",
    "reversed() | Returns a reversed iterator\n",
    "round() | Rounds a numbers\n",
    "set() | Returns a new set object\n",
    "setattr() | Sets an attribute (property/method) of an object\n",
    "slice() | Returns a slice object\n",
    "sorted() | Returns a sorted list\n",
    "staticmethod() | Converts a method into a static method\n",
    "str() | Returns a string object\n",
    "sum() | Sums the items of an iterator\n",
    "super() | Returns an object that represents the parent class\n",
    "tuple() | Returns a tuple\n",
    "type() | Returns the type of an object\n",
    "vars() | Returns the __dict__ property of an object\n",
    "zip() | Returns an iterator, from two or more iterators\n",
    "\n",
    "</details>\n"
   ]
  },
  {
   "cell_type": "markdown",
   "metadata": {
    "id": "2vVrIzu76Mka"
   },
   "source": [
    "## Types of data\n",
    "Python knows about several types of data. Three common ones are:\n",
    "\n",
    "* integer numbers\n",
    "* floating point numbers\n",
    "* character strings\n",
    "\n",
    "In the example above, variable `genome_size` was assigned an integer value of `4500000`. If we want to store a fraction, like the %GC of the genome, \n",
    "we can use a floating point value by executing:"
   ]
  },
  {
   "cell_type": "code",
   "execution_count": null,
   "metadata": {
    "ExecuteTime": {
     "end_time": "2024-06-13T07:21:54.626948Z",
     "start_time": "2024-06-13T07:21:54.617326Z"
    },
    "id": "Q-cUtwa26PKT",
    "outputId": "59844e86-017e-440c-ed10-0ac2f487aeac"
   },
   "outputs": [],
   "source": [
    "percent_gc = 0.45\n",
    "print(percent_gc)"
   ]
  },
  {
   "cell_type": "markdown",
   "metadata": {
    "id": "hRyCToPF6Uk7"
   },
   "source": [
    "To create a string, we add single or double quotes around some text.\n",
    "To identify and track a bacteria throughout our study, we can assign it a unique identifier by storing it in a string:"
   ]
  },
  {
   "cell_type": "code",
   "execution_count": null,
   "metadata": {
    "ExecuteTime": {
     "end_time": "2024-06-13T07:21:57.556131Z",
     "start_time": "2024-06-13T07:21:57.537151Z"
    },
    "id": "2g7XZo0m6X7Q",
    "outputId": "19bb577d-5e53-48d8-aca9-98dd4865d5d6"
   },
   "outputs": [],
   "source": [
    "bacteria_id = \"001\"\n",
    "print(bacteria_id)"
   ]
  },
  {
   "cell_type": "markdown",
   "metadata": {
    "id": "3IVQV7ajrzvM"
   },
   "source": [
    "## Numeric Types\n",
    "\n",
    "Python supports two main types of numbers\n",
    "* int, arbitrary size signed integers, like these:\n",
    "  * `2011`\n",
    "  * `-999999999999`\n",
    "* float, arbitrary precision floating point numbers, like these:\n",
    "  * `3.1415926539`\n",
    "  * `3.8 * 10**6`\n",
    "\n",
    "For the most part, you don't need to worry about which type of number to use - Python will take care of that for you. The decimal point tells Python which to use.\n",
    "\n",
    "Mixing floats and ints results in a float so, for example, `2011 * 3.14` results in a floating point number.\n",
    "\n",
    "Try entering these expressions in the following cell:\n",
    "\n",
    "```\n",
    "print(5 - 6)  \n",
    "print(8 * 9)\n",
    "print(6 / 2)\n",
    "print(5.0 / 2)\n",
    "print(5 % 2)  \n",
    "print(2 * 10 + 3)  \n",
    "print(2 * (10 + 3))  \n",
    "print(2 ** 4)\n",
    "```\n",
    "Were there any outputs you didn't expect?"
   ]
  },
  {
   "cell_type": "code",
   "execution_count": null,
   "metadata": {
    "id": "GxdsLvbqr2Bd",
    "outputId": "f72d8feb-32be-45ce-ba7a-00a845219ba9"
   },
   "outputs": [],
   "source": [
    "# talk about the print variables with your neighbour, and then copy and paste them here!\n",
    "# press shift-enter to execute the code after you have pasted it."
   ]
  },
  {
   "cell_type": "markdown",
   "metadata": {},
   "source": [
    "## String Types \n",
    "\n",
    "Strings are really a [list](#Lesson-3-Lists) of characters, and we can do a few interesting things with them. Note that we will talk more about Lists later, so some of this will become clearer when we cover that material.\n",
    "\n",
    "A string is a collection of individual characters, and you can access each of them separately. "
   ]
  },
  {
   "cell_type": "code",
   "execution_count": 1,
   "metadata": {},
   "outputs": [
    {
     "name": "stdout",
     "output_type": "stream",
     "text": [
      "A\n",
      "C\n",
      "G\n",
      "T\n"
     ]
    }
   ],
   "source": [
    "sequence = \"ACGT\"\n",
    "print(sequence[0])\n",
    "print(sequence[1])\n",
    "print(sequence[2])\n",
    "print(sequence[3])"
   ]
  },
  {
   "cell_type": "markdown",
   "metadata": {},
   "source": [
    "We can also access a `slice` of a string which is the start and stop positions of the string"
   ]
  },
  {
   "cell_type": "code",
   "execution_count": 2,
   "metadata": {},
   "outputs": [
    {
     "name": "stdout",
     "output_type": "stream",
     "text": [
      "AC\n"
     ]
    }
   ],
   "source": [
    "print(sequence[0:2])"
   ]
  },
  {
   "cell_type": "markdown",
   "metadata": {
    "id": "S-j9OuQ96ofq"
   },
   "source": [
    "## Using Variables in Python\n",
    "\n",
    "Once we have data stored with variable names, we can make use of those variables in our calculations. We call these combinations of variables and values  **expressions**. When evaluating an expression, Python internally replaces the variable names with the values to which they refer.\n",
    "\n",
    "We may want to store our genome in kilo base pairs as well as base pairs.\n",
    "\n"
   ]
  },
  {
   "cell_type": "code",
   "execution_count": null,
   "metadata": {
    "id": "gWSAZq0D6xpf",
    "outputId": "2dbd13e7-72a9-4755-a932-aa468fde65b8"
   },
   "outputs": [],
   "source": [
    "genome_kb = genome_size / 1000\n",
    "print(genome_kb)"
   ]
  },
  {
   "cell_type": "markdown",
   "metadata": {
    "id": "hCZN9s236ucL"
   },
   "source": [
    "We might also decide to add a bacterial genus and species to our bacterial id"
   ]
  },
  {
   "cell_type": "code",
   "execution_count": null,
   "metadata": {
    "id": "gLIq7Z1u63VJ",
    "outputId": "4b6e44d6-5e1d-4014-a1b1-ac4ec4f588bb"
   },
   "outputs": [],
   "source": [
    "bacteria_id = \"E coli: \" + bacteria_id\n",
    "print(bacteria_id)"
   ]
  },
  {
   "cell_type": "markdown",
   "metadata": {
    "id": "8BnjHISr6-hN"
   },
   "source": [
    "## Built-in Python functions\n",
    "\n",
    "To carry out common tasks with data and variables in Python,\n",
    "the language provides us with several built-in functions.\n",
    "To display information to the screen, we use the `print` function:"
   ]
  },
  {
   "cell_type": "code",
   "execution_count": null,
   "metadata": {
    "id": "Igqiw5fJ7FLn"
   },
   "outputs": [],
   "source": [
    "print(genome_size)\n",
    "print(bacteria_id)"
   ]
  },
  {
   "cell_type": "markdown",
   "metadata": {
    "id": "amsnF9L47gWd"
   },
   "source": [
    "When we want to make use of a function, what computer scientists refer to as **calling the function**, we follow its name by parentheses. The parentheses are important: if you leave them off, the function doesn't actually run!\n",
    "\n",
    "Sometimes you will include values or variables inside the parentheses for the function to use. In the case of `print`, we use the parentheses to tell the function which value we want to display. We will learn more about how functions work and how to create our own in later lessons.\n",
    "\n",
    "We can display multiple things at once using only one `print` function call:"
   ]
  },
  {
   "cell_type": "code",
   "execution_count": null,
   "metadata": {
    "id": "oQpyFVpi7ivD"
   },
   "outputs": [],
   "source": [
    "print(bacteria_id, \" genome size in kb: \", genome_kb)"
   ]
  },
  {
   "cell_type": "markdown",
   "metadata": {
    "id": "WsHwduqt7vjX"
   },
   "source": [
    "We can also call a function inside of another function call. For example, Python has a built-in function called `type` that tells you a value's data type:"
   ]
  },
  {
   "cell_type": "code",
   "execution_count": null,
   "metadata": {
    "id": "6ZCBafYK7yQk"
   },
   "outputs": [],
   "source": [
    "print(type(60.3))\n",
    "print(type(bacteria_id))\n",
    "print(type(genome_size))\n",
    "print(type(genome_kb))"
   ]
  },
  {
   "cell_type": "markdown",
   "metadata": {
    "id": "OvDZ69F373aO"
   },
   "source": [
    "We can also do arithmetic with variables right inside the `print` function:"
   ]
  },
  {
   "cell_type": "code",
   "execution_count": null,
   "metadata": {
    "id": "oMNmpxlC75fA"
   },
   "outputs": [],
   "source": [
    "print(\"genome size in MB:\", genome_size / 1000000)"
   ]
  },
  {
   "cell_type": "markdown",
   "metadata": {
    "id": "BxsTLSDG8GbK"
   },
   "source": [
    "Note that the above function call did not change the value of `genome_size`:"
   ]
  },
  {
   "cell_type": "code",
   "execution_count": null,
   "metadata": {
    "id": "aK3sN7nO8DWx"
   },
   "outputs": [],
   "source": [
    "print(genome_size)"
   ]
  },
  {
   "cell_type": "markdown",
   "metadata": {
    "id": "3UrH-otn8OJL"
   },
   "source": [
    "To change the value of the `genome_size` variable, we have to\n",
    "**assign** a new value to `genome_size` using the equals `=` sign:"
   ]
  },
  {
   "cell_type": "code",
   "execution_count": null,
   "metadata": {
    "id": "b3Stj4VQ8Qhn"
   },
   "outputs": [],
   "source": [
    "genome_size = 3100000000\n",
    "print(\"genome size is now:\", genome_size)"
   ]
  },
  {
   "cell_type": "markdown",
   "metadata": {
    "id": "VulGkaqP9jMp"
   },
   "source": [
    "What values do the variables `rrna` and `protein` have after each of the following statements?\n",
    "\n",
    "Guess before executing the lines below..."
   ]
  },
  {
   "cell_type": "code",
   "execution_count": null,
   "metadata": {
    "ExecuteTime": {
     "end_time": "2024-06-13T07:33:04.366522Z",
     "start_time": "2024-06-13T07:33:04.338279Z"
    },
    "id": "ppi8ti6d9rd8",
    "outputId": "747079ac-789c-40bc-da65-d4d1533c7707"
   },
   "outputs": [],
   "source": [
    "rrna = 400\n",
    "print(\"There are \", rrna, \" rRNAs encoded in the human genome\")\n",
    "print(\"There are \", protein, \" proteins encoded in the human genome\")"
   ]
  },
  {
   "cell_type": "code",
   "execution_count": null,
   "metadata": {
    "ExecuteTime": {
     "end_time": "2024-06-13T07:33:05.113253Z",
     "start_time": "2024-06-13T07:33:05.101421Z"
    },
    "id": "OrBQpVQXa2uS",
    "outputId": "cdc6bb60-ca00-4d6e-bd94-4b41362c8f28"
   },
   "outputs": [],
   "source": [
    "protein = 19126\n",
    "print(\"There are \", rrna, \" rRNAs encoded in the human genome\")\n",
    "print(\"There are \", protein, \" proteins encoded in the human genome\")"
   ]
  },
  {
   "cell_type": "code",
   "execution_count": null,
   "metadata": {
    "ExecuteTime": {
     "end_time": "2024-06-13T07:33:06.191673Z",
     "start_time": "2024-06-13T07:33:06.180664Z"
    },
    "id": "0PEer3Jaa5gr"
   },
   "outputs": [],
   "source": [
    "rrna = rrna * 2.0\n",
    "print(\"There are \", rrna, \" rRNAs encoded in the human genome\")\n",
    "print(\"There are \", protein, \" proteins encoded in the human genome\")"
   ]
  },
  {
   "cell_type": "code",
   "execution_count": null,
   "metadata": {
    "ExecuteTime": {
     "end_time": "2024-06-13T07:35:00.114969Z",
     "start_time": "2024-06-13T07:35:00.109498Z"
    },
    "id": "YqBUCO2Ua7Vk"
   },
   "outputs": [],
   "source": [
    "protein = protein - 126.0\n",
    "print(\"There are \", rrna, \" rRNAs encoded in the human genome\")\n",
    "print(\"There are \", protein, \" proteins encoded in the human genome\")"
   ]
  },
  {
   "cell_type": "markdown",
   "metadata": {
    "id": "EdWoZVG2-PKk"
   },
   "source": [
    "## Multiple definitions at once!\n",
    "\n",
    "Python allows you to assign multiple values to multiple variables in one line by separating the variables and values with commas. What does the following program print out?"
   ]
  },
  {
   "cell_type": "code",
   "execution_count": null,
   "metadata": {
    "id": "IAAYWlIQs3nq"
   },
   "outputs": [],
   "source": [
    "a, b = \"E. coli\", \"Salmonella\"\n",
    "print(a, b)"
   ]
  },
  {
   "cell_type": "code",
   "execution_count": null,
   "metadata": {
    "id": "VkwNf2OT-UX9"
   },
   "outputs": [],
   "source": [
    "first, second = \"crAssphage\", \"phiX174\"\n",
    "third, fourth = second, first\n",
    "print(third, fourth)"
   ]
  },
  {
   "cell_type": "markdown",
   "metadata": {
    "id": "mfGvFV6WLjI1"
   },
   "source": [
    "# Lesson 2 - Expressions\n",
    "\n",
    "\n",
    "Things you'll learn in this lesson:\n",
    "- More about types in Python\n",
    "- Boolean operators\n",
    "- How to combine constants, variables, and operators into arithmetic, boolean, and comparison expressions\n",
    "- Operator precedence\n",
    "- The magical f-string\n",
    "\n",
    "Link to the original version of this notebook on [Marco's short link service](https://mco.fyi/py2)\n"
   ]
  },
  {
   "cell_type": "markdown",
   "metadata": {
    "id": "IpvP1cdrMj7N"
   },
   "source": [
    "# Constants vs. Variables"
   ]
  },
  {
   "cell_type": "markdown",
   "metadata": {
    "id": "no7Tp6rlMqxe"
   },
   "source": [
    "* Literal values (like `\"Rob\"` and `2010`) are called constants because they don't change.\n",
    "\n",
    "* Constants, are called constants because its value is fixed, unlike variables, whose associated value may change (or *vary*) over time.\n",
    "\n",
    "* The data a variable refers to may be simple, e.g. a number or a string, or it may be complex, e.g. a list or an object (we'll learn about those later)."
   ]
  },
  {
   "cell_type": "markdown",
   "metadata": {
    "id": "LOPDElnTtZ_3"
   },
   "source": [
    "# Data Types\n",
    "\n",
    "In Python, values have a *type*. We already saw three data types in the previous lesson. We'll take a look at a few other types."
   ]
  },
  {
   "cell_type": "markdown",
   "metadata": {
    "id": "PqEElVkjMx0U"
   },
   "source": [
    "# The Boolean (`bool`) Type"
   ]
  },
  {
   "cell_type": "markdown",
   "metadata": {
    "id": "9v1wuSdBM4Gn"
   },
   "source": [
    "Python supports a special type called booleans, written `bool` in Python, which are used to indicate whether something is true or false. Booleans have one of two possible values:\n",
    "\n",
    "* `True`\n",
    "* `False`"
   ]
  },
  {
   "cell_type": "markdown",
   "metadata": {
    "id": "1RhUxhsoM7SJ"
   },
   "source": [
    "When evaluating a **number** as a boolean, the following rules apply:\n",
    "\n",
    "* 0 is `False`\n",
    "* 0.0 is `False`\n",
    "* all other numerical values are `True`\n",
    "\n",
    "When evaluating a **string** as a boolean, the following rules apply:\n",
    "\n",
    "* the empty string (`\"\"` and `''`) is `False`\n",
    "* all other strings are `True`\n",
    "\n",
    "If it's something, its True. Otherwise its _NOT_. \n"
   ]
  },
  {
   "cell_type": "markdown",
   "metadata": {
    "id": "YtDLrMs2M-_C"
   },
   "source": [
    "# The None Type"
   ]
  },
  {
   "cell_type": "markdown",
   "metadata": {
    "id": "8wM1pnKbNCkk"
   },
   "source": [
    "Python has a special type called `None` and it means *no value*.\n",
    "\n",
    "It's a good choice when you want to initialize a variable without an obvious choice for the initial value, like this:\n",
    "\n",
    "```bacteria = None```\n",
    "\n",
    "None always evaluates to False in boolean expressions.\n"
   ]
  },
  {
   "cell_type": "markdown",
   "metadata": {
    "id": "hBrzYShvNkkG"
   },
   "source": [
    "# Comparison Opererators"
   ]
  },
  {
   "cell_type": "markdown",
   "metadata": {
    "id": "G_I6sd1ANlxp"
   },
   "source": [
    "As their name suggests, comparison operators allow us to compare values and result in a boolean type indicating whether the comparison is `True` or `False`.\n",
    "\n",
    "The following table summarizes the most commonly used operators in Python, along with their definition when applied to numbers and strings.\n",
    "\n",
    "|operator|operation on numbers|operation on strings|\n",
    "|--------|--------------------|--------------------|\n",
    "|==|equal to|equal to|\n",
    "|!=|not equal to|not equal to|\n",
    "|>|greater than|lexicographically greater than|\n",
    "|>=|greater than or equal to|lexocographically greater than or equal to|\n",
    "|<|less than|lexicographically less than|\n",
    "|<=|less than or equal to|lexocographically less than or equal to|\n",
    "\n",
    "(Remember the crocodile!)\n"
   ]
  },
  {
   "cell_type": "markdown",
   "metadata": {
    "id": "twQUgl3GNpVK"
   },
   "source": [
    "## Challenge\n",
    "\n",
    "Which boolean value (`True` or `False`) do each of these expressions evaluate to?\n",
    "\n",
    "* `123 == 10`\n",
    "* `10 == 123`\n",
    "* `123 == 123`\n",
    "* `123 != 321`\n",
    "* `123 != 123`\n",
    "* `age == 65`\n",
    "* `age != min_age`\n",
    "\n",
    "* `\"E. coli\" == \"Salmonella\"`\n",
    "* `\"E. coli\" == \"E. coli\"`\n",
    "* `\"E. coli\" == \"E.coli\"`\n",
    "* `\"E. coli\" != \"e. coli\"`\n",
    "\n",
    "### `>` and `>=`\n",
    "* `123 > 10`\n",
    "* `10 > 123`\n",
    "* `123 > 123`\n",
    "* `123 >= 123`\n"
   ]
  },
  {
   "cell_type": "markdown",
   "metadata": {
    "id": "GTamPNU8NwEc"
   },
   "source": [
    "# Boolean Operators - `and`, `or`, and `not`\n",
    "\n",
    "Boolean operators are special operators in Python that let you combine boolean values in logical ways corresponding to how we combine truth values in the real world. An example of a boolean **and** expression would be \"I'll buy a new phone if I like the features **and** the price is low\". There are three main boolean operators: `and`, `or`, and `not`. We'll look at examples of each in the next cells."
   ]
  },
  {
   "cell_type": "markdown",
   "metadata": {
    "id": "5uzIu5wwNxCq"
   },
   "source": [
    "## Boolean `and`\n",
    "\n",
    "* `A and B`\n",
    "\n",
    "is `True` only true when both A and B are `True`, otherwise it's `False`.\n",
    "\n",
    "Example:\n",
    "\n",
    "* I ride my bike only when it's both sunny and warm.\n",
    "* In other words, if `is_sunny` and `is_warm` are both `True` then `is_sunny and is_warm` is `True` so I **will** ride my bike.\n",
    "\n",
    "In Python...\n",
    "```\n",
    "if is_sunny and is_warm:\n",
    "    # ride bike\n",
    "```\n",
    "\n",
    "We haven't learn about `if` statements so don't worry if the previous construct looks unfamiliar. It's a simple way of checking the value of a boolean expression, but we'll dive deeper into `if` statements shortly.\n"
   ]
  },
  {
   "cell_type": "code",
   "execution_count": null,
   "metadata": {
    "id": "PfzPhjzdfr5W"
   },
   "outputs": [],
   "source": [
    "is_sunny = False\n",
    "is_warm = False\n",
    "print(is_sunny and is_warm)"
   ]
  },
  {
   "cell_type": "markdown",
   "metadata": {
    "id": "90Arbj1TN0mK"
   },
   "source": [
    "### Truth Table for boolean `and`\n",
    "|`var1`|`var2`|`var1 and var2`|\n",
    "|------|------|---------------|\n",
    "|`False`|`False`|`False`|\n",
    "|`True`|`False`|`False`|\n",
    "|`False`|`True`|`False`|\n",
    "|`True`|`True`|`True`|"
   ]
  },
  {
   "cell_type": "markdown",
   "metadata": {
    "id": "9QZ93qNgN5Oh"
   },
   "source": [
    "## Boolean `or`\n",
    "\n",
    "* `A or B`\n",
    "\n",
    "is `True` when either A or B are `True`, or when both are `True`, otherwise it's `False`.\n",
    "\n",
    "Example:\n",
    "\n",
    "* I ride my bike  when it's sunny, or warm, or both\n",
    "* In other words, if `is_sunny` or `is_warm` (or both) are `True` then `is_sunny or is_warm` is `True` so I **will** ride my bike.\n",
    "\n",
    "In Python...\n",
    "```\n",
    "if is_sunny or is_warm:\n",
    "  # ride bike\n",
    "```"
   ]
  },
  {
   "cell_type": "markdown",
   "metadata": {
    "id": "OVf9BfHTN8k3"
   },
   "source": [
    "### Truth Table for boolean `or`\n",
    "\n",
    "|`var1`|`var2`|`var1 or var2`|\n",
    "|------|------|---------------|\n",
    "|`False`|`False`|`False`|\n",
    "|`True`|`False`|`True`|\n",
    "|`False`|`True`|`True`|\n",
    "|`True`|`True`|`True`|"
   ]
  },
  {
   "cell_type": "markdown",
   "metadata": {
    "id": "WFlkXCULN_yJ"
   },
   "source": [
    "## Logical Not\n",
    "\n",
    "* `not A`\n",
    "\n",
    "is `True` when A is `False`\n",
    "is `False` when A is `True`"
   ]
  },
  {
   "cell_type": "markdown",
   "metadata": {
    "id": "4OEHQqVjOCkM"
   },
   "source": [
    "### Truth Table for boolean `not`\n",
    "\n",
    "|`var1`|`not var1`|\n",
    "|------|---------|\n",
    "|`False`|`True`|\n",
    "|`True`|`False`|"
   ]
  },
  {
   "cell_type": "markdown",
   "metadata": {
    "id": "NjRlRqDkQxX3"
   },
   "source": [
    "# Expressions Revisited"
   ]
  },
  {
   "cell_type": "markdown",
   "metadata": {
    "id": "ZhpEy8pPQqGz"
   },
   "source": [
    "* Python lets us combine variables, constants and operators into larger units called expressions.\n",
    "* Expressions appear in many places\n",
    "  * assignment statements. Here we are assigning the new number to the same variable\n",
    "    * `age = age + 1    # we do this every birthday`\n",
    "    * we could write this in two steps:\n",
    "       * `tmp = age + 1`\n",
    "       * `age = tmp`\n",
    "    * but using one assignment is simpler, easier, and cleaner\n",
    "  * function calls\n",
    "    * `print(total_days * 365) # number of days alive`\n",
    "* As we learn more, we'll see expressions popping up all over the place"
   ]
  },
  {
   "cell_type": "code",
   "execution_count": null,
   "metadata": {
    "id": "JdS3GxIOQ4DC"
   },
   "outputs": [],
   "source": [
    "age = 22\n",
    "print(age)\n",
    "age = age + 1\n",
    "print(age)\n",
    "age += 1\n",
    "print(age)"
   ]
  },
  {
   "cell_type": "code",
   "execution_count": null,
   "metadata": {
    "id": "EKp1t5XVQ5An"
   },
   "outputs": [],
   "source": [
    "age = 22\n",
    "days_per_year = 365\n",
    "days_old = age * days_per_year\n",
    "print(f\"I was {days_old} days old on my last birthday!\")"
   ]
  },
  {
   "cell_type": "markdown",
   "metadata": {
    "id": "NWQDio7OQ7Ss"
   },
   "source": [
    "## Types of Expressions\n",
    "\n",
    "* arithmetic expressions\n",
    "\n",
    "`genome_size = chromosome_1_size + chromosome_2_size`\n",
    "\n",
    "* comparative expressions\n",
    "\n",
    "`genome_size == 0`\n",
    "\n",
    "* boolean expressions\n",
    "\n",
    "`chromosome_1 and plasmid`\n",
    "\n",
    "* combinations of the above\n",
    "\n",
    "`plasmid and (chromosome_1_size + chromosome_2_size + plasmid_size) < genome_size`\n"
   ]
  },
  {
   "cell_type": "markdown",
   "metadata": {
    "id": "J_VZLf1QRAXa"
   },
   "source": [
    "## Order of Evaluation\n",
    "\n",
    "How does Python know the correct order to evaluate a complex expression?\n",
    "\n",
    "Example: `4 + 1 * 5`\n",
    "\n",
    "Is that `(4 + 1) * 5`, which is `25`?  \n",
    "Or is it `4 + (1 * 5)`, which is `9`?\n",
    "\n",
    "Another example:  True or False and False\n",
    "\n",
    "Is that `(True or False) and False`, which is `False`?  \n",
    "Or is it `True or (False and False)`, which is `True`?\n",
    "\n",
    "Python uses operator precedence rules to avoid this ambiguity and evaluate expressions in a predictable way."
   ]
  },
  {
   "cell_type": "markdown",
   "metadata": {
    "id": "-iFwjdFZRDkY"
   },
   "source": [
    "## Python Precedence Rules\n",
    "\n",
    "This is a subset of the complete rules (in order of highest to lowest precedence):\n",
    "\n",
    "* parentheses (innermost to outermost, left to right)\n",
    "* exponentiation (left to right)\n",
    "* multiplication, division, modulus (left to right)\n",
    "* addition, subtraction (left to right)\n",
    "* comparisons (left to right)\n",
    "* boolean not\n",
    "* boolean and\n",
    "* boolean or\n",
    "\n",
    "[The Official Rules](https://docs.python.org/3/reference/expressions.html#operator-precedence)"
   ]
  },
  {
   "cell_type": "markdown",
   "metadata": {
    "id": "AWaVO8AORHZA"
   },
   "source": [
    "## Practical Advice\n",
    "\n",
    "**When in doubt, use parentheses.**\n",
    "\n",
    "Coders make liberal use of parentheses because:\n",
    "* You don't need to remember the precedence rules.\n",
    "* You don't have to worry about surprises.\n",
    "* It makes code more readable.\n",
    "* It eliminates any ambiguity\n",
    "\n",
    "For example, we could write this expression, which evaluates `A and B` first, then `C and D`, and finally takes the boolean `or` of the two preceding results:\n",
    "\n",
    "`A and B or C and D`\n",
    "\n",
    "but we much prefer to make explicit, like this so we don't have to _think_ (about precedence rules) every time we look at this code:\n",
    "\n",
    "`(A and B) or (C and D)`"
   ]
  },
  {
   "cell_type": "markdown",
   "metadata": {
    "id": "DaYXt_iJCQOU"
   },
   "source": [
    "## F-strings\n",
    "\n",
    "We often need to combine variables, values, and strings. For example, if we have the following variables:\n",
    "\n",
    "- `bacteria_name`\n",
    "- `genome_size`\n",
    "\n",
    "we might want to print a report, where each line summarizes the values above. We could do that like this:\n",
    "\n",
    "```\n",
    "print(\"bacteria: \", bacteria_name, \", genome size: \", genome_size, \" bp\")\n",
    "```\n",
    "which produces this output:\n",
    "```\n",
    "bacteria: E. coli genome size: 4500000 bp\n",
    "```\n",
    "\n",
    "This sort of construct gets a bit tedious. Plus the space between the customer id and the following comma unintended and undesirable.\n",
    "\n",
    "Python has a simple approach, called f-strings, that offer a more readable solution to this problem. If you prefix a string with the character `f`, it gives the string magic powers. Specifically, the sting has the ability to **interpolate** variables inside curly brackets. Here's how we could express the previous `print` statement using an f-string:\n",
    "\n",
    "```\n",
    "print(f\"bacteria: {bacteria_name}, genome size: {genome_size} bp\")\n",
    "```\n",
    "\n",
    "This is shorter, less tedious, easier to read and write, and solves the formatting issue related to the comma between the two fields.\n",
    "\n",
    "Note that you can put any Python code inside the curly braces, so this technique is very powerful. Once you get going with Python, you'll find all sort of wonderful ways to use f-strings.\n",
    "\n",
    "There is also a neat trick that can help with large numbers! Adding a `:,` after a number means `automatically insert thousands separators`:\n",
    "\n",
    "```\n",
    "print(f\"bacteria: {bacteria_name}, genome size: {genome_size:,} bp\")\n",
    "```\n"
   ]
  },
  {
   "cell_type": "code",
   "execution_count": null,
   "metadata": {
    "id": "kvRg8zPWED-_"
   },
   "outputs": [],
   "source": [
    "bacteria_name = \"E. coli\"\n",
    "genome_size = 4500000\n",
    "print(f\"bacteria: {bacteria_name}, genome size: {genome_size:,} bp\")"
   ]
  },
  {
   "cell_type": "markdown",
   "metadata": {
    "id": "7B_-CpRRW4Zd",
    "lines_to_next_cell": 2
   },
   "source": [
    "# Lesson 3 Lists\n",
    "\n",
    "**Lists and Dictionaries**\n"
   ]
  },
  {
   "cell_type": "markdown",
   "metadata": {
    "id": "elexmuppeTrt"
   },
   "source": [
    "# Lists"
   ]
  },
  {
   "cell_type": "markdown",
   "metadata": {
    "id": "DYtSrDYpYhYp"
   },
   "source": [
    "* A list is a list of things, like a shopping list.\n",
    "* Lists are ordered sequences.\n",
    "* All the sequence operations you learned about with strings, like `len`, indexing, slicing, looping, `in`, etc. apply to lists as well.\n",
    "\n",
    "Lists are defined inside square brackets, with list elements separated by commas, for example...\n",
    "```\n",
    "['a', 'b', 'c', 1, 2, 3]\n",
    "```\n",
    "\n",
    "Note that you can have both strings and numbers inside lists.\n",
    "\n",
    "[List documentation](https://docs.python.org/3/library/stdtypes.html#list)"
   ]
  },
  {
   "cell_type": "markdown",
   "metadata": {
    "id": "1jwHZXqfpaAX"
   },
   "source": [
    "## Creating Lists"
   ]
  },
  {
   "cell_type": "code",
   "execution_count": null,
   "metadata": {
    "id": "A91BmSFkpT4f",
    "outputId": "86b16c64-509b-4afd-9957-3a96c5cdc528"
   },
   "outputs": [],
   "source": [
    "# Create an empty list (lists use square brackets)\n",
    "li = []\n",
    "print(f\"empty list: {li}\")"
   ]
  },
  {
   "cell_type": "code",
   "execution_count": null,
   "metadata": {
    "id": "zR1rdQJtauzK",
    "outputId": "69ea6a82-dcd1-4136-8f7c-5d7507b74a61"
   },
   "outputs": [],
   "source": [
    "# Create and initialize a list with some data\n",
    "li = ['Bacteria', 4500000, 3.14, True]\n",
    "print(f\"non-empty list: {li}\")"
   ]
  },
  {
   "cell_type": "code",
   "execution_count": null,
   "metadata": {
    "id": "UYf57Saqa8m8",
    "lines_to_next_cell": 0,
    "outputId": "0d64a476-2fc1-459d-91f3-be88e19c8d83"
   },
   "outputs": [],
   "source": [
    "# the same value can occur multiple times in a list\n",
    "li = ['a', 'a', 'a']\n",
    "print(li)"
   ]
  },
  {
   "cell_type": "markdown",
   "metadata": {},
   "source": [
    "# Sets\n",
    "\n",
    "Sets are like lists except for two key things:\n",
    "* Sets are not ordered! The order that you get things back is not necessarily the same as the order that you put them in.\n",
    "* Everything in a set is unique."
   ]
  },
  {
   "cell_type": "code",
   "execution_count": null,
   "metadata": {
    "id": "XjDSB3GNZ4Cb"
   },
   "outputs": [],
   "source": [
    "example_set = set()\n",
    "print(f\"empty set: {example_set}\")\n",
    "example_set.add('a')\n",
    "example_set.add('a')\n",
    "example_set.add('a')\n",
    "print(f\"non-empty set: {example_set}\")"
   ]
  },
  {
   "cell_type": "markdown",
   "metadata": {
    "id": "XjDSB3GNZ4Cb"
   },
   "source": [
    "## List Operations\n",
    "\n",
    "You can change and edit lists, and add things to them. (We call this mutable, but don't worry about that)."
   ]
  },
  {
   "cell_type": "code",
   "execution_count": 3,
   "metadata": {
    "id": "2Vh3dCTCbXIU",
    "outputId": "65eeb8e8-6e81-455b-cbf5-d4ffe2db5d6b"
   },
   "outputs": [
    {
     "name": "stdout",
     "output_type": "stream",
     "text": [
      "3\n"
     ]
    }
   ],
   "source": [
    "# The len() function gives us the size of a list.\n",
    "li = [\"Chr1\", \"Chr2\", \"Chr3\"]\n",
    "# get the size of a list\n",
    "list_size = len(li)\n",
    "print(list_size)"
   ]
  },
  {
   "cell_type": "code",
   "execution_count": 4,
   "metadata": {
    "id": "HqMd0VH2bZBj",
    "outputId": "9107cac6-653b-48fc-bdde-923c7ceb557a"
   },
   "outputs": [
    {
     "name": "stdout",
     "output_type": "stream",
     "text": [
      "Chr1\n",
      "Chr2\n",
      "Chr3\n",
      "Chr4\n",
      "Chr5\n",
      "Chr6\n",
      "Chr7\n",
      "Chr8\n",
      "Chr9\n",
      "Chr10\n",
      "Chr11\n",
      "Chr12\n",
      "Chr13\n",
      "Chr14\n",
      "Chr15\n",
      "Chr16\n",
      "Chr17\n",
      "Chr18\n",
      "Chr19\n",
      "Chr20\n",
      "Chr21\n",
      "Chr22\n",
      "Chr23\n"
     ]
    }
   ],
   "source": [
    "li = [\"Chr1\", \"Chr2\", \"Chr3\", \"Chr4\", \"Chr5\", \"Chr6\", \"Chr7\", \"Chr8\", \"Chr9\", \"Chr10\", \"Chr11\", \"Chr12\", \"Chr13\", \"Chr14\", \"Chr15\", \"Chr16\", \"Chr17\", \"Chr18\", \"Chr19\", \"Chr20\", \"Chr21\", \"Chr22\", \"Chr23\"]\n",
    "# iterate (loop) over the elements in a list\n",
    "for i in range(len(li)):\n",
    "  print(li[i])"
   ]
  },
  {
   "cell_type": "code",
   "execution_count": 5,
   "metadata": {
    "id": "-bBSPvCKqHPq",
    "outputId": "3d847540-0100-4743-9e7a-f6c390efe5da"
   },
   "outputs": [
    {
     "name": "stdout",
     "output_type": "stream",
     "text": [
      "Chr1\n",
      "Chr2\n",
      "Chr3\n",
      "Chr4\n",
      "Chr5\n",
      "Chr6\n",
      "Chr7\n",
      "Chr8\n",
      "Chr9\n",
      "Chr10\n",
      "Chr11\n",
      "Chr12\n",
      "Chr13\n",
      "Chr14\n",
      "Chr15\n",
      "Chr16\n",
      "Chr17\n",
      "Chr18\n",
      "Chr19\n",
      "Chr20\n",
      "Chr21\n",
      "Chr22\n",
      "Chr23\n"
     ]
    }
   ],
   "source": [
    "# A better way to iterate over the elements in a list\n",
    "li = [\"Chr1\", \"Chr2\", \"Chr3\", \"Chr4\", \"Chr5\", \"Chr6\", \"Chr7\", \"Chr8\", \"Chr9\", \"Chr10\", \"Chr11\", \"Chr12\", \"Chr13\", \"Chr14\", \"Chr15\", \"Chr16\", \"Chr17\", \"Chr18\", \"Chr19\", \"Chr20\", \"Chr21\", \"Chr22\", \"Chr23\"]\n",
    "for i in li:\n",
    "  print(i)"
   ]
  },
  {
   "cell_type": "code",
   "execution_count": 6,
   "metadata": {
    "id": "bW0wb9G2bcqF",
    "outputId": "9d19da14-61e7-485f-f773-2dba05464a33"
   },
   "outputs": [
    {
     "name": "stdout",
     "output_type": "stream",
     "text": [
      "ChrX is not in the list\n"
     ]
    }
   ],
   "source": [
    "li = [\"Chr1\", \"Chr2\", \"Chr3\", \"Chr4\", \"Chr5\", \"Chr6\", \"Chr7\", \"Chr8\", \"Chr9\", \"Chr10\", \"Chr11\", \"Chr12\", \"Chr13\", \"Chr14\", \"Chr15\", \"Chr16\", \"Chr17\", \"Chr18\", \"Chr19\", \"Chr20\", \"Chr21\", \"Chr22\", \"Chr23\"]\n",
    "# test membership in a list\n",
    "\n",
    "x = \"ChrX\"\n",
    "if not x in li:\n",
    " print(f\"{x} is not in the list\")\n",
    "else:\n",
    " print(f\"{x} is in the list\")"
   ]
  },
  {
   "cell_type": "code",
   "execution_count": 7,
   "metadata": {
    "id": "U86i_Z0ZcDj8",
    "outputId": "9aa7a315-9bfc-4163-ca0d-b9e58c349769"
   },
   "outputs": [
    {
     "name": "stdout",
     "output_type": "stream",
     "text": [
      "Chr3\n"
     ]
    }
   ],
   "source": [
    "# indexing (list indexes start with zero!)\n",
    "li = [\"Chr1\", \"Chr2\", \"Chr3\", \"Chr4\", \"Chr5\", \"Chr6\", \"Chr7\", \"Chr8\", \"Chr9\", \"Chr10\", \"Chr11\", \"Chr12\", \"Chr13\", \"Chr14\", \"Chr15\", \"Chr16\", \"Chr17\", \"Chr18\", \"Chr19\", \"Chr20\", \"Chr21\", \"Chr22\", \"Chr23\"]\n",
    "print(li[2])"
   ]
  },
  {
   "cell_type": "code",
   "execution_count": 8,
   "metadata": {
    "id": "p1b6JeS5cFiC",
    "outputId": "050c1b5f-4a49-4a34-b580-1b7078089576"
   },
   "outputs": [
    {
     "ename": "IndexError",
     "evalue": "list index out of range",
     "output_type": "error",
     "traceback": [
      "\u001b[1;31m---------------------------------------------------------------------------\u001b[0m",
      "\u001b[1;31mIndexError\u001b[0m                                Traceback (most recent call last)",
      "Cell \u001b[1;32mIn[8], line 3\u001b[0m\n\u001b[0;32m      1\u001b[0m \u001b[38;5;66;03m# indexing out of bounds raises a runtime error\u001b[39;00m\n\u001b[0;32m      2\u001b[0m li \u001b[38;5;241m=\u001b[39m [\u001b[38;5;124m\"\u001b[39m\u001b[38;5;124mChr1\u001b[39m\u001b[38;5;124m\"\u001b[39m, \u001b[38;5;124m\"\u001b[39m\u001b[38;5;124mChr2\u001b[39m\u001b[38;5;124m\"\u001b[39m, \u001b[38;5;124m\"\u001b[39m\u001b[38;5;124mChr3\u001b[39m\u001b[38;5;124m\"\u001b[39m, \u001b[38;5;124m\"\u001b[39m\u001b[38;5;124mChr4\u001b[39m\u001b[38;5;124m\"\u001b[39m, \u001b[38;5;124m\"\u001b[39m\u001b[38;5;124mChr5\u001b[39m\u001b[38;5;124m\"\u001b[39m, \u001b[38;5;124m\"\u001b[39m\u001b[38;5;124mChr6\u001b[39m\u001b[38;5;124m\"\u001b[39m, \u001b[38;5;124m\"\u001b[39m\u001b[38;5;124mChr7\u001b[39m\u001b[38;5;124m\"\u001b[39m, \u001b[38;5;124m\"\u001b[39m\u001b[38;5;124mChr8\u001b[39m\u001b[38;5;124m\"\u001b[39m, \u001b[38;5;124m\"\u001b[39m\u001b[38;5;124mChr9\u001b[39m\u001b[38;5;124m\"\u001b[39m, \u001b[38;5;124m\"\u001b[39m\u001b[38;5;124mChr10\u001b[39m\u001b[38;5;124m\"\u001b[39m, \u001b[38;5;124m\"\u001b[39m\u001b[38;5;124mChr11\u001b[39m\u001b[38;5;124m\"\u001b[39m, \u001b[38;5;124m\"\u001b[39m\u001b[38;5;124mChr12\u001b[39m\u001b[38;5;124m\"\u001b[39m, \u001b[38;5;124m\"\u001b[39m\u001b[38;5;124mChr13\u001b[39m\u001b[38;5;124m\"\u001b[39m, \u001b[38;5;124m\"\u001b[39m\u001b[38;5;124mChr14\u001b[39m\u001b[38;5;124m\"\u001b[39m, \u001b[38;5;124m\"\u001b[39m\u001b[38;5;124mChr15\u001b[39m\u001b[38;5;124m\"\u001b[39m, \u001b[38;5;124m\"\u001b[39m\u001b[38;5;124mChr16\u001b[39m\u001b[38;5;124m\"\u001b[39m, \u001b[38;5;124m\"\u001b[39m\u001b[38;5;124mChr17\u001b[39m\u001b[38;5;124m\"\u001b[39m, \u001b[38;5;124m\"\u001b[39m\u001b[38;5;124mChr18\u001b[39m\u001b[38;5;124m\"\u001b[39m, \u001b[38;5;124m\"\u001b[39m\u001b[38;5;124mChr19\u001b[39m\u001b[38;5;124m\"\u001b[39m, \u001b[38;5;124m\"\u001b[39m\u001b[38;5;124mChr20\u001b[39m\u001b[38;5;124m\"\u001b[39m, \u001b[38;5;124m\"\u001b[39m\u001b[38;5;124mChr21\u001b[39m\u001b[38;5;124m\"\u001b[39m, \u001b[38;5;124m\"\u001b[39m\u001b[38;5;124mChr22\u001b[39m\u001b[38;5;124m\"\u001b[39m, \u001b[38;5;124m\"\u001b[39m\u001b[38;5;124mChr23\u001b[39m\u001b[38;5;124m\"\u001b[39m]\n\u001b[1;32m----> 3\u001b[0m \u001b[38;5;28mprint\u001b[39m(\u001b[43mli\u001b[49m\u001b[43m[\u001b[49m\u001b[38;5;241;43m99\u001b[39;49m\u001b[43m]\u001b[49m)\n",
      "\u001b[1;31mIndexError\u001b[0m: list index out of range"
     ]
    }
   ],
   "source": [
    "# indexing out of bounds raises a runtime error\n",
    "li = [\"Chr1\", \"Chr2\", \"Chr3\", \"Chr4\", \"Chr5\", \"Chr6\", \"Chr7\", \"Chr8\", \"Chr9\", \"Chr10\", \"Chr11\", \"Chr12\", \"Chr13\", \"Chr14\", \"Chr15\", \"Chr16\", \"Chr17\", \"Chr18\", \"Chr19\", \"Chr20\", \"Chr21\", \"Chr22\", \"Chr23\"]\n",
    "print(li[99])\n"
   ]
  },
  {
   "cell_type": "code",
   "execution_count": 9,
   "metadata": {
    "id": "gQMJCFZ7cHaB",
    "outputId": "b7844721-6ada-4e2e-d6c8-38bb7a34b43c"
   },
   "outputs": [
    {
     "name": "stdout",
     "output_type": "stream",
     "text": [
      "['Chr2', 'Chr3']\n"
     ]
    }
   ],
   "source": [
    "li = [\"Chr1\", \"Chr2\", \"Chr3\", \"Chr4\", \"Chr5\", \"Chr6\", \"Chr7\", \"Chr8\", \"Chr9\", \"Chr10\", \"Chr11\", \"Chr12\", \"Chr13\", \"Chr14\", \"Chr15\", \"Chr16\", \"Chr17\", \"Chr18\", \"Chr19\", \"Chr20\", \"Chr21\", \"Chr22\", \"Chr23\"]\n",
    "# slicing\n",
    "print(li[1:3])"
   ]
  },
  {
   "cell_type": "code",
   "execution_count": 10,
   "metadata": {
    "id": "Wukzw25lcIqk",
    "outputId": "7f1eaab7-8395-4b0b-91c7-f816e7f4516a"
   },
   "outputs": [
    {
     "name": "stdout",
     "output_type": "stream",
     "text": [
      "['Chr1', 'Chr2', 'Chr3', 'Chr4', 'Chr5', 'Chr6', 'Chr7', 'Chr8', 'Chr9']\n"
     ]
    }
   ],
   "source": [
    "# concatenating lists\n",
    "li1 = [\"Chr1\", \"Chr2\", \"Chr3\"]\n",
    "li2 = [\"Chr4\", \"Chr5\", \"Chr6\"]\n",
    "li3 = [\"Chr7\", \"Chr8\", \"Chr9\"]\n",
    "li4 = li1 + li2 + li3\n",
    "print(li4)"
   ]
  },
  {
   "cell_type": "code",
   "execution_count": 11,
   "metadata": {
    "id": "uLBYBQ0Qhp_A",
    "outputId": "806b63bb-ada9-4ee3-82f7-b8a75acd5ba6"
   },
   "outputs": [
    {
     "name": "stdout",
     "output_type": "stream",
     "text": [
      "['Chr1', 'Chr2', 'Chr3', 'Chr4']\n",
      "['Chr1', 'Chr2', 'Chr3', 'Chr4', 'ChrX']\n"
     ]
    }
   ],
   "source": [
    "# add an element\n",
    "li = [\"Chr1\", \"Chr2\", \"Chr3\", \"Chr4\"]\n",
    "print(li)\n",
    "li.append(\"ChrX\")\n",
    "print(li)"
   ]
  },
  {
   "cell_type": "code",
   "execution_count": 12,
   "metadata": {
    "id": "9G03HO1KiVVW",
    "outputId": "79127450-5183-4ebc-b77a-e4fff4243883"
   },
   "outputs": [
    {
     "name": "stdout",
     "output_type": "stream",
     "text": [
      "['Chr1', 'Chr2', 'Chr3', 'Chr4', 'ChrX']\n",
      "['Chr1', 'Chr2', 'Chr3', 'Chr4', 'ChrY']\n"
     ]
    }
   ],
   "source": [
    "print(li)\n",
    "# replace an element by index\n",
    "li[4] = 'ChrY' # overwrites value at index 4\n",
    "print(li)"
   ]
  },
  {
   "cell_type": "code",
   "execution_count": 13,
   "metadata": {
    "id": "C5DPhJDBir9u",
    "outputId": "a54d554d-6769-456c-c4ca-cce1bdc6cfe4"
   },
   "outputs": [
    {
     "name": "stdout",
     "output_type": "stream",
     "text": [
      "4\n"
     ]
    }
   ],
   "source": [
    "li = [\"Chr1\", \"Chr2\", \"Chr3\", \"Chr4\", \"Chr1\", \"Chr2\", \"Chr3\", \"Chr1\", \"Chr2\", \"Chr1\"]\n",
    "# get the number of occurrences of a particular value\n",
    "count = li.count(\"Chr1\")\n",
    "print(count)"
   ]
  },
  {
   "cell_type": "code",
   "execution_count": 14,
   "metadata": {
    "id": "5wOspz47itht",
    "outputId": "a906268c-0d91-4d67-be82-fe3533df6557"
   },
   "outputs": [
    {
     "name": "stdout",
     "output_type": "stream",
     "text": [
      "0\n"
     ]
    }
   ],
   "source": [
    "li = [\"Chr1\", \"Chr2\", \"Chr3\", \"Chr4\", \"Chr1\", \"Chr2\", \"Chr3\", \"Chr1\", \"Chr2\", \"Chr1\"]\n",
    "# get the (first) index of a particular value\n",
    "index = li.index(\"Chr1\")\n",
    "print(index)"
   ]
  },
  {
   "cell_type": "code",
   "execution_count": 15,
   "metadata": {
    "id": "3KWj-wv4ivDG",
    "outputId": "1b91ab3c-a43d-4cdb-8e3c-63cbddcc347c"
   },
   "outputs": [
    {
     "name": "stdout",
     "output_type": "stream",
     "text": [
      "['Chr4', 'Chr3', 'Chr2', 'Chr1']\n",
      "['Chr1', 'Chr2', 'Chr3', 'Chr4']\n"
     ]
    }
   ],
   "source": [
    "li = [\"Chr1\", \"Chr2\", \"Chr3\", \"Chr4\"]\n",
    "# reverse a list\n",
    "li.reverse()\n",
    "print(li)\n",
    "li.reverse()\n",
    "print(li)"
   ]
  },
  {
   "cell_type": "markdown",
   "metadata": {
    "id": "KSivzV8cjnpv"
   },
   "source": [
    "## Nested Lists"
   ]
  },
  {
   "cell_type": "markdown",
   "metadata": {
    "id": "dlT7PoPcdPHK"
   },
   "source": [
    "We can have lists of lists, and lists of lists of lists.\n",
    "\n",
    "- list of lists: ```[[1, 2], [3, 4]]```\n",
    "\n",
    "\n",
    "Later we will look at spreadsheets that are two-dimensional, and you can imagine them being held as lists of lists. The first list is each row of the spreadsheet, and the second list is each column, so that a cell has a unique value per list.\n",
    "\n",
    "If you want to explore nested lists in more detail, have a look at [Marc's Python lesson 5](mco.fyi/py5), which covers these concepts in more detail.\n"
   ]
  },
  {
   "cell_type": "markdown",
   "metadata": {
    "id": "Qutim0GBealC"
   },
   "source": [
    "# Lession 4 - Dictionaries"
   ]
  },
  {
   "cell_type": "markdown",
   "metadata": {
    "id": "a815xmQ8f9Hz"
   },
   "source": [
    "A dictionary is an organized collection of key/value pairs.\n",
    "The data is organized for quick access via the key, somewhat like a real dictionary, where words are the keys and their definitions are the associated values.\n",
    "\n",
    "Dictionaries are defined using curly braces with key:value pairs separated by commas, like this:\n",
    "```\n",
    "websites = {\n",
    "  'google': 'https://google.com',\n",
    "  'youtube': 'https://youtube.com',\n",
    "  'FAME': 'https://fame.flinders.edu.au'\n",
    "}\n",
    "```\n",
    "\n",
    "This data type is known by various names in other languages:\n",
    "- map (C++)\n",
    "- hash (Java)\n",
    "- associative array (generic term)\n",
    "\n",
    "This object type is extremely powerful for representing indexed data. The keys in a dictionary are arranged to facilitate fast lookup by key value.\n",
    "- They are optimized for direct, not sequential, access\n",
    "- There is no implied order of keys or values\n",
    "- You can't index a dictionary by position\n",
    "- But you can index dictionaries very quickly by key value, as we’ll see\n",
    "- You can't take slices of a dictionary\n",
    "- Dictionaries, like lists, can grow, shrink, or change over time\n",
    "\n",
    "- Dictionary keys must be something that can't change (e.g., string, number, tuple) because changing keys on the fly would confuse the dictionary.\n",
    "- Dictionary values can have any type\n",
    "\n",
    "[Dictionary documentation](https://docs.python.org/3/library/stdtypes.html#mapping-types-dict)\n",
    "\n",
    "[Rob's introduction to dictionaries](https://youtu.be/uW8-HkmNq4Q?si=zhzlUxGut6ARE26K) (but because it's Java they are called hashes).\n"
   ]
  },
  {
   "cell_type": "markdown",
   "metadata": {
    "id": "lidzOmOdgZ1j"
   },
   "source": [
    "## Dictionary Operations\n"
   ]
  },
  {
   "cell_type": "code",
   "execution_count": null,
   "metadata": {
    "id": "I7K5Shw6funP",
    "outputId": "4bb2ea0b-6879-4bd7-c637-75363aa61429"
   },
   "outputs": [],
   "source": [
    "# Create an empty dictionary (use curly braces instead of parens or square brackets)\n",
    "genetic_code = {}\n",
    "print(genetic_code)"
   ]
  },
  {
   "cell_type": "code",
   "execution_count": null,
   "metadata": {
    "id": "2NIXBuQXf5Zi",
    "outputId": "669f4b64-cc74-45af-f207-733dcd962b00"
   },
   "outputs": [],
   "source": [
    "# Create and initialize a dictionary\n",
    "genetic_code = { 'UUU' : 'Phe', 'UUA': 'Leu' }\n",
    "print(genetic_code)"
   ]
  },
  {
   "cell_type": "code",
   "execution_count": null,
   "metadata": {
    "id": "mGtQ2thnf9xX",
    "outputId": "20932ad3-8a29-4c42-b06f-5dc53e84b961"
   },
   "outputs": [],
   "source": [
    "# If the same key occurs multiple times, python only keeps the last value\n",
    "x = { 'UUU' : 'Leu', 'UUU' : 'Phe' }\n",
    "print(x)\n"
   ]
  },
  {
   "cell_type": "code",
   "execution_count": null,
   "metadata": {
    "id": "fq2dZdklSjIY",
    "outputId": "2be11049-9b52-4d24-b9a5-f98ad5d4118b"
   },
   "outputs": [],
   "source": [
    "# but the same value may appear any number of times.\n",
    "x = { 'CGA' : 'Arg', 'CGC' : 'Arg', 'CGG' : 'Arg', 'CGU' : 'Arg' }\n",
    "print(x)"
   ]
  },
  {
   "cell_type": "code",
   "execution_count": null,
   "metadata": {
    "id": "tB32mA1mgG8d",
    "outputId": "1d3c01e8-e21b-4d8e-ee25-28df56b3c5e4"
   },
   "outputs": [],
   "source": [
    "# Get the size of a dictionary (returns number of key/value pairs)\n",
    "genetic_code = { 'UUU' : 'Phe', 'UUA': 'Leu', 'CGA' : 'Arg', 'CGC' : 'Arg', 'CGG' : 'Arg', 'CGU' : 'Arg' }\n",
    "print(len(genetic_code))"
   ]
  },
  {
   "cell_type": "code",
   "execution_count": null,
   "metadata": {
    "id": "f-xpYZw6gKAg",
    "outputId": "41a628f3-b00f-4e91-e8b2-6725f8b4a389"
   },
   "outputs": [],
   "source": [
    "# Retrieve the value associated with a given key\n",
    "genetic_code = { 'UUU' : 'Phe', 'UUA': 'Leu', 'CGA' : 'Arg', 'CGC' : 'Arg', 'CGG' : 'Arg', 'CGU' : 'Arg' }\n",
    "codon = 'UUU'\n",
    "amino_acid = genetic_code[codon]\n",
    "print(f\"The translation of {codon} is {amino_acid}\")"
   ]
  },
  {
   "cell_type": "code",
   "execution_count": null,
   "metadata": {
    "id": "WuBLq6qagPY6",
    "outputId": "911118b2-4fc1-4dc6-a32a-e2885bc97f3c"
   },
   "outputs": [],
   "source": [
    "# The value inside the square brackets may be a literal, a variable or any\n",
    "# arbitrary expression. Similar syntax to list indexing but key based,\n",
    "# not positional.\n",
    "# Attempting to retrieve a non-existent key causes an error\n",
    "genetic_code = { 'UUU' : 'Phe', 'UUA': 'Leu', 'CGA' : 'Arg', 'CGC' : 'Arg', 'CGG' : 'Arg', 'CGU' : 'Arg' }\n",
    "codon = 'AAA'\n",
    "genetic_code[codon]"
   ]
  },
  {
   "cell_type": "code",
   "execution_count": null,
   "metadata": {
    "id": "L84ooapvgjWL",
    "outputId": "3265aa8b-249d-4ce6-b0c7-afa888a4688c"
   },
   "outputs": [],
   "source": [
    "# play it safe by testing for key existence before access\n",
    "genetic_code = { 'UUU' : 'Phe', 'UUA': 'Leu', 'CGA' : 'Arg', 'CGC' : 'Arg', 'CGG' : 'Arg', 'CGU' : 'Arg' }\n",
    "codon = 'AAA'\n",
    "if codon in genetic_code:\n",
    "    amino_acid = genetic_code[codon]\n",
    "    print(f\"The translation of {codon} is {amino_acid}\")\n",
    "else:\n",
    "    print(f\"We didn't find a translation for {codon}\")\n",
    "\n",
    "codon = 'UUU'\n",
    "if codon in genetic_code:\n",
    "    amino_acid = genetic_code[codon]\n",
    "    print(f\"The translation of {codon} is {amino_acid}\")\n",
    "else:\n",
    "    print(f\"We didn't find a translation for {codon}\")\n",
    "    \n",
    "# When used with dictionaries, the in operator only checks the existence\n",
    "# of keys, not values. You can also use “not in” to test for non-existence\n",
    "# of a key."
   ]
  },
  {
   "cell_type": "code",
   "execution_count": null,
   "metadata": {
    "id": "4DdUyr4-hAO6",
    "lines_to_next_cell": 2,
    "outputId": "fb38e40f-992d-4b8a-f27d-bfcffe647cbc"
   },
   "outputs": [],
   "source": [
    "genetic_code = { 'UUU' : 'Phe', 'UUA': 'Leu', 'CGA' : 'Arg', 'CGC' : 'Arg', 'CGG' : 'Arg', 'CGU' : 'Arg' }\n",
    "# loop through a dictionary (this iterates over the dictionary keys)\n",
    "for codon in genetic_code:\n",
    "    amino_acid = genetic_code[codon]\n",
    "    print(f\"The translation of {codon} is {amino_acid}\")"
   ]
  },
  {
   "cell_type": "markdown",
   "metadata": {
    "id": "4Luh_ie4gvHg"
   },
   "source": [
    "## Nested Dictionaries\n",
    "Just like we can have nested if statements, nested loops, and nested lists, we can also have nested dictionaries.\n",
    "- dictionary of lists:  ```{'key1': [1,2], 'key2': [3,4]}```\n",
    "- dictionary of dictionaries:\n",
    "```\n",
    "{\n",
    "    'key1' : {\n",
    "      'key1' : [1, 2],\n",
    "      'key2' : [3, 4]\n",
    "    }\n",
    "    'key2' : {\n",
    "      'key1' : [1, 2],\n",
    "      'key2' : [3, 4]  \n",
    "    }\n",
    "}\n",
    "```\n",
    "This can get arbitrarily complex (dictionaries of lists of dictionaries of...).\n",
    "\n",
    "If you want to explore nested dictionaries in more detail, have a look at [Marc's Python lesson 5](mco.fyi/py5), which covers these concepts in depth.\n",
    "\n"
   ]
  },
  {
   "cell_type": "markdown",
   "metadata": {
    "id": "YRZI1Ve7zUJw",
    "lines_to_next_cell": 0
   },
   "source": [
    "## Rule of thumb for truth value of lists, and dictionaries\n",
    "\n",
    "All of these objects may be used as boolean values. The rules for converting a list, or map into a boolean value are as follows:\n",
    "- if the object is empty, it evaluates to False\n",
    "- if the object is non-empty, it evaluates to True"
   ]
  },
  {
   "cell_type": "markdown",
   "metadata": {
    "id": "7B_-CpRRW4Zd",
    "lines_to_next_cell": 2
   },
   "source": [
    "# Lesson 5 - Conditionals\n"
   ]
  },
  {
   "cell_type": "markdown",
   "metadata": {
    "id": "KiBaxNk9bAVl"
   },
   "source": [
    "# Controlling Program Flow\n",
    "\n",
    "Question:\n",
    "\n",
    "Does an stretch of DNA 2329 bp long encode a gene? \n",
    "\n",
    "* Up to now, we've looked at very simple programs, involving a sequence of statements (A, then B, then C…)\n",
    "* But what you really want to do is probably a lot more complex than adding numbers or simple statements.\n",
    "\n",
    "For our question, we are going to assume that we are talking about simple phage and bacterial genes that don't have introns (after all, you have more phage and bacterial genes than human genes).\n",
    "\n",
    "Genes start with the codon `ATG` and end with one of the codons `TAA`, `TGA`, or `TAG`, and the codons need to be in-frame. \n",
    "\n",
    "<details>\n",
    "<summary>More assumptions!</summary>\n",
    "Of course, we are assuming that this is a phage or bacterial gene that doesn't have an intron, and that it doesn't start with `GTG` or `TTG`, and that the bacteria doesn't contain suppressor mutations that allow them to substitute amino acids in for the standard stop codons. In real life, we need to consider all those cases, but for now, we'll keep it simple!\n",
    "</details>\n"
   ]
  },
  {
   "cell_type": "markdown",
   "metadata": {
    "id": "Qoz-W_TIz3QS"
   },
   "source": [
    "# `if` Statements"
   ]
  },
  {
   "cell_type": "markdown",
   "metadata": {
    "id": "aTcPnZnF7S9-"
   },
   "source": [
    "* The `if` statement is how we express conditional logic in Python.\n",
    "* Virtually every programming language has this concept.\n",
    "* If statements define a condition and a sequence of statements to execute if the condition is `True`.\n",
    "\n",
    "Prototype...\n",
    "\n",
    "```\n",
    "if some_expression:    \n",
    "  do_this()\n",
    "  do_that()\n",
    "```\n",
    "\n",
    "If the condition is true, the indented statements are executed.\n",
    "Otherwise, the indented statements are skipped and program execution continues after the `if` statement.\n"
   ]
  },
  {
   "cell_type": "code",
   "execution_count": null,
   "metadata": {
    "id": "NzctV1Z6C3lk",
    "outputId": "e0f256a7-f217-4c50-c54c-7c6c09b107bd"
   },
   "outputs": [],
   "source": [
    "bases = \"AAAAATGCCCCC\"\n",
    "start = \"ATG\"\n",
    "if start in bases:\n",
    "    print(f\"The sequence {bases} has a start in it!\")\n",
    "else:\n",
    "    print(f\"Sorry, no start in {bases}\")"
   ]
  },
  {
   "cell_type": "markdown",
   "metadata": {
    "id": "s6BuZoxH7UcD"
   },
   "source": [
    "## Challenge\n",
    "\n",
    "In Python, we use indentation to associate a block of statements with a condition, for example...\n",
    "\n",
    "```\n",
    "print(\"1\")\n",
    "if some_condition:    \n",
    "  print(\"2\")    \n",
    "  print(\"3\")\n",
    "print(\"4\") # this line is NOT part of the if block\n",
    "```\n",
    "\n",
    "What does the output look like...\n",
    "* when the `some_condition` is True?\n",
    "* when the `some_condition` is False?"
   ]
  },
  {
   "cell_type": "markdown",
   "metadata": {
    "id": "iIM5dHM87YwW"
   },
   "source": [
    "Here’s a slightly different example...\n",
    "```\n",
    "print(\"1\")\n",
    "if some_condition:    \n",
    "  print(\"2\")    \n",
    "print(\"3\")  # this line is NOT part of if block\n",
    "print(\"4\")  # this line is NOT part of if block\n",
    "```\n",
    "What’s different?\n",
    "What does the output look like...\n",
    "* when the `some_condition` is True?\n",
    "* when the `some_condition` is False?\n"
   ]
  },
  {
   "cell_type": "markdown",
   "metadata": {
    "id": "BZrYYUiR8akX"
   },
   "source": [
    "## `if` Block Structure\n",
    "\n",
    "* In Python, `if` statements blocks are defined by indentation.\n",
    "* This idea of using indentation to delineate program structure is pervasive in Python and unique across programming languages.\n",
    "* For now, we're focusing on if statements but later we'll see how indentation is used to define other kinds of statement blocks."
   ]
  },
  {
   "cell_type": "markdown",
   "metadata": {
    "id": "EY_CXBBE8iL0"
   },
   "source": [
    "### Block Stucture in Other Languages\n",
    "\n",
    "In other languages, explicit delineators are used. For example, in Java, C and C++ we would write:\n",
    "\n",
    "```\n",
    "if (bases contains \"ATG\") {\n",
    "    has_start = true;\n",
    "}\n",
    "```\n",
    "\n",
    "whereas, in Python we write:\n",
    "\n",
    "```\n",
    "if \"ATG\" in bases:\n",
    "    has_start = True\n",
    "```\n",
    "Indentation in Java/C/C++ is a helpful practice for program readability but it does not affect program functionality.\n",
    "In Python, indentation is not just a good idea - it's affects program logic!\n"
   ]
  },
  {
   "cell_type": "markdown",
   "metadata": {
    "id": "QeVednm88pEn",
    "lines_to_next_cell": 2
   },
   "source": [
    "## Python's use of whitespace\n",
    "\n",
    "* Many people have strong opinions about this aspect of Python.\n",
    "* Don’t get hung up on this feature. Try it and see what you think after you've written a few Python programs.\n",
    "* Pitfalls:\n",
    "  * watch out for mismatched indentation within a block\n",
    "  * avoid mixing tabs and spaces in your code\n",
    "  * I prefer spaces because it's more explicit, and most programs will automatically insert spaces even if you press Tab\n",
    "\n",
    "**Pick _either_ tabs _or_ spaces _but_ be consistent.**"
   ]
  },
  {
   "cell_type": "markdown",
   "metadata": {
    "id": "nqHUiij_02RO"
   },
   "source": [
    "## `else` Statements"
   ]
  },
  {
   "cell_type": "markdown",
   "metadata": {
    "id": "zkMiG5338ypF"
   },
   "source": [
    "Sometimes we want to specify an alternative to the `if` condition, which we do with an `else` statement, for example...\n",
    "\n",
    "```\n",
    "if <condition>:\n",
    "    <block1>\n",
    "else:\n",
    "    <block2>\n",
    "```\n",
    "\n",
    "* If the condition is true, block1 is executed.\n",
    "* if the condition is false, block2 is executed.\n",
    "\n",
    "The else cause is Python's way of saying \"otherwise...\"\n",
    "\n"
   ]
  },
  {
   "cell_type": "markdown",
   "metadata": {
    "id": "kVG18CiQ838a",
    "lines_to_next_cell": 2
   },
   "source": [
    "Just as `if` blocks are defined by indentation, `else` blocks are also defined by indentation.\n",
    "\n",
    "For example, this:\n",
    "\n",
    "```\n",
    "if <condition>:\n",
    "    <statement1>\n",
    "else:\n",
    "    <statement2>\n",
    "    <statement3>\n",
    "```\n",
    "is different from this:\n",
    "```\n",
    "if <condition>:\n",
    "    <statement1>\n",
    "else:\n",
    "    <statement2>\n",
    "<statement3>\n",
    "```\n"
   ]
  },
  {
   "cell_type": "markdown",
   "metadata": {
    "id": "-uwGPHQt0vrJ"
   },
   "source": [
    "## `elif` Statements"
   ]
  },
  {
   "cell_type": "markdown",
   "metadata": {
    "id": "Shf50kOm9GRl"
   },
   "source": [
    "Sometimes we need one or more intermediate conditions between the if and else parts, for example...\n",
    "\n",
    "`if A then do X, else if B then do Y, otherwise do Z`\n",
    "\n",
    "We use the `elif` statement to express this in Python...\n",
    "```\n",
    "if condition1:\n",
    "    do_thing_1()\n",
    "elif condition2:\n",
    "    do_thing_2()\n",
    "else:\n",
    "    do_thing_3()\n",
    "```\n",
    "* If `condition1` is true, `do_thing_1()` is executed.\n",
    "* Otherwise, if `condition2` is true, `do_thing_2()` is executed.\n",
    "* Otherwise, `do_thing_3()` is executed.\n"
   ]
  },
  {
   "cell_type": "markdown",
   "metadata": {
    "id": "L9colMWL9HZw"
   },
   "source": [
    "* `elif` blocks are defined the same way as `if` and `else` blocks - using indentation.\n",
    "\n",
    "* It's good to have an if/elif for every condition of interest and not lump errors together with cases of interest.\n",
    "\n",
    "For example, if you care about values 1 and 2 and everything else is considered an error, this code:\n",
    "\n",
    "```\n",
    "if \"ATG\" in bases:      # deal with 1 here\n",
    "  starts_with_atg()\n",
    "elif \"TTG\" in bases:    # deal with 2 here\n",
    "  starts_with_ttg()\n",
    "else:           # deal with errors here\n",
    "  no_start_codon()\n",
    "```\n",
    "is better than this:\n",
    "```\n",
    "if \"ATG\" in bases:      # deal with 1 here\n",
    "  starts_with_atg()\n",
    "else:    # x must be 2 then, right? not necessarily!\n",
    "  starts_with_ttg()\n",
    "```\n",
    "The latter code hides errors by combining a valid case with error cases.\n"
   ]
  },
  {
   "cell_type": "markdown",
   "metadata": {
    "id": "jJzPtT8z1Z6f"
   },
   "source": [
    "# For loops\n",
    "\n",
    "We have already actually used `for` loops when we were looking at dictionaries and lists, but just to reiterate ... if you want to iterate over a series of things, you can do so with a `for` loop. \n"
   ]
  },
  {
   "cell_type": "code",
   "execution_count": null,
   "metadata": {
    "lines_to_next_cell": 0
   },
   "outputs": [],
   "source": [
    "genetic_code = { 'UUU' : 'Phe', 'UUA': 'Leu', 'CGA' : 'Arg', 'CGC' : 'Arg', 'CGG' : 'Arg', 'CGU' : 'Arg' }\n",
    "# loop through a dictionary (this iterates over the dictionary keys)\n",
    "for codon in genetic_code:\n",
    "    amino_acid = genetic_code[codon]\n",
    "    print(f\"The translation of {codon} is {amino_acid}\")\n"
   ]
  },
  {
   "cell_type": "markdown",
   "metadata": {},
   "source": [
    "\n",
    "\n",
    "\n"
   ]
  },
  {
   "cell_type": "markdown",
   "metadata": {},
   "source": [
    "<details>\n",
    "<summary>Advanced for loops</summary>\n",
    "\n",
    "Python also has a built in iterator that you sometimes see people use. This allows you to apply something to a list, and is called a `list iterator`.\n",
    "\n",
    "```\n",
    "genetic_code = { 'UUU' : 'Phe', 'UUA': 'Leu', 'CGA' : 'Arg', 'CGC' : 'Arg', 'CGG' : 'Arg', 'CGU' : 'Arg' }\n",
    "amino_acids = [genetic_code[base] for base in genetic_code]\n",
    "print(f\"All the amino acids are {amino_acids}\")\n",
    "```\n",
    "</details>\n"
   ]
  },
  {
   "cell_type": "markdown",
   "metadata": {
    "id": "t0HB4x7zSarK"
   },
   "source": [
    "# Lesson 6 - Functions\n",
    "\n",
    "## Functions are flexible software building blocks\n",
    "\n",
    "* So far, we’ve been writing small programs.\n",
    "* Things get much more complicated when we write large programs, especially with multiple authors.\n",
    "* Ideally, we'd like to build software like snapping lego pieces together.\n",
    "* What would that buy us?\n",
    "  * abstraction\n",
    "  * reuse\n",
    "  * modularity\n",
    "  * maintainability\n"
   ]
  },
  {
   "cell_type": "markdown",
   "metadata": {
    "id": "Q1AThwoeWq-_"
   },
   "source": [
    "### Abstraction - You don't need to do everything\n",
    "\n",
    "* When building a house, you don't do everything yourself.\n",
    "  * You hire an architect, a carpenter, an electrician, a roofer, a plumber, a mason.\n",
    "  * You might hire a contractor to hire and manage all those people.\n",
    "* In our programs we delegate tasks to certain functions, like `print()`, so that we don't have to worry about all the details.\n",
    "  * It's a bit like hiring an electrician so that we don't have to worry about the details of electrical wiring in our house (or getting blown up!)\n"
   ]
  },
  {
   "cell_type": "markdown",
   "metadata": {
    "id": "kRSeTwXFW7DM"
   },
   "source": [
    "### Reuse - Don't Reinvent the Wheel\n",
    "\n",
    "* it's OK to reuse other people's work\n",
    "  * it's not stealing\n",
    "  * it makes you more efficient and more productive\n",
    "* Very few people build a house from scratch\n",
    "  * so don't try to build programs from scratch\n",
    "* Most of the software we produce is called `open source software` which means\n",
    "  * you can look at the source\n",
    "  * you can change the source\n",
    "  * you can do more complex things with it\n"
   ]
  },
  {
   "cell_type": "markdown",
   "metadata": {
    "id": "5tT_kiFjYIpb"
   },
   "source": [
    "#### Reuse Example\n",
    "You can count the number of bases in a DNA sequence the hard way:"
   ]
  },
  {
   "cell_type": "code",
   "execution_count": null,
   "metadata": {
    "id": "uubqVKszFLoK"
   },
   "outputs": [],
   "source": [
    "sequence = \"ATGCATAGCTAGCATCAGACTGATGCATCGACTGATCGACTGT\"\n",
    "bases = 0\n",
    "valid_bases = [\"A\", \"T\", \"G\", \"C\"]\n",
    "for i in sequence:\n",
    "    if i in valid_bases:\n",
    "        bases += 1\n",
    "\n",
    "print(f\"There are {bases} bases in {sequence}\")"
   ]
  },
  {
   "cell_type": "markdown",
   "metadata": {
    "id": "a804f1uCFemA"
   },
   "source": [
    "Or the easy way, by calling a method..."
   ]
  },
  {
   "cell_type": "code",
   "execution_count": null,
   "metadata": {
    "id": "aXu9iH9kFkXM"
   },
   "outputs": [],
   "source": [
    "sequence = \"ATGCATAGCTAGCATCAGACTGATGCATCGACTGATCGACTGT\"\n",
    "print(f\"There are {len(sequence)} bases in {sequence}\")"
   ]
  },
  {
   "cell_type": "markdown",
   "metadata": {
    "id": "ZjlWbakQFhz2"
   },
   "source": [
    "Which would you rather use? Which is more reliable?\n",
    "* The first approach is great for learning.\n",
    "* The second approach is great for getting real work done.\n"
   ]
  },
  {
   "cell_type": "markdown",
   "metadata": {
    "id": "PGbEhmEAYXxv"
   },
   "source": [
    "### Modularity - Divide and Conquer\n",
    "* So far, our programs have been monoliths - one  continous sequence of Python statements.\n",
    "* Real programs are often much bigger than the ones we've written.\n",
    "  * Google's software repository has billions of lines of source code ([Why Google Stores Billions of Lines of Code in a Single Repository](https://cacm.acm.org/magazines/2016/7/204032-why-google-stores-billions-of-lines-of-code-in-a-single-repository/fulltext))\n",
    "  * No one person can write a program that big.\n",
    "  * Large programs are built by teams.\n",
    "  * In order to build large, complex programs, we need the ability to divide program logic into manageable pieces.\n",
    "* We call this modularity - dividing software into pieces or modules.\n"
   ]
  },
  {
   "cell_type": "markdown",
   "metadata": {
    "id": "iBPnZBIdZCCq"
   },
   "source": [
    "### Maintainability - Keeping your code DRY (Don't Repeat Yourself)\n",
    "* Imagine that you need to do roughly the same thing in ten different places so you copy the code to those ten locations.\n",
    "  * What happens when you find a bug or want to improve that piece of code?\n",
    "  * You need to make the change ten times.\n",
    "  * Will you remember to do that?\n",
    "  * If you do remember, will you catch all ten locations?\n",
    "  * Copying code is a **bad thing** - it leads to bugs.\n"
   ]
  },
  {
   "cell_type": "markdown",
   "metadata": {
    "id": "XsXu3tyfZagC"
   },
   "source": [
    "### Functions solve all of these Problems\n",
    "\n",
    "* Functions give us the ability to:\n",
    "  * Hide low level details (abstraction)\n",
    "  * Share and reuse pieces of functionality (reuse)\n",
    "  * Split programs into manageable pieces (modularity)\n",
    "  * Write one copy of an algorithm and use it anywhere (maintainability)\n",
    "* We've already used several functions\n",
    "  * `print()`, `input()`, `int()`, `len()`, `range()`, etc.\n",
    "* Now let's see how to define our own functions.\n"
   ]
  },
  {
   "cell_type": "markdown",
   "metadata": {
    "id": "xjZpdnvMycJM"
   },
   "source": [
    "## Defining Functions\n",
    "\n",
    "* example:\n",
    "```\n",
    "def function_name(arg1, arg2):\n",
    "    '''This is a docstring.'''  # optional but a good idea\n",
    "    statement1\n",
    "    statement2\n",
    "    ...\n",
    "```\n",
    "* Not surprisingly, we define the scope of the function body using indentation (just like how we define blocks for if statements, for loops, etc.).\n",
    "* This is a bit like an assignment statement in that it assigns a block of code (the function body) to the function name.\n",
    "  * Function names have the same rules as variable names.\n",
    "  * This only defines a function - it doesn't execute it.\n"
   ]
  },
  {
   "cell_type": "code",
   "execution_count": null,
   "metadata": {
    "id": "5Hlbe-sYaJp8"
   },
   "outputs": [],
   "source": [
    "def next_base():\n",
    "  '''\n",
    "     This function generates a DNA sequence base.\n",
    "     It's how Illumina sequencing works.\n",
    "  '''\n",
    "  bases = [\"A\", \"G\", \"T\", \"C\"]\n",
    "  print(bases[0])\n",
    "\n",
    "next_base()"
   ]
  },
  {
   "cell_type": "markdown",
   "metadata": {
    "id": "5o2mco2220b1"
   },
   "source": [
    "### Docstrings\n",
    "* string defined immediately after the def line\n",
    "* usually triple quoted since it may be multi-line\n",
    "* not required but a good way to document your functions\n",
    "* IDEs use the docstring to make your life easier\n",
    "* automates output of `help(function)`"
   ]
  },
  {
   "cell_type": "markdown",
   "metadata": {
    "id": "bRhweVvt3CVf"
   },
   "source": [
    "### Example Function"
   ]
  },
  {
   "cell_type": "code",
   "execution_count": null,
   "metadata": {
    "id": "xbJeh1p5QCvy",
    "outputId": "f4f165e5-6254-40bc-a67c-a255d209684f"
   },
   "outputs": [],
   "source": [
    "# Reverse complement a DNA sequence\n",
    "# Here's an example function definition...\n",
    "def rc(dna):\n",
    "    \"\"\"\n",
    "    Reverse complement a DNA sequence\n",
    "    :param dna: The DNA sequence\n",
    "    :type dna: str\n",
    "    :return: The reverse complement of the DNA sequence\n",
    "    :rtype: str\n",
    "    \"\"\"\n",
    "    complements = str.maketrans('acgtrymkbdhvACGTRYMKBDHV', 'tgcayrkmvhdbTGCAYRKMVHDB')\n",
    "    rcseq = dna.translate(complements)[::-1]\n",
    "    return rcseq"
   ]
  },
  {
   "cell_type": "code",
   "execution_count": null,
   "metadata": {
    "id": "-QC40fS6P6eW"
   },
   "outputs": [],
   "source": [
    "# Get help about this function...\n",
    "help(rc)"
   ]
  },
  {
   "cell_type": "code",
   "execution_count": null,
   "metadata": {
    "id": "JQ3S4ickQSHo"
   },
   "outputs": [],
   "source": [
    "# And here's how we would call this function...\n",
    "sequence = \"ATCGATCGCATAGCTACGACTAGCTACGACTGACT\"\n",
    "rc(sequence)"
   ]
  },
  {
   "cell_type": "markdown",
   "metadata": {
    "id": "3aRAKCjF44YD"
   },
   "source": [
    "### Passing Values to a Function\n",
    "\n",
    "* The variables we define in a function to take on the values passed by the caller are called parameters.\n",
    "* In this code, `a`, `b` and `c` are parameters:\n",
    "```\n",
    "def sum(a, b, c):\n",
    "    return a + b + c\n",
    "```\n",
    "* The values supplied by the caller when calling a function are called arguments.\n",
    "* In this code, `1`, `2`, and `3` are arguments:\n",
    "```\n",
    "sum(1, 2, 3)\n",
    "```\n",
    "\n",
    "So in our example above, the `function` `rc()` has one parameter (`dna`) and the code to run it passes one argument (`sequence`).\n",
    "\n",
    "Don't get hung up on this, most people use argument and parameter interchangeably.\n"
   ]
  },
  {
   "cell_type": "markdown",
   "metadata": {
    "id": "RxZNVXjg5hyP"
   },
   "source": [
    "### Passing Arguments\n",
    "* Functions can define any number of parameters, including zero.\n",
    "* Multiple parameters are separated by commas, like this...\n",
    "```\n",
    "def product(a, b, c):\n",
    "    return a * b * c\n",
    "```\n",
    "* If you pass the wrong number of arguments, you'll hear about it:\n",
    "```\n",
    "product(1, 2)\n",
    "...\n",
    "TypeError: product() takes exactly 3 positional argument (2 given)\n",
    "...\n",
    "```\n"
   ]
  },
  {
   "cell_type": "markdown",
   "metadata": {
    "id": "kNuuRlHm5x51"
   },
   "source": [
    "### Return Values\n",
    "\n",
    "Instead of printing the result, we can also have the function return a result to the caller so that the caller can print it or use it in a calculation.\n",
    "\n",
    "For example, our `rc()` function returns the reverse complement of the sequence. We can store that in a new variable and do things with it.\n",
    "\n",
    "```\n",
    "sequence = \"ATGCATCGCATCGATCAGCTACGACTCGACTCGAT\"\n",
    "reverse_complement = rc(sequence)\n",
    "# do something with reverse_complement\n",
    "```\n"
   ]
  },
  {
   "cell_type": "markdown",
   "metadata": {
    "id": "1faLXr5p6BVU",
    "lines_to_next_cell": 2
   },
   "source": [
    "* Functions return a value to the caller via the `return` statement.\n",
    "* The `return` statement causes two things to happen...\n",
    "  * the function ends and control is returned to the caller\n",
    "  * the returned value is passed back to the caller\n",
    "* You can have as many return statements as you like (including zero).\n",
    "* If the caller wants to do something with a returned value, it needs to save it or use it in an expression...\n"
   ]
  },
  {
   "cell_type": "markdown",
   "metadata": {
    "id": "f-U1JoLp1gcI"
   },
   "source": [
    "# Lesson 7 - Modules\n",
    "\n",
    "`import` is how you use someone else's code.\n",
    "\n",
    "Let's say we want to generate a random number between 1 and 100. We use the Python `random` module, like this..."
   ]
  },
  {
   "cell_type": "code",
   "execution_count": null,
   "metadata": {
    "id": "I-UIGmb5cIM6",
    "lines_to_next_cell": 0,
    "outputId": "5350acdf-b226-4c29-9846-db1265e9d0b1"
   },
   "outputs": [],
   "source": [
    "import random\n",
    "\n",
    "def next_base():\n",
    "  '''\n",
    "     This function generates a DNA sequence base.\n",
    "     It's how Illumina sequencing works.\n",
    "  '''\n",
    "  bases = [\"A\", \"G\", \"T\", \"C\"]\n",
    "  return bases[random.randint(0, 3)]\n",
    "\n",
    "\n",
    "print(\"Here is a new DNA sequence for you:\")\n",
    "for i in range(150):\n",
    "    print(next_base(), end=\"\")\n",
    "print()"
   ]
  },
  {
   "cell_type": "markdown",
   "metadata": {
    "id": "1Yq51ZLi9mpi"
   },
   "source": [
    "## The `from` Statement\n",
    "\n",
    "* You can also import code using this syntax...\n",
    "```\n",
    "from module-name import *\n",
    "```\n",
    "* This says loads all the names (*) from the designated module \n",
    "* With this kind of import, the module names get loaded into the global namespace, which means you don't need to qualify your accesses with the `module-name.` prefix.\n",
    "* For example, you could do this...\n",
    "```\n",
    "from random import *\n",
    "rand_val = randint(0, 3)\n",
    "# I didn't need to use random.randint(0, 3)\n",
    "```\n",
    "\n",
    "* You can also import selected names from a module\n",
    "```\n",
    "from random import randint, choice\n",
    "```\n",
    "* This says load only those names explicitly listed (`choice` and `randint`, in this case) from the designated module into the global namespace.\n",
    "* As in the previous example, after this import the names are loaded into the common global namespace so there is no need to qualify them...\n",
    "```\n",
    "from random import randint, choice\n",
    "\n",
    "bases = [\"A\", \"G\", \"T\", \"C\"]\n",
    "print(bases[randint(0,30])\n",
    "print(choice(bases))\n",
    "```\n",
    "\n"
   ]
  },
  {
   "cell_type": "markdown",
   "metadata": {
    "id": "iV5LLDaw92Ea",
    "lines_to_next_cell": 0
   },
   "source": [
    "## When to use `import` vs. `from`\n",
    "* Generally, it's better to use `import` because...\n",
    "  * less risk of name clashes and other surprises\n",
    "  * makes your code more explicit and clear\n",
    "* Occasionally, you may find that you use a module’s functions so frequently that it pays to import it directly into the global namespace with `from`.\n",
    "* That’s fine but do so carefully and watch out for name conflicts.\n"
   ]
  },
  {
   "cell_type": "markdown",
   "metadata": {},
   "source": [
    "\n"
   ]
  }
 ],
 "metadata": {
  "colab": {
   "provenance": [
    {
     "file_id": "15KAyGvriQwRoXQa3t70jmi3XumKBxDRi",
     "timestamp": 1718237753735
    }
   ]
  },
  "kernelspec": {
   "display_name": "Python 3 (ipykernel)",
   "language": "python",
   "name": "python3"
  },
  "language_info": {
   "codemirror_mode": {
    "name": "ipython",
    "version": 3
   },
   "file_extension": ".py",
   "mimetype": "text/x-python",
   "name": "python",
   "nbconvert_exporter": "python",
   "pygments_lexer": "ipython3",
   "version": "3.9.5"
  }
 },
 "nbformat": 4,
 "nbformat_minor": 4
}
